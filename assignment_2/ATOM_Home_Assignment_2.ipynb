{
 "cells": [
  {
   "cell_type": "markdown",
   "metadata": {
    "colab_type": "text",
    "id": "view-in-github"
   },
   "source": [
    "<a href=\"https://colab.research.google.com/github/anhdanggit/atom-assignments/blob/main/assignment_2/ATOM_Home_Assignment_2.ipynb\" target=\"_parent\"><img src=\"https://colab.research.google.com/assets/colab-badge.svg\" alt=\"Open In Colab\"/></a>"
   ]
  },
  {
   "cell_type": "markdown",
   "metadata": {
    "id": "WNjHxu0-0Urk"
   },
   "source": [
    "## 0. Initial Set-up"
   ]
  },
  {
   "cell_type": "markdown",
   "metadata": {
    "id": "ky3QJTULRGhG"
   },
   "source": [
    "1. Clone this Github repo về máy: https://github.com/anhdanggit/atom-assignments\n",
    "2. Mở file `env_variable_test.json`. Thay đổi & Đổi tên thành `env_variable.json`: \n",
    "  - `\"SENDER_EMAIL\"`: Email của bạn\n",
    "  - `\"PWD_EMAIL\"`: App Password tương ứng với Email trên (Hướng Dẫn: [link](https://support.google.com/accounts/answer/185833?p=InvalidSecondFactor&visit_id=637562139468610337-3856071038&rd=1))\n",
    "  - `\"WEATHER_API_KEY\"`: API Key của account của bạn trên [Open Weather Map](https://support.google.com/accounts/answer/185833?p=InvalidSecondFactor&visit_id=637562139468610337-3856071038&rd=1)\n",
    "3. Upload lên Files hoặc Google Drive, nếu bạn sử dụng Google Colab.\n",
    "\n",
    "**!!!! NOTICE !!!!** File json sau khi cho các thông tin thực của bạn, KHÔNG đưa lên Github hay để public. Tips: Để tên `env_variable.json` trong file `.gitignore` để Git tự động ignore không publish file này."
   ]
  },
  {
   "cell_type": "markdown",
   "metadata": {
    "id": "mQHvoBrV2wAS"
   },
   "source": [
    "### 0.1. Environment Variables"
   ]
  },
  {
   "cell_type": "markdown",
   "metadata": {
    "id": "wsarlH3fTc0_"
   },
   "source": [
    "Đặt `!` phía trước 1 cell để bắt đầu viết lệnh [Shell Commands](https://docs.cs.cf.ac.uk/notes/linux-shell-commands/) (đây là các lệnh giao tiếp với OS - Hệ điều hành đang dùng bên dưới để chạy Colab Notebook)"
   ]
  },
  {
   "cell_type": "code",
   "execution_count": null,
   "metadata": {
    "colab": {
     "base_uri": "https://localhost:8080/"
    },
    "id": "I2nTgPRQ1MjI",
    "outputId": "54be56d9-0817-4158-8369-0678f4576d26"
   },
   "outputs": [],
   "source": [
    "!ls #để liệt kể các files đang có trong cùng \"folder\" với file notebook"
   ]
  },
  {
   "cell_type": "code",
   "execution_count": null,
   "metadata": {
    "colab": {
     "base_uri": "https://localhost:8080/"
    },
    "id": "3EPceevo0yWp",
    "outputId": "61fed2a0-6081-41be-ba05-a9a211c04764"
   },
   "outputs": [],
   "source": [
    "!python3 env_variables.json #để chạy một file python (bên ngoài notebook)"
   ]
  },
  {
   "cell_type": "code",
   "execution_count": null,
   "metadata": {
    "id": "j3Fv0NUdXyd1"
   },
   "outputs": [],
   "source": [
    "import json\n",
    "with open('env_variables.json', 'r') as j:\n",
    "    json_data = json.load(j)\n",
    "    print(json_data)"
   ]
  },
  {
   "cell_type": "markdown",
   "metadata": {
    "id": "ZWYv-VjeZpK2"
   },
   "source": [
    "### Concept: JSON File\n",
    "* JSON là một dạng đa ta phổ biến, có dạng key-value. Nghĩa là những giá trị bên trong có thể \"gọi\" bằng các key, tương tự cấu trúc của Dictionary (Week 2)\n",
    "* Reference: [JSON Data in Python](https://www.datacamp.com/community/tutorials/json-data-python?utm_source=adwords_ppc&utm_campaignid=1455363063&utm_adgroupid=65083631748&utm_device=c&utm_keyword=&utm_matchtype=b&utm_network=g&utm_adpostion=&utm_creative=278443377095&utm_targetid=aud-522010995285:dsa-429603003980&utm_loc_interest_ms=&utm_loc_physical_ms=1028581&gclid=Cj0KCQjws-OEBhCkARIsAPhOkIYshv7eHMZhcLYnRmnCVdoXMbchc_nxeSYbyoGnSlauIGaJWudvBf8aAql6EALw_wcB)"
   ]
  },
  {
   "cell_type": "markdown",
   "metadata": {
    "id": "TPqTOA8DbGgq"
   },
   "source": [
    "### TODO #1\n",
    "1. Thử un-comment bằng cách để dấu nháy chuột ở dòng print(json_data) và nhấn `Ctrl+/`. Sau đó, chạy lại.\n",
    "2. Cấu trúc của `json_data` tương tự `dictionary`: thử gọi biến `SENDER_EMAIL` trong file json và `print`\n",
    "=> Task này sẽ giúp bạn tìm hiểu thêm về cấu trúc của 1 file JSON."
   ]
  },
  {
   "cell_type": "markdown",
   "metadata": {
    "id": "1SU_ozhPU2B1"
   },
   "source": [
    "### Concept: Environment Variables\n",
    "* [Environment Variables](https://medium.com/chingu/an-introduction-to-environment-variables-and-how-to-use-them-f602f66d15fa#:~:text=An%20environment%20variable%20is%20a,at%20a%20point%20in%20time.) là các biến (variable) được set bên ngoài program\n",
    "* Lý do: Có một số value có tính nhạy cảm (password), việc để trong code (và đưa lên Git) sẽ không bảo mật các thông tin này\n",
    "\n",
    "Trong đoạn code dưới, ta giữ các thông tin nhạy cảm khỏi code bằng việc lưu giữ trong một file json, và gọi các giá trị `SENDER_MAIL`, `PWD_EMAIL`, `API_KEY` lưu vào Environmental Variables."
   ]
  },
  {
   "cell_type": "code",
   "execution_count": null,
   "metadata": {
    "colab": {
     "base_uri": "https://localhost:8080/"
    },
    "id": "4vlqLayL2IDd",
    "outputId": "86786eac-de8f-41b3-9ea4-e9d366db64a0"
   },
   "outputs": [],
   "source": [
    "import os\n",
    "os.environ['SENDER_EMAIL'] = json_data['SENDER_EMAIL'] ## INPUT: Your Email\n",
    "os.environ['PWD_EMAIL'] = json_data['PWD_EMAIL'] ## INPUT: Your App Password\n",
    "os.environ['WEATHER_API_KEY'] = json_data['WEATHER_API_KEY'] ## INPUT: OpenWeather API Key\n",
    "print('DONE! Get Env. Variable')"
   ]
  },
  {
   "cell_type": "code",
   "execution_count": null,
   "metadata": {
    "colab": {
     "base_uri": "https://localhost:8080/"
    },
    "id": "pnWQlWHMZja7",
    "outputId": "af9cb1b9-1d07-4c67-862e-12aa4624ba61"
   },
   "outputs": [],
   "source": [
    "print(os.environ['SENDER_EMAIL'])\n",
    "print(os)"
   ]
  },
  {
   "cell_type": "markdown",
   "metadata": {
    "id": "fnJtI0S12eh-"
   },
   "source": [
    "### 0.2. Import Modules\n",
    "\n",
    "\n",
    "*   [Modules](https://docs.python.org/3/tutorial/modules.html): là một file gồm các definitions & statements trong python. Nói nôm ra, modules là một gói chứa nhiều functions. \n",
    "*   Dấu `.` chỉ sự \"thuộc về\": a.b.c nghĩa là c nằm trong b, b nằm trong a. Ví dụ: `json.load()` nghĩa là function `load()` trong module `json()`\n",
    "*   Load một module bằng `import` \n",
    "*   Install một module vào máy bằng: `!pip install`. Có dấu `!`, nghĩa là **Shell Commands**\n",
    "\n",
    "Dưới đây ta import tất cả các module cần sử dụng cho Assignment, một practice tốt là gom hết các modules và install trên đầu notebook/file code.\n",
    "\n"
   ]
  },
  {
   "cell_type": "code",
   "execution_count": null,
   "metadata": {
    "id": "pbOfgkfU3XYz"
   },
   "outputs": [],
   "source": [
    "!pip install beautifulsoup4"
   ]
  },
  {
   "cell_type": "code",
   "execution_count": null,
   "metadata": {
    "id": "C0dJywJtOtEK"
   },
   "outputs": [],
   "source": [
    "import email, smtplib, ssl # to automate email\n",
    "import email as mail\n",
    "\n",
    "from email import encoders\n",
    "from email.mime.base import MIMEBase\n",
    "from email.mime.multipart import MIMEMultipart\n",
    "from email.mime.text import MIMEText\n",
    "\n",
    "import requests, json # to pull API, and work with json\n",
    "import datetime as dt # to work with date, time\n",
    "from bs4 import BeautifulSoup # to work with web scrapping (HTML)\n",
    "import pandas as pd # to work with tables (DataFrames) data\n",
    "from IPython.core.display import HTML # to display HTML in the notebook"
   ]
  },
  {
   "cell_type": "markdown",
   "metadata": {
    "id": "KkJiWpgkgNyB"
   },
   "source": [
    "## 1. Email Bot\n",
    "Đoạn code sau để gửi email:\n",
    "- Từ: `SENDER_EMAIL`\n",
    "- Đến: `RECEIVER_MAIL`\n",
    "- Với subject và body gồm 3 phần: Phần nội dung được viết bằng HTML, nếu chưa quen thuộc bạn có thể dùng công cụ xong để convert từ style của MS Word sang HTML: https://wordtohtml.net/"
   ]
  },
  {
   "cell_type": "code",
   "execution_count": null,
   "metadata": {
    "colab": {
     "base_uri": "https://localhost:8080/"
    },
    "id": "9unEmluARSpH",
    "outputId": "bad054b2-da52-4132-ea4c-d93a79eaa6d5"
   },
   "outputs": [],
   "source": [
    "subject = \"Test Email\" #INPUT1: Subject of the Email\n",
    "receiver_email = input(\"Your email: \") #INPUT2: email address to receive the email\n",
    "sender_email = os.environ['SENDER_EMAIL']\n",
    "password = os.environ['PWD_EMAIL'] \n",
    "\n",
    "# (1) Create the email head (sender, receiver, and subject)\n",
    "email = MIMEMultipart()\n",
    "email[\"From\"] = sender_email\n",
    "email[\"To\"] = receiver_email \n",
    "email[\"Subject\"] = subject\n",
    "\n",
    "# (2) Create Body part\n",
    "# We use html, you can convert word to html: https://wordtohtml.net/\n",
    "html1 = \"\"\"\n",
    "    <html>\n",
    "    <h1><strong>Hello World</strong></h1>\n",
    "    <body>\n",
    "    <p>Hi!<br>\n",
    "       How are you?<br>\n",
    "       Here is the <a href=\"https://docs.python.org/3.4/library/email-examples.html\">link</a> you wanted.\n",
    "    </p>\n",
    "    </body>\n",
    "    </html>\n",
    "    \"\"\"\n",
    "html2 = \"\"\"\n",
    "<html>\n",
    "Email sent at <b>{}</b><br>\n",
    "</html>\n",
    "\"\"\".format(dt.datetime.now().isoformat())\n",
    "\n",
    "text3 = '--- End ----'\n",
    "\n",
    "# Combine parts\n",
    "part1 = MIMEText(html1, 'html')\n",
    "part2 = MIMEText(html2, 'html')\n",
    "part3 = MIMEText(text3, 'plain')\n",
    "\n",
    "email.attach(part1)\n",
    "email.attach(part2)\n",
    "email.attach(part3)\n",
    "\n",
    "# (3) Create SMTP session for sending the mail\n",
    "session = smtplib.SMTP('smtp.gmail.com', 587) #use gmail with port\n",
    "session.starttls() #enable security\n",
    "session.login(sender_email, password) #login with mail_id and password\n",
    "text = email.as_string()\n",
    "session.sendmail(sender_email, receiver_email, text)\n",
    "session.quit()\n",
    "\n",
    "print('DONE! Mail Sent'.format(sender_email, receiver_email))"
   ]
  },
  {
   "cell_type": "markdown",
   "metadata": {
    "id": "LKXSTGhMiyGa"
   },
   "source": [
    "### TODO #2\n",
    "1.   Từ Email Bot Code viết function `send_email`:\n",
    "  - **inputs**: subject, receiver_email, part1, part2, part3\n",
    "  - **output**: thực hiện việc gửi email và in ra kết quả\n",
    "2.   Kết hợp Loops (For ... in) với function để gửi cùng nội dung email đến 1 list user: `email_list = ['abc@gmail.com', 'xyz@gmail.com']` (thay đổi email bằng các email thật của bạn để test)"
   ]
  },
  {
   "cell_type": "code",
   "execution_count": null,
   "metadata": {
    "id": "2YV6peDOmNkA"
   },
   "outputs": [],
   "source": [
    "def send_email(receiver_email, subject, parts):\n",
    "    email = MIMEMultipart() \n",
    "    email[\"To\"] = receiver_email\n",
    "    email[\"Subject\"] = subject \n",
    "    \n",
    "    [email.attach(MIMEText(i)) for i in parts] \n",
    "    text = email.as_string()\n",
    "    \n",
    "    session = smtplib.SMTP('smtp.gmail.com', 587) \n",
    "    session.starttls() \n",
    "    session.login(sender_email, password) \n",
    "    text = email.as_string()\n",
    "    session.sendmail(sender_email, receiver_email, text)\n",
    "    session.quit()\n",
    "    print('DONE! Mail Sent'.format(sender_email, receiver_email))"
   ]
  },
  {
   "cell_type": "code",
   "execution_count": null,
   "metadata": {
    "id": "4ydkiKUqmhMw"
   },
   "outputs": [],
   "source": [
    "email_list = ['cnhhoang850@gmail.com', 'ipadsucker246@gmail.com']\n",
    "for i in email_list:\n",
    "  send_email(i, 'Ads', ['Buy X products', \"Because it's good\", \"That's all!\"])\n"
   ]
  },
  {
   "cell_type": "markdown",
   "metadata": {
    "id": "RM7HKTGIh9IC"
   },
   "source": [
    "## Call API"
   ]
  },
  {
   "cell_type": "markdown",
   "metadata": {
    "id": "z22CtbW8mvqh"
   },
   "source": [
    "### Concept: API\n",
    "* **API** ([Application Programming Interface](https://en.wikipedia.org/wiki/API)): Là cách thức và phương tiện để 2 applications nói chuyện với nhau. Ở đây là giữa Python program trên Colab của bạn và các Web application khác. \n",
    "* Đây là concept nền tảng trong việc Automation\n",
    "* API nhận input là JSON file (có khi không nhận) và trả lại output là JSON file => Request/Call API\n",
    "* Đây là một cách phổ biến đế gửi và nhận data\n",
    "\n",
    "Đoạn code bên dưới: \n",
    "* Lấy input là `API_KEY`, country, ta request **API** của Open Weather\n",
    "* Được trả lại file kết quả dưới dạng `JSON`\n",
    "* Trích xuất 1 vài thông tin, và lưu ra file text"
   ]
  },
  {
   "cell_type": "code",
   "execution_count": null,
   "metadata": {
    "colab": {
     "base_uri": "https://localhost:8080/"
    },
    "id": "3ZzdPfFbiCZa",
    "outputId": "e545d025-5a9c-444a-8255-c489e81d6bf6"
   },
   "outputs": [],
   "source": [
    "# base URL\n",
    "BASE_URL = \"https://api.openweathermap.org/data/2.5/weather?\"\n",
    "# City Name \n",
    "CITY = \"London\"\n",
    "# API key \n",
    "API_KEY = os.environ['WEATHER_API_KEY']\n",
    "# upadting the URL\n",
    "URL = BASE_URL + \"q=\" + CITY + \"&appid=\" + API_KEY\n",
    "# HTTP request\n",
    "response = requests.get(URL)\n",
    "# checking the status code of the request\n",
    "if response.status_code == 200:\n",
    "   # getting data in the json format\n",
    "   data = response.json()\n",
    "   # getting the main dict block\n",
    "   main = data['main']\n",
    "   # getting temperature\n",
    "   temperature = main['temp']\n",
    "   # getting the humidity\n",
    "   humidity = main['humidity']\n",
    "   # getting the pressure\n",
    "   pressure = main['pressure']\n",
    "   # weather report\n",
    "   report = data['weather']\n",
    "   f = open('weather.txt','w') ## write to text file\n",
    "   print(f\"{CITY:-^30}\", file=f)\n",
    "   print(f\"Temperature: {temperature}\", file=f)\n",
    "   print(f\"Humidity: {humidity}\", file=f)\n",
    "   print(f\"Pressure: {pressure}\", file=f)\n",
    "   print(f\"Weather Report: {report[0]['description']}\", file=f)\n",
    "   f.close()\n",
    "   print(\"DONE! Output in weather.txt file\")\n",
    "else:\n",
    "   # showing the error message\n",
    "   print(\"Error in the HTTP request\")\n",
    "   print(response)"
   ]
  },
  {
   "cell_type": "code",
   "execution_count": null,
   "metadata": {
    "colab": {
     "base_uri": "https://localhost:8080/"
    },
    "id": "aOTClQTCn7wh",
    "outputId": "c8a74544-6073-4d72-9c4c-9254fd99d3c2"
   },
   "outputs": [],
   "source": [
    "!ls"
   ]
  },
  {
   "cell_type": "code",
   "execution_count": null,
   "metadata": {
    "colab": {
     "base_uri": "https://localhost:8080/"
    },
    "id": "I_4mwiKRpVzJ",
    "outputId": "a354c204-8110-4186-ae37-9cbd72210e9f"
   },
   "outputs": [],
   "source": [
    "print(open(\"weather.txt\", \"r\").read())"
   ]
  },
  {
   "cell_type": "code",
   "execution_count": null,
   "metadata": {
    "colab": {
     "base_uri": "https://localhost:8080/"
    },
    "id": "kqwsvfxolao7",
    "outputId": "0a860e33-6993-4b70-e513-93d63ec075a0"
   },
   "outputs": [],
   "source": [
    "# Khám phá file JSON\n",
    "data"
   ]
  },
  {
   "cell_type": "code",
   "execution_count": null,
   "metadata": {
    "colab": {
     "base_uri": "https://localhost:8080/",
     "height": 35
    },
    "id": "9m9ccXB6nOyN",
    "outputId": "2bd4169e-ea31-4b5e-b4a4-dfe02aaddd47"
   },
   "outputs": [],
   "source": [
    "data['name']"
   ]
  },
  {
   "cell_type": "code",
   "execution_count": null,
   "metadata": {
    "colab": {
     "base_uri": "https://localhost:8080/"
    },
    "id": "-hfJui94nQ8i",
    "outputId": "c5e67e49-ad39-4310-f170-a5ee32fe5b3a"
   },
   "outputs": [],
   "source": [
    "data['coord']['lat']"
   ]
  },
  {
   "cell_type": "markdown",
   "metadata": {
    "id": "jbmpcldqGhuk"
   },
   "source": [
    "### TODO #3\n",
    "1. Trên file json kết quả:\n",
    "  - Lấy thông tin trạng thái thời tiết (weather) chính (main) ở London\n",
    "  - Lấy lat & lon (kinh độ và vĩ độ của London)\n",
    "2. Viết function `get_weather_data` \n",
    "  - inputs: city\n",
    "  - outputs: đoạn text thông tin thời tiết\n",
    "3. Dùng function `send_email` in **TODO #1**, thay phần 3 trong nội dùng email bằng thông tin thời tiết của London gửi cho 1 địa chỉ email của bạn"
   ]
  },
  {
   "cell_type": "code",
   "execution_count": null,
   "metadata": {
    "id": "p9tm-FzIoof1"
   },
   "outputs": [],
   "source": [
    "# YOUR CODE\n",
    "print(data['main'], data['coord'])"
   ]
  },
  {
   "cell_type": "code",
   "execution_count": null,
   "metadata": {
    "id": "onTj-Et3o2PO"
   },
   "outputs": [],
   "source": [
    "def get_weather_data(city):\n",
    "  url = BASE_URL + \"q=\" + city + \"&appid=\" + API_KEY\n",
    "  res = requests.get(url)\n",
    "  \n",
    "  if res.status_code == 200: \n",
    "   data = response.json()\n",
    "   # getting the main dict block\n",
    "   main = data['main']\n",
    "   # getting temperature\n",
    "   temperature = main['temp']\n",
    "   # getting the humidity\n",
    "   humidity = main['humidity']\n",
    "   # getting the pressure\n",
    "   pressure = main['pressure']\n",
    "   \n",
    "   result = \"\"\n",
    "   result += (f\"{city:.^30}\") + '\\n'\n",
    "   result += (f\"Temperature: {temperature}\") + '\\n'\n",
    "   result += (f\"Humidity: {humidity}\") + '\\n'\n",
    "   result += (f\"Pressure: {pressure}\") + '\\n'\n",
    "   result += (f\"Weather Report: {report[0]['description']}\") + '\\n'\n",
    "   print(result)\n",
    "   return result\n",
    "  else: \n",
    "   print(res)\n",
    "\n",
    "info = get_weather_data('Ho Chi Minh')\n",
    "        "
   ]
  },
  {
   "cell_type": "code",
   "execution_count": null,
   "metadata": {
    "id": "BxVhcoDuo78n"
   },
   "outputs": [],
   "source": [
    "info = get_weather_data('London')\n",
    "tosend = info.split('\\n')\n",
    "\n",
    "send_email('cnhhoang850@gmail.com', \"Today's weather\", tosend)\n"
   ]
  },
  {
   "cell_type": "markdown",
   "metadata": {
    "id": "qdAc1M91tLRV"
   },
   "source": [
    "## Web Scrapping"
   ]
  },
  {
   "cell_type": "markdown",
   "metadata": {
    "id": "9lJY0KlSrLIy"
   },
   "source": [
    "### Concept: Web Scrapping\n",
    "* Web Scrapping là hoạt động lấy data từ các website. Nội dung của các website được trình bày bằng HTML\n",
    "* Để hiểu cấu trúc của HTML: Có thể vào `Chrome => More Tools => Developer Tools`\n",
    "* Cấu trúc và cách lấy giá trị của HTML cũng tương tự như JSON và Dictionary.\n",
    "* BeautifulSoup là một modules cho phép ta trích xuất thông tin từ HTML dễ dàng hơn\n",
    "\n",
    "**Reference**\n",
    "https://www.freecodecamp.org/news/scraping-wikipedia-articles-with-python/"
   ]
  },
  {
   "cell_type": "code",
   "execution_count": null,
   "metadata": {
    "colab": {
     "base_uri": "https://localhost:8080/"
    },
    "id": "Bnp36lyEtxS0",
    "outputId": "ef826dab-a7d0-4bdf-ee2e-30008d2de06d"
   },
   "outputs": [],
   "source": [
    "response = requests.get(\n",
    "\turl=\"https://en.wikipedia.org/wiki/COVID-19\",\n",
    "  )\n",
    "print(\"API Status Code: \"+ str(response.status_code))\n",
    "soup = BeautifulSoup(response.content, 'html.parser')\n",
    "\n",
    "title = soup.find(id=\"firstHeading\")\n",
    "print(title.string)"
   ]
  },
  {
   "cell_type": "code",
   "execution_count": null,
   "metadata": {
    "colab": {
     "base_uri": "https://localhost:8080/"
    },
    "id": "lY8xzPlJt5U3",
    "outputId": "ee020655-1162-4859-9520-25dedbf476e1"
   },
   "outputs": [],
   "source": [
    "response.content ## Explore contents"
   ]
  },
  {
   "cell_type": "code",
   "execution_count": null,
   "metadata": {
    "id": "jvjNUghruM3j"
   },
   "outputs": [],
   "source": [
    "# Get all the links\n",
    "p = soup.find(id=\"bodyContent\").find_all(\"p\")\n",
    "print(p)"
   ]
  },
  {
   "cell_type": "code",
   "execution_count": null,
   "metadata": {
    "colab": {
     "base_uri": "https://localhost:8080/",
     "height": 67
    },
    "id": "Hecg5C84vkzJ",
    "outputId": "6c25c4ce-f871-4284-b75b-b2ffd9ebcfd0"
   },
   "outputs": [],
   "source": [
    "from IPython.core.display import HTML\n",
    "HTML(str(p[3]))"
   ]
  },
  {
   "cell_type": "code",
   "execution_count": null,
   "metadata": {},
   "outputs": [],
   "source": [
    "#TODO 4\n",
    "k = p[3].getText()\n",
    "\n",
    "send_email('cnhhoang850@gmail.com', 'Covid', ['Hey', 'This is a COVID notice', k ])"
   ]
  },
  {
   "cell_type": "markdown",
   "metadata": {
    "id": "d7YEfY3qqq10"
   },
   "source": [
    "### TODO #4\n",
    "1. Dùng function `send_email` in Excercise 1.1, thay phần 3 trong nội dùng email bằng thông tin COVID-19 từ Wikipedia gửi cho 1 địa chỉ email của bạn"
   ]
  },
  {
   "cell_type": "markdown",
   "metadata": {
    "id": "kxfS-b_T2W0a"
   },
   "source": [
    "## CSV"
   ]
  },
  {
   "cell_type": "markdown",
   "metadata": {
    "id": "3ssJNK-0rUo4"
   },
   "source": [
    "### Concept CSV\n",
    "* CSV là dạng data có các cột được ngăn cách bằng dấu phẩy ([Comma-separated value](https://en.wikipedia.org/wiki/Comma-separated_values#:~:text=A%20comma%2Dseparated%20values%20(CSV,more%20fields%2C%20separated%20by%20commas.))\n",
    "* Đây là dạng data (bảng) cực kỳ phổ biến trong Data Analytics & Data Science\n",
    "* Có thể đọc, ghi, và xử lý bằng `pandas`"
   ]
  },
  {
   "cell_type": "code",
   "execution_count": null,
   "metadata": {
    "id": "36c89M5BymVw"
   },
   "outputs": [],
   "source": [
    "csv = \"\"\"email,contents,city\n",
    "abc@gmail.com,News,Hanoi\n",
    "xyz@gmail.com,Weather,London\n",
    "\"\"\"\n",
    "f = open('email_list.csv','w') ## write to text file\n",
    "f.write(csv)\n",
    "f.close()"
   ]
  },
  {
   "cell_type": "code",
   "execution_count": null,
   "metadata": {
    "colab": {
     "base_uri": "https://localhost:8080/"
    },
    "id": "-yNfErkP20Pt",
    "outputId": "aaf39923-3fe0-4b9a-c98d-909bc6cd8d52"
   },
   "outputs": [],
   "source": [
    "!ls"
   ]
  },
  {
   "cell_type": "code",
   "execution_count": null,
   "metadata": {
    "id": "9BNju19j3B5d"
   },
   "outputs": [],
   "source": [
    "import pandas as pd\n",
    "email_list = pd.read_csv('email_list.csv')"
   ]
  },
  {
   "cell_type": "code",
   "execution_count": null,
   "metadata": {
    "colab": {
     "base_uri": "https://localhost:8080/",
     "height": 111
    },
    "id": "AsOSx3hT3Ih2",
    "outputId": "d88c855a-5a75-4be0-876b-939cad2e77f6"
   },
   "outputs": [],
   "source": [
    "email_list\n"
   ]
  },
  {
   "cell_type": "markdown",
   "metadata": {
    "id": "lDxNcYmxq3zr"
   },
   "source": [
    "### TODO #5\n",
    "* Add các địa chỉ email có ý nghĩa, và thêm dòng vào file csv (lưu ý không có dấu cách)\n",
    "* Dùng code để gửi email cho một list từ csv:\n",
    "  - Nếu email có contents = 'News' => Gửi thông tin COVID19\n",
    "  - Nếu email có contents = 'Weather' => Gửi thông tin thời tiết theo thành phố trong cột city (lưu ý check các city được hỗ trợ trong API)\n",
    "\n",
    "**Hints:**\n",
    "* Sử dụng loops for ... in \n",
    "* Sử dụng function `send_email`, `get_weather_data`"
   ]
  },
  {
   "cell_type": "code",
   "execution_count": null,
   "metadata": {
    "colab": {
     "base_uri": "https://localhost:8080/"
    },
    "id": "EQ9nMwc93KS8",
    "outputId": "03570269-1b07-41f7-f98b-0a8ec0b411bd",
    "scrolled": true
   },
   "outputs": [],
   "source": [
    "for i in list(range(2)):\n",
    "  print('Email #{}'.format(i))\n",
    "  if email_list['contents'][i] == 'News':\n",
    "    print('COVID To: {}'.format(email_list['email'][i]))\n",
    "    response = requests.get(\n",
    "\turl=\"https://en.wikipedia.org/wiki/COVID-19\",\n",
    "    )\n",
    "    print(\"API Status Code: \"+ str(response.status_code))\n",
    "    soup = BeautifulSoup(response.content, 'html.parser')\n",
    "    toSend = soup.findAll('p')[3].getText() + ''\n",
    "    send_email(email_list['email'][i], email_list['contents'][i], [toSend])\n",
    "\n",
    "  elif email_list['contents'][i] == 'Weather':\n",
    "    print('Weather To: {}'.format(email_list['email'][i]))\n",
    "    weather = get_weather_data('London')\n",
    "    weatherSend = info.split('\\n')\n",
    "    print('sth')\n",
    "    send_email(email_list['email'][i], email_list['contents'][i], weatherSend)\n",
    "  else:\n",
    "    print('Invalid Contents')\n",
    "print('DONE!')"
   ]
  },
  {
   "cell_type": "code",
   "execution_count": null,
   "metadata": {},
   "outputs": [],
   "source": []
  },
  {
   "cell_type": "code",
   "execution_count": null,
   "metadata": {},
   "outputs": [],
   "source": []
  }
 ],
 "metadata": {
  "colab": {
   "authorship_tag": "ABX9TyPr64JyVtUmUnV7MTJJnLmW",
   "collapsed_sections": [],
   "include_colab_link": true,
   "name": "ATOM | Home Assignment 2.ipynb",
   "provenance": [],
   "toc_visible": true
  },
  "kernelspec": {
   "display_name": "Python 3",
   "language": "python",
   "name": "python3"
  },
  "language_info": {
   "codemirror_mode": {
    "name": "ipython",
    "version": 3
   },
   "file_extension": ".py",
   "mimetype": "text/x-python",
   "name": "python",
   "nbconvert_exporter": "python",
   "pygments_lexer": "ipython3",
   "version": "3.9.4"
  }
 },
 "nbformat": 4,
 "nbformat_minor": 1
}
