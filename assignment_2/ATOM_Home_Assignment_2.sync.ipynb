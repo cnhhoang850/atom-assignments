{
 "cells": [
  {
   "cell_type": "markdown",
   "id": "1387af23",
   "metadata": {},
   "source": [
    "# %%\n",
    "print('hello')"
   ]
  }
 ],
 "metadata": {},
 "nbformat": 4,
 "nbformat_minor": 5
}
