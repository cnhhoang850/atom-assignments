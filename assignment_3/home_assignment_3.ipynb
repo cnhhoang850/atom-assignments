{
 "cells": [
  {
   "cell_type": "markdown",
   "metadata": {
    "id": "4w2e0D-hni2p"
   },
   "source": [
    "# HOME ASSIGNMENT #3: SLACK API - TO GSHEET\n",
    "**Mục đích của bài Assignment**\n",
    "- Lấy thông tin các Users từ Slack của DataCracy (BTC, Mentors và Learners)\n",
    "- `**[Optional 1]**` Đưa danh sách Users lên Google Spreadsheet, để theo dõi \n",
    "- `**[Optional 2]**` Lấy thông tin Assignment Submission và số Reviews trên `#atom-assignmentnt2` và cập nhật lên Spreadsheet, để theo dõi các học viên đã nộp bài và được review\n",
    "\n",
    "**Các kiến thức sẽ áp dụng**\n",
    "- Ôn lại và luyện tập thêm về concept API (cụ thể sử dụng API Slack)\n",
    "- Trích xuất thông tin từ JSON\n",
    "- Dùng module gspread để đưa thông tin lên Google Spreadsheet"
   ]
  },
  {
   "cell_type": "markdown",
   "metadata": {
    "id": "yitICPVzpRI2"
   },
   "source": [
    "## 0. Load Modules"
   ]
  },
  {
   "cell_type": "code",
   "execution_count": 1,
   "metadata": {
    "id": "G_HCucZ5rSHq"
   },
   "outputs": [],
   "source": [
    "import requests #-> Để gọi API\n",
    "import re #-> Để xử lý data dạng string\n",
    "from datetime import datetime as dt #-> Để xử lý data dạng datetime\n",
    "import gspread #-> Để update data lên Google Spreadsheet\n",
    "from gspread_dataframe import set_with_dataframe #-> Để update data lên Google Spreadsheet\n",
    "import pandas as pd #-> Để update data dạng bản\n",
    "import json \n",
    "from oauth2client.service_account import ServiceAccountCredentials #-> Để nhập Google Spreadsheet Credentials\n",
    "import os"
   ]
  },
  {
   "cell_type": "markdown",
   "metadata": {
    "id": "z7HOk6uMp2K2"
   },
   "source": [
    "## 1. Slack API: User List\n",
    "* Bạn có thể đọc lại về concept API [HERE](https://anhdang.gitbook.io/datacracy/atom/3-data-tools-2/3.2-spotify-api-and-postman)\n",
    "* Assignment này sẽ dùng Slack API để lấy thông tin về Learners và theo dõi các bài tập đã nộp và được review (sau đó cập nhật lên Google Spreadsheet)\n",
    "* ===> **NOTICE**: Slack API authorize bằng Bearer Token `xoxb-...-...-...` (Sẽ được cung cấp riêng)\n",
    "* Update file `env_variable.json` như trong [Assignment#2](../assignment_2/home_assignment_2.ipynb)\n",
    "* ==> Nếu bạn dùng Google Colab, upload file vào Colab ([Hướng dẫn](https://colab.research.google.com/notebooks/io.ipynb))"
   ]
  },
  {
   "cell_type": "code",
   "execution_count": 2,
   "metadata": {
    "colab": {
     "base_uri": "https://localhost:8080/"
    },
    "id": "YoSEHfdTwYRj",
    "outputId": "02b1f5e1-6f9a-4c2b-a481-33284324d1cc"
   },
   "outputs": [
    {
     "name": "stdout",
     "output_type": "stream",
     "text": [
      "env_variables.json  home_assignment_3.ipynb  README.md\tslack-bot-key.json\r\n"
     ]
    }
   ],
   "source": [
    "!ls"
   ]
  },
  {
   "cell_type": "code",
   "execution_count": 4,
   "metadata": {
    "id": "tFPqT2pirhy4"
   },
   "outputs": [],
   "source": [
    "with open('env_variables.json', 'r') as j:\n",
    "    json_data = json.load(j)"
   ]
  },
  {
   "cell_type": "code",
   "execution_count": 5,
   "metadata": {
    "id": "wAzmaVTLrpvH"
   },
   "outputs": [],
   "source": [
    "## Load SLACK_BEARER_TOKEN\n",
    "os.environ['SLACK_BEARER_TOKEN'] = json_data['SLACK_BEARER_TOKEN'] \n"
   ]
  },
  {
   "cell_type": "code",
   "execution_count": 7,
   "metadata": {
    "id": "K_TrDTx138jD"
   },
   "outputs": [
    {
     "name": "stdout",
     "output_type": "stream",
     "text": [
      "[{'id': 'USLACKBOT', 'team_id': 'T01B7SGGMLJ', 'name': 'slackbot', 'deleted': False, 'color': '757575', 'real_name': 'Slackbot', 'tz': 'America/Los_Angeles', 'tz_label': 'Pacific Daylight Time', 'tz_offset': -25200, 'profile': {'title': '', 'phone': '', 'skype': '', 'real_name': 'Slackbot', 'real_name_normalized': 'Slackbot', 'display_name': 'Slackbot', 'display_name_normalized': 'Slackbot', 'fields': None, 'status_text': '', 'status_emoji': '', 'status_expiration': 0, 'avatar_hash': 'sv41d8cd98f0', 'always_active': True, 'first_name': 'slackbot', 'last_name': '', 'image_24': 'https://a.slack-edge.com/80588/img/slackbot_24.png', 'image_32': 'https://a.slack-edge.com/80588/img/slackbot_32.png', 'image_48': 'https://a.slack-edge.com/80588/img/slackbot_48.png', 'image_72': 'https://a.slack-edge.com/80588/img/slackbot_72.png', 'image_192': 'https://a.slack-edge.com/80588/marketing/img/avatars/slackbot/avatar-slackbot.png', 'image_512': 'https://a.slack-edge.com/80588/img/slackbot_512.png', 'status_text_canonical': '', 'team': 'T01B7SGGMLJ'}, 'is_admin': False, 'is_owner': False, 'is_primary_owner': False, 'is_restricted': False, 'is_ultra_restricted': False, 'is_bot': False, 'is_app_user': False, 'updated': 0, 'is_email_confirmed': False}, {'id': 'U01AT4T75JB', 'team_id': 'T01B7SGGMLJ', 'name': 'loclexuan26392', 'deleted': False, 'color': '4bbe2e', 'real_name': 'Loc Le Xuan', 'tz': 'Asia/Bangkok', 'tz_label': 'Indochina Time', 'tz_offset': 25200, 'profile': {'title': '', 'phone': '', 'skype': '', 'real_name': 'Loc Le Xuan', 'real_name_normalized': 'Loc Le Xuan', 'display_name': 'Loc Le Xuan', 'display_name_normalized': 'Loc Le Xuan', 'fields': None, 'status_text': '', 'status_emoji': '', 'status_expiration': 0, 'avatar_hash': '215adf26bbc2', 'image_original': 'https://avatars.slack-edge.com/2020-09-23/1396842133361_215adf26bbc2337f385a_original.jpg', 'is_custom_image': True, 'image_24': 'https://avatars.slack-edge.com/2020-09-23/1396842133361_215adf26bbc2337f385a_24.jpg', 'image_32': 'https://avatars.slack-edge.com/2020-09-23/1396842133361_215adf26bbc2337f385a_32.jpg', 'image_48': 'https://avatars.slack-edge.com/2020-09-23/1396842133361_215adf26bbc2337f385a_48.jpg', 'image_72': 'https://avatars.slack-edge.com/2020-09-23/1396842133361_215adf26bbc2337f385a_72.jpg', 'image_192': 'https://avatars.slack-edge.com/2020-09-23/1396842133361_215adf26bbc2337f385a_192.jpg', 'image_512': 'https://avatars.slack-edge.com/2020-09-23/1396842133361_215adf26bbc2337f385a_512.jpg', 'image_1024': 'https://avatars.slack-edge.com/2020-09-23/1396842133361_215adf26bbc2337f385a_1024.jpg', 'status_text_canonical': '', 'team': 'T01B7SGGMLJ'}, 'is_admin': False, 'is_owner': False, 'is_primary_owner': False, 'is_restricted': False, 'is_ultra_restricted': False, 'is_bot': False, 'is_app_user': False, 'updated': 1600924572, 'is_email_confirmed': True}, {'id': 'U01AVDY7JET', 'team_id': 'T01B7SGGMLJ', 'name': 'locle.ds', 'deleted': False, 'color': 'e7392d', 'real_name': 'Loc Le Xuan', 'tz': 'Asia/Bangkok', 'tz_label': 'Indochina Time', 'tz_offset': 25200, 'profile': {'title': '', 'phone': '', 'skype': '', 'real_name': 'Loc Le Xuan', 'real_name_normalized': 'Loc Le Xuan', 'display_name': 'Loc Le Xuan', 'display_name_normalized': 'Loc Le Xuan', 'fields': None, 'status_text': '', 'status_emoji': '', 'status_expiration': 0, 'avatar_hash': 'e8ab87f2bc95', 'image_original': 'https://avatars.slack-edge.com/2020-09-24/1378029538374_e8ab87f2bc953c34e09c_original.jpg', 'is_custom_image': True, 'image_24': 'https://avatars.slack-edge.com/2020-09-24/1378029538374_e8ab87f2bc953c34e09c_24.jpg', 'image_32': 'https://avatars.slack-edge.com/2020-09-24/1378029538374_e8ab87f2bc953c34e09c_32.jpg', 'image_48': 'https://avatars.slack-edge.com/2020-09-24/1378029538374_e8ab87f2bc953c34e09c_48.jpg', 'image_72': 'https://avatars.slack-edge.com/2020-09-24/1378029538374_e8ab87f2bc953c34e09c_72.jpg', 'image_192': 'https://avatars.slack-edge.com/2020-09-24/1378029538374_e8ab87f2bc953c34e09c_192.jpg', 'image_512': 'https://avatars.slack-edge.com/2020-09-24/1378029538374_e8ab87f2bc953c34e09c_512.jpg', 'image_1024': 'https://avatars.slack-edge.com/2020-09-24/1378029538374_e8ab87f2bc953c34e09c_1024.jpg', 'status_text_canonical': '', 'team': 'T01B7SGGMLJ'}, 'is_admin': False, 'is_owner': False, 'is_primary_owner': False, 'is_restricted': False, 'is_ultra_restricted': False, 'is_bot': False, 'is_app_user': False, 'updated': 1600943506, 'is_email_confirmed': True}, {'id': 'U01BE2PR6LU', 'team_id': 'T01B7SGGMLJ', 'name': 'maianhdang.ftu', 'deleted': False, 'color': '9f69e7', 'real_name': 'Đặng Huỳnh Mai Anh', 'tz': 'Asia/Bangkok', 'tz_label': 'Indochina Time', 'tz_offset': 25200, 'profile': {'title': 'Technical Contents', 'phone': '', 'skype': '', 'real_name': 'Đặng Huỳnh Mai Anh', 'real_name_normalized': 'Dặng Huỳnh Mai Anh', 'display_name': 'MAD', 'display_name_normalized': 'MAD', 'fields': None, 'status_text': '', 'status_emoji': '', 'status_expiration': 0, 'avatar_hash': 'gdcf7e1aca86', 'first_name': 'Đặng', 'last_name': 'Huỳnh Mai Anh', 'image_24': 'https://secure.gravatar.com/avatar/dcf7e1aca86cc2adb657e2bd2415352f.jpg?s=24&d=https%3A%2F%2Fa.slack-edge.com%2Fdf10d%2Fimg%2Favatars%2Fava_0025-24.png', 'image_32': 'https://secure.gravatar.com/avatar/dcf7e1aca86cc2adb657e2bd2415352f.jpg?s=32&d=https%3A%2F%2Fa.slack-edge.com%2Fdf10d%2Fimg%2Favatars%2Fava_0025-32.png', 'image_48': 'https://secure.gravatar.com/avatar/dcf7e1aca86cc2adb657e2bd2415352f.jpg?s=48&d=https%3A%2F%2Fa.slack-edge.com%2Fdf10d%2Fimg%2Favatars%2Fava_0025-48.png', 'image_72': 'https://secure.gravatar.com/avatar/dcf7e1aca86cc2adb657e2bd2415352f.jpg?s=72&d=https%3A%2F%2Fa.slack-edge.com%2Fdf10d%2Fimg%2Favatars%2Fava_0025-72.png', 'image_192': 'https://secure.gravatar.com/avatar/dcf7e1aca86cc2adb657e2bd2415352f.jpg?s=192&d=https%3A%2F%2Fa.slack-edge.com%2Fdf10d%2Fimg%2Favatars%2Fava_0025-192.png', 'image_512': 'https://secure.gravatar.com/avatar/dcf7e1aca86cc2adb657e2bd2415352f.jpg?s=512&d=https%3A%2F%2Fa.slack-edge.com%2Fdf10d%2Fimg%2Favatars%2Fava_0025-512.png', 'status_text_canonical': '', 'team': 'T01B7SGGMLJ'}, 'is_admin': True, 'is_owner': True, 'is_primary_owner': True, 'is_restricted': False, 'is_ultra_restricted': False, 'is_bot': False, 'is_app_user': False, 'updated': 1618595000, 'is_email_confirmed': True}, {'id': 'U01C48T7S1J', 'team_id': 'T01B7SGGMLJ', 'name': 'huyenhoang.design', 'deleted': False, 'color': '3c989f', 'real_name': 'Thanh Huyen Hoang', 'tz': 'Europe/Amsterdam', 'tz_label': 'Central European Summer Time', 'tz_offset': 7200, 'profile': {'title': '', 'phone': '', 'skype': '', 'real_name': 'Thanh Huyen Hoang', 'real_name_normalized': 'Thanh Huyen Hoang', 'display_name': 'Thanh Huyen Hoang', 'display_name_normalized': 'Thanh Huyen Hoang', 'fields': None, 'status_text': '', 'status_emoji': '', 'status_expiration': 0, 'avatar_hash': '8bf84b1c7d5f', 'image_original': 'https://avatars.slack-edge.com/2020-10-04/1403202309685_8bf84b1c7d5fd4cffcd7_original.png', 'is_custom_image': True, 'image_24': 'https://avatars.slack-edge.com/2020-10-04/1403202309685_8bf84b1c7d5fd4cffcd7_24.png', 'image_32': 'https://avatars.slack-edge.com/2020-10-04/1403202309685_8bf84b1c7d5fd4cffcd7_32.png', 'image_48': 'https://avatars.slack-edge.com/2020-10-04/1403202309685_8bf84b1c7d5fd4cffcd7_48.png', 'image_72': 'https://avatars.slack-edge.com/2020-10-04/1403202309685_8bf84b1c7d5fd4cffcd7_72.png', 'image_192': 'https://avatars.slack-edge.com/2020-10-04/1403202309685_8bf84b1c7d5fd4cffcd7_192.png', 'image_512': 'https://avatars.slack-edge.com/2020-10-04/1403202309685_8bf84b1c7d5fd4cffcd7_512.png', 'image_1024': 'https://avatars.slack-edge.com/2020-10-04/1403202309685_8bf84b1c7d5fd4cffcd7_1024.png', 'status_text_canonical': '', 'team': 'T01B7SGGMLJ'}, 'is_admin': False, 'is_owner': False, 'is_primary_owner': False, 'is_restricted': False, 'is_ultra_restricted': False, 'is_bot': False, 'is_app_user': False, 'updated': 1601879503, 'is_email_confirmed': True}, {'id': 'U01CMTYB7EU', 'team_id': 'T01B7SGGMLJ', 'name': 'dr.tringuyenzmc', 'deleted': False, 'color': '674b1b', 'real_name': 'Dr Tringuyenzmc', 'tz': 'Asia/Bangkok', 'tz_label': 'Indochina Time', 'tz_offset': 25200, 'profile': {'title': '', 'phone': '', 'skype': '', 'real_name': 'Dr Tringuyenzmc', 'real_name_normalized': 'Dr Tringuyenzmc', 'display_name': '', 'display_name_normalized': '', 'fields': None, 'status_text': '', 'status_emoji': '', 'status_expiration': 0, 'avatar_hash': 'g4449889519e', 'image_24': 'https://secure.gravatar.com/avatar/4449889519ebda3244ad83efc06d00b8.jpg?s=24&d=https%3A%2F%2Fa.slack-edge.com%2Fdf10d%2Fimg%2Favatars%2Fava_0021-24.png', 'image_32': 'https://secure.gravatar.com/avatar/4449889519ebda3244ad83efc06d00b8.jpg?s=32&d=https%3A%2F%2Fa.slack-edge.com%2Fdf10d%2Fimg%2Favatars%2Fava_0021-32.png', 'image_48': 'https://secure.gravatar.com/avatar/4449889519ebda3244ad83efc06d00b8.jpg?s=48&d=https%3A%2F%2Fa.slack-edge.com%2Fdf10d%2Fimg%2Favatars%2Fava_0021-48.png', 'image_72': 'https://secure.gravatar.com/avatar/4449889519ebda3244ad83efc06d00b8.jpg?s=72&d=https%3A%2F%2Fa.slack-edge.com%2Fdf10d%2Fimg%2Favatars%2Fava_0021-72.png', 'image_192': 'https://secure.gravatar.com/avatar/4449889519ebda3244ad83efc06d00b8.jpg?s=192&d=https%3A%2F%2Fa.slack-edge.com%2Fdf10d%2Fimg%2Favatars%2Fava_0021-192.png', 'image_512': 'https://secure.gravatar.com/avatar/4449889519ebda3244ad83efc06d00b8.jpg?s=512&d=https%3A%2F%2Fa.slack-edge.com%2Fdf10d%2Fimg%2Favatars%2Fava_0021-512.png', 'status_text_canonical': '', 'team': 'T01B7SGGMLJ'}, 'is_admin': False, 'is_owner': False, 'is_primary_owner': False, 'is_restricted': False, 'is_ultra_restricted': False, 'is_bot': False, 'is_app_user': False, 'updated': 1601867824, 'is_email_confirmed': False, 'is_invited_user': True}, {'id': 'U01GQR2FE93', 'team_id': 'T01B7SGGMLJ', 'name': 'khanguyenwk', 'deleted': False, 'color': 'e96699', 'real_name': 'Kha Nguyen', 'tz': 'Asia/Bangkok', 'tz_label': 'Indochina Time', 'tz_offset': 25200, 'profile': {'title': '', 'phone': '', 'skype': '', 'real_name': 'Kha Nguyen', 'real_name_normalized': 'Kha Nguyen', 'display_name': '', 'display_name_normalized': '', 'fields': None, 'status_text': '', 'status_emoji': '', 'status_expiration': 0, 'avatar_hash': 'aa9c4160c7d5', 'image_original': 'https://avatars.slack-edge.com/2020-12-17/1581695197602_aa9c4160c7d52924d539_original.jpg', 'is_custom_image': True, 'first_name': 'Kha', 'last_name': 'Nguyen', 'image_24': 'https://avatars.slack-edge.com/2020-12-17/1581695197602_aa9c4160c7d52924d539_24.jpg', 'image_32': 'https://avatars.slack-edge.com/2020-12-17/1581695197602_aa9c4160c7d52924d539_32.jpg', 'image_48': 'https://avatars.slack-edge.com/2020-12-17/1581695197602_aa9c4160c7d52924d539_48.jpg', 'image_72': 'https://avatars.slack-edge.com/2020-12-17/1581695197602_aa9c4160c7d52924d539_72.jpg', 'image_192': 'https://avatars.slack-edge.com/2020-12-17/1581695197602_aa9c4160c7d52924d539_192.jpg', 'image_512': 'https://avatars.slack-edge.com/2020-12-17/1581695197602_aa9c4160c7d52924d539_512.jpg', 'image_1024': 'https://avatars.slack-edge.com/2020-12-17/1581695197602_aa9c4160c7d52924d539_1024.jpg', 'status_text_canonical': '', 'team': 'T01B7SGGMLJ'}, 'is_admin': False, 'is_owner': False, 'is_primary_owner': False, 'is_restricted': False, 'is_ultra_restricted': False, 'is_bot': False, 'is_app_user': False, 'updated': 1618627784, 'is_email_confirmed': True}, {'id': 'U01HARCHNKU', 'team_id': 'T01B7SGGMLJ', 'name': 'linhphan', 'deleted': False, 'color': 'e0a729', 'real_name': 'Phan Linh', 'tz': 'Asia/Bangkok', 'tz_label': 'Indochina Time', 'tz_offset': 25200, 'profile': {'title': '', 'phone': '', 'skype': '', 'real_name': 'Phan Linh', 'real_name_normalized': 'Phan Linh', 'display_name': '', 'display_name_normalized': '', 'fields': None, 'status_text': '', 'status_emoji': '', 'status_expiration': 0, 'avatar_hash': 'ge0747f5df59', 'image_24': 'https://secure.gravatar.com/avatar/e0747f5df598b8d4d0852d49a735405b.jpg?s=24&d=https%3A%2F%2Fa.slack-edge.com%2Fdf10d%2Fimg%2Favatars%2Fava_0005-24.png', 'image_32': 'https://secure.gravatar.com/avatar/e0747f5df598b8d4d0852d49a735405b.jpg?s=32&d=https%3A%2F%2Fa.slack-edge.com%2Fdf10d%2Fimg%2Favatars%2Fava_0005-32.png', 'image_48': 'https://secure.gravatar.com/avatar/e0747f5df598b8d4d0852d49a735405b.jpg?s=48&d=https%3A%2F%2Fa.slack-edge.com%2Fdf10d%2Fimg%2Favatars%2Fava_0005-48.png', 'image_72': 'https://secure.gravatar.com/avatar/e0747f5df598b8d4d0852d49a735405b.jpg?s=72&d=https%3A%2F%2Fa.slack-edge.com%2Fdf10d%2Fimg%2Favatars%2Fava_0005-72.png', 'image_192': 'https://secure.gravatar.com/avatar/e0747f5df598b8d4d0852d49a735405b.jpg?s=192&d=https%3A%2F%2Fa.slack-edge.com%2Fdf10d%2Fimg%2Favatars%2Fava_0005-192.png', 'image_512': 'https://secure.gravatar.com/avatar/e0747f5df598b8d4d0852d49a735405b.jpg?s=512&d=https%3A%2F%2Fa.slack-edge.com%2Fdf10d%2Fimg%2Favatars%2Fava_0005-512.png', 'status_text_canonical': '', 'team': 'T01B7SGGMLJ'}, 'is_admin': False, 'is_owner': False, 'is_primary_owner': False, 'is_restricted': False, 'is_ultra_restricted': False, 'is_bot': False, 'is_app_user': False, 'updated': 1608459687, 'is_email_confirmed': True}, {'id': 'U01JQ5TUP0B', 'team_id': 'T01B7SGGMLJ', 'name': 'tt.thuchuyen', 'deleted': False, 'color': '5b89d5', 'real_name': 'Tt Thuchuyen', 'tz': 'Asia/Bangkok', 'tz_label': 'Indochina Time', 'tz_offset': 25200, 'profile': {'title': '', 'phone': '', 'skype': '', 'real_name': 'Tt Thuchuyen', 'real_name_normalized': 'Tt Thuchuyen', 'display_name': '', 'display_name_normalized': '', 'fields': None, 'status_text': '', 'status_emoji': '', 'status_expiration': 0, 'avatar_hash': 'g05ec3d7e8ad', 'image_24': 'https://secure.gravatar.com/avatar/05ec3d7e8adf756aa41e08ff4562dd99.jpg?s=24&d=https%3A%2F%2Fa.slack-edge.com%2Fdf10d%2Fimg%2Favatars%2Fava_0014-24.png', 'image_32': 'https://secure.gravatar.com/avatar/05ec3d7e8adf756aa41e08ff4562dd99.jpg?s=32&d=https%3A%2F%2Fa.slack-edge.com%2Fdf10d%2Fimg%2Favatars%2Fava_0014-32.png', 'image_48': 'https://secure.gravatar.com/avatar/05ec3d7e8adf756aa41e08ff4562dd99.jpg?s=48&d=https%3A%2F%2Fa.slack-edge.com%2Fdf10d%2Fimg%2Favatars%2Fava_0014-48.png', 'image_72': 'https://secure.gravatar.com/avatar/05ec3d7e8adf756aa41e08ff4562dd99.jpg?s=72&d=https%3A%2F%2Fa.slack-edge.com%2Fdf10d%2Fimg%2Favatars%2Fava_0014-72.png', 'image_192': 'https://secure.gravatar.com/avatar/05ec3d7e8adf756aa41e08ff4562dd99.jpg?s=192&d=https%3A%2F%2Fa.slack-edge.com%2Fdf10d%2Fimg%2Favatars%2Fava_0014-192.png', 'image_512': 'https://secure.gravatar.com/avatar/05ec3d7e8adf756aa41e08ff4562dd99.jpg?s=512&d=https%3A%2F%2Fa.slack-edge.com%2Fdf10d%2Fimg%2Favatars%2Fava_0014-512.png', 'status_text_canonical': '', 'team': 'T01B7SGGMLJ'}, 'is_admin': False, 'is_owner': False, 'is_primary_owner': False, 'is_restricted': False, 'is_ultra_restricted': False, 'is_bot': False, 'is_app_user': False, 'updated': 1610614016, 'is_email_confirmed': False, 'is_invited_user': True}, {'id': 'U01JQ5U1RPV', 'team_id': 'T01B7SGGMLJ', 'name': 'thuongthuong.dv', 'deleted': False, 'color': '2b6836', 'real_name': 'Thuong Do', 'tz': 'Asia/Bangkok', 'tz_label': 'Indochina Time', 'tz_offset': 25200, 'profile': {'title': '', 'phone': '', 'skype': '', 'real_name': 'Thuong Do', 'real_name_normalized': 'Thuong Do', 'display_name': '', 'display_name_normalized': '', 'fields': None, 'status_text': '', 'status_emoji': '', 'status_expiration': 0, 'avatar_hash': 'ecc0c90a7ed9', 'image_original': 'https://avatars.slack-edge.com/2021-01-14/1645503907652_ecc0c90a7ed914393758_original.png', 'is_custom_image': True, 'first_name': 'Thuong', 'last_name': 'Do', 'image_24': 'https://avatars.slack-edge.com/2021-01-14/1645503907652_ecc0c90a7ed914393758_24.png', 'image_32': 'https://avatars.slack-edge.com/2021-01-14/1645503907652_ecc0c90a7ed914393758_32.png', 'image_48': 'https://avatars.slack-edge.com/2021-01-14/1645503907652_ecc0c90a7ed914393758_48.png', 'image_72': 'https://avatars.slack-edge.com/2021-01-14/1645503907652_ecc0c90a7ed914393758_72.png', 'image_192': 'https://avatars.slack-edge.com/2021-01-14/1645503907652_ecc0c90a7ed914393758_192.png', 'image_512': 'https://avatars.slack-edge.com/2021-01-14/1645503907652_ecc0c90a7ed914393758_512.png', 'image_1024': 'https://avatars.slack-edge.com/2021-01-14/1645503907652_ecc0c90a7ed914393758_1024.png', 'status_text_canonical': '', 'team': 'T01B7SGGMLJ'}, 'is_admin': False, 'is_owner': False, 'is_primary_owner': False, 'is_restricted': False, 'is_ultra_restricted': False, 'is_bot': False, 'is_app_user': False, 'updated': 1611925712, 'is_email_confirmed': True}, {'id': 'U01JQ5U4ADR', 'team_id': 'T01B7SGGMLJ', 'name': 'duongliengia', 'deleted': False, 'color': '99a949', 'real_name': 'duongliengia', 'tz': 'Asia/Bangkok', 'tz_label': 'Indochina Time', 'tz_offset': 25200, 'profile': {'title': '', 'phone': '', 'skype': '', 'real_name': 'duongliengia', 'real_name_normalized': 'duongliengia', 'display_name': '', 'display_name_normalized': '', 'fields': None, 'status_text': '', 'status_emoji': '', 'status_expiration': 0, 'avatar_hash': 'gb623ba4f681', 'image_24': 'https://secure.gravatar.com/avatar/b623ba4f681ea611721ad91f4ed9b63a.jpg?s=24&d=https%3A%2F%2Fa.slack-edge.com%2Fdf10d%2Fimg%2Favatars%2Fava_0019-24.png', 'image_32': 'https://secure.gravatar.com/avatar/b623ba4f681ea611721ad91f4ed9b63a.jpg?s=32&d=https%3A%2F%2Fa.slack-edge.com%2Fdf10d%2Fimg%2Favatars%2Fava_0019-32.png', 'image_48': 'https://secure.gravatar.com/avatar/b623ba4f681ea611721ad91f4ed9b63a.jpg?s=48&d=https%3A%2F%2Fa.slack-edge.com%2Fdf10d%2Fimg%2Favatars%2Fava_0019-48.png', 'image_72': 'https://secure.gravatar.com/avatar/b623ba4f681ea611721ad91f4ed9b63a.jpg?s=72&d=https%3A%2F%2Fa.slack-edge.com%2Fdf10d%2Fimg%2Favatars%2Fava_0019-72.png', 'image_192': 'https://secure.gravatar.com/avatar/b623ba4f681ea611721ad91f4ed9b63a.jpg?s=192&d=https%3A%2F%2Fa.slack-edge.com%2Fdf10d%2Fimg%2Favatars%2Fava_0019-192.png', 'image_512': 'https://secure.gravatar.com/avatar/b623ba4f681ea611721ad91f4ed9b63a.jpg?s=512&d=https%3A%2F%2Fa.slack-edge.com%2Fdf10d%2Fimg%2Favatars%2Fava_0019-512.png', 'status_text_canonical': '', 'team': 'T01B7SGGMLJ'}, 'is_admin': False, 'is_owner': False, 'is_primary_owner': False, 'is_restricted': False, 'is_ultra_restricted': False, 'is_bot': False, 'is_app_user': False, 'updated': 1610614021, 'is_email_confirmed': False, 'is_invited_user': True}, {'id': 'U01KDQJ9FCG', 'team_id': 'T01B7SGGMLJ', 'name': 'phanthuylinh8396', 'deleted': False, 'color': '684b6c', 'real_name': 'Phan Linh', 'tz': 'Asia/Bangkok', 'tz_label': 'Indochina Time', 'tz_offset': 25200, 'profile': {'title': '', 'phone': '', 'skype': '', 'real_name': 'Phan Linh', 'real_name_normalized': 'Phan Linh', 'display_name': '', 'display_name_normalized': '', 'fields': None, 'status_text': '', 'status_emoji': '', 'status_expiration': 0, 'avatar_hash': 'g01fde7d57e7', 'image_24': 'https://secure.gravatar.com/avatar/01fde7d57e76e7aaba8a3437164ac888.jpg?s=24&d=https%3A%2F%2Fa.slack-edge.com%2Fdf10d%2Fimg%2Favatars%2Fava_0016-24.png', 'image_32': 'https://secure.gravatar.com/avatar/01fde7d57e76e7aaba8a3437164ac888.jpg?s=32&d=https%3A%2F%2Fa.slack-edge.com%2Fdf10d%2Fimg%2Favatars%2Fava_0016-32.png', 'image_48': 'https://secure.gravatar.com/avatar/01fde7d57e76e7aaba8a3437164ac888.jpg?s=48&d=https%3A%2F%2Fa.slack-edge.com%2Fdf10d%2Fimg%2Favatars%2Fava_0016-48.png', 'image_72': 'https://secure.gravatar.com/avatar/01fde7d57e76e7aaba8a3437164ac888.jpg?s=72&d=https%3A%2F%2Fa.slack-edge.com%2Fdf10d%2Fimg%2Favatars%2Fava_0016-72.png', 'image_192': 'https://secure.gravatar.com/avatar/01fde7d57e76e7aaba8a3437164ac888.jpg?s=192&d=https%3A%2F%2Fa.slack-edge.com%2Fdf10d%2Fimg%2Favatars%2Fava_0016-192.png', 'image_512': 'https://secure.gravatar.com/avatar/01fde7d57e76e7aaba8a3437164ac888.jpg?s=512&d=https%3A%2F%2Fa.slack-edge.com%2Fdf10d%2Fimg%2Favatars%2Fava_0016-512.png', 'status_text_canonical': '', 'team': 'T01B7SGGMLJ'}, 'is_admin': False, 'is_owner': False, 'is_primary_owner': False, 'is_restricted': False, 'is_ultra_restricted': False, 'is_bot': False, 'is_app_user': False, 'updated': 1619197336, 'is_email_confirmed': True}, {'id': 'U01U6JM6LEB', 'team_id': 'T01B7SGGMLJ', 'name': 'hoangquocviet.208', 'deleted': False, 'color': '3c8c69', 'real_name': 'Viet Hoang', 'tz': 'Asia/Bangkok', 'tz_label': 'Indochina Time', 'tz_offset': 25200, 'profile': {'title': '', 'phone': '', 'skype': '', 'real_name': 'Viet Hoang', 'real_name_normalized': 'Viet Hoang', 'display_name': 'Viet Hoang', 'display_name_normalized': 'Viet Hoang', 'fields': None, 'status_text': '', 'status_emoji': '', 'status_expiration': 0, 'avatar_hash': 'df69a645790b', 'image_original': 'https://avatars.slack-edge.com/2021-04-16/1986020941905_df69a645790bc323b745_original.jpg', 'is_custom_image': True, 'image_24': 'https://avatars.slack-edge.com/2021-04-16/1986020941905_df69a645790bc323b745_24.jpg', 'image_32': 'https://avatars.slack-edge.com/2021-04-16/1986020941905_df69a645790bc323b745_32.jpg', 'image_48': 'https://avatars.slack-edge.com/2021-04-16/1986020941905_df69a645790bc323b745_48.jpg', 'image_72': 'https://avatars.slack-edge.com/2021-04-16/1986020941905_df69a645790bc323b745_72.jpg', 'image_192': 'https://avatars.slack-edge.com/2021-04-16/1986020941905_df69a645790bc323b745_192.jpg', 'image_512': 'https://avatars.slack-edge.com/2021-04-16/1986020941905_df69a645790bc323b745_512.jpg', 'image_1024': 'https://avatars.slack-edge.com/2021-04-16/1986020941905_df69a645790bc323b745_1024.jpg', 'status_text_canonical': '', 'team': 'T01B7SGGMLJ'}, 'is_admin': False, 'is_owner': False, 'is_primary_owner': False, 'is_restricted': False, 'is_ultra_restricted': False, 'is_bot': False, 'is_app_user': False, 'updated': 1618626988, 'is_email_confirmed': True}, {'id': 'U01U6JQB695', 'team_id': 'T01B7SGGMLJ', 'name': 'thgiang.phan', 'deleted': False, 'color': '965d1b', 'real_name': 'Giang Phan', 'tz': 'Asia/Bangkok', 'tz_label': 'Indochina Time', 'tz_offset': 25200, 'profile': {'title': '', 'phone': '', 'skype': '', 'real_name': 'Giang Phan', 'real_name_normalized': 'Giang Phan', 'display_name': '', 'display_name_normalized': '', 'fields': None, 'status_text': '', 'status_emoji': '', 'status_expiration': 0, 'avatar_hash': 'g23f9856d170', 'image_24': 'https://secure.gravatar.com/avatar/23f9856d170c91ca68d1c8fa86a97c48.jpg?s=24&d=https%3A%2F%2Fa.slack-edge.com%2Fdf10d%2Fimg%2Favatars%2Fava_0016-24.png', 'image_32': 'https://secure.gravatar.com/avatar/23f9856d170c91ca68d1c8fa86a97c48.jpg?s=32&d=https%3A%2F%2Fa.slack-edge.com%2Fdf10d%2Fimg%2Favatars%2Fava_0016-32.png', 'image_48': 'https://secure.gravatar.com/avatar/23f9856d170c91ca68d1c8fa86a97c48.jpg?s=48&d=https%3A%2F%2Fa.slack-edge.com%2Fdf10d%2Fimg%2Favatars%2Fava_0016-48.png', 'image_72': 'https://secure.gravatar.com/avatar/23f9856d170c91ca68d1c8fa86a97c48.jpg?s=72&d=https%3A%2F%2Fa.slack-edge.com%2Fdf10d%2Fimg%2Favatars%2Fava_0016-72.png', 'image_192': 'https://secure.gravatar.com/avatar/23f9856d170c91ca68d1c8fa86a97c48.jpg?s=192&d=https%3A%2F%2Fa.slack-edge.com%2Fdf10d%2Fimg%2Favatars%2Fava_0016-192.png', 'image_512': 'https://secure.gravatar.com/avatar/23f9856d170c91ca68d1c8fa86a97c48.jpg?s=512&d=https%3A%2F%2Fa.slack-edge.com%2Fdf10d%2Fimg%2Favatars%2Fava_0016-512.png', 'status_text_canonical': '', 'team': 'T01B7SGGMLJ'}, 'is_admin': False, 'is_owner': False, 'is_primary_owner': False, 'is_restricted': False, 'is_ultra_restricted': False, 'is_bot': False, 'is_app_user': False, 'updated': 1618627292, 'is_email_confirmed': True}, {'id': 'U01U8CAMGB1', 'team_id': 'T01B7SGGMLJ', 'name': 'huyenngoc2017', 'deleted': False, 'color': '73769d', 'real_name': 'Ngoc Huyen', 'tz': 'Asia/Bangkok', 'tz_label': 'Indochina Time', 'tz_offset': 25200, 'profile': {'title': '', 'phone': '', 'skype': '', 'real_name': 'Ngoc Huyen', 'real_name_normalized': 'Ngoc Huyen', 'display_name': 'Ngoc Huyen', 'display_name_normalized': 'Ngoc Huyen', 'fields': None, 'status_text': '', 'status_emoji': '', 'status_expiration': 0, 'avatar_hash': 'dc5c476bf9cc', 'image_original': 'https://avatars.slack-edge.com/2021-04-18/1960418749751_dc5c476bf9ccb6b0d883_original.png', 'is_custom_image': True, 'image_24': 'https://avatars.slack-edge.com/2021-04-18/1960418749751_dc5c476bf9ccb6b0d883_24.png', 'image_32': 'https://avatars.slack-edge.com/2021-04-18/1960418749751_dc5c476bf9ccb6b0d883_32.png', 'image_48': 'https://avatars.slack-edge.com/2021-04-18/1960418749751_dc5c476bf9ccb6b0d883_48.png', 'image_72': 'https://avatars.slack-edge.com/2021-04-18/1960418749751_dc5c476bf9ccb6b0d883_72.png', 'image_192': 'https://avatars.slack-edge.com/2021-04-18/1960418749751_dc5c476bf9ccb6b0d883_192.png', 'image_512': 'https://avatars.slack-edge.com/2021-04-18/1960418749751_dc5c476bf9ccb6b0d883_512.png', 'image_1024': 'https://avatars.slack-edge.com/2021-04-18/1960418749751_dc5c476bf9ccb6b0d883_1024.png', 'status_text_canonical': '', 'team': 'T01B7SGGMLJ'}, 'is_admin': False, 'is_owner': False, 'is_primary_owner': False, 'is_restricted': False, 'is_ultra_restricted': False, 'is_bot': False, 'is_app_user': False, 'updated': 1618794840, 'is_email_confirmed': True}, {'id': 'U01UEJFMUSJ', 'team_id': 'T01B7SGGMLJ', 'name': 'nhuhai03', 'deleted': False, 'color': 'c386df', 'real_name': 'Duong Nhu Hai', 'tz': 'Asia/Bangkok', 'tz_label': 'Indochina Time', 'tz_offset': 25200, 'profile': {'title': '', 'phone': '', 'skype': '', 'real_name': 'Duong Nhu Hai', 'real_name_normalized': 'Duong Nhu Hai', 'display_name': 'Duong Nhu Hai', 'display_name_normalized': 'Duong Nhu Hai', 'fields': None, 'status_text': '', 'status_emoji': '', 'status_expiration': 0, 'avatar_hash': '9dacf9ff9907', 'image_original': 'https://avatars.slack-edge.com/2021-05-15/2068605242210_9dacf9ff990779effc5e_original.jpg', 'is_custom_image': True, 'first_name': 'Duong', 'last_name': 'Nhu Hai', 'image_24': 'https://avatars.slack-edge.com/2021-05-15/2068605242210_9dacf9ff990779effc5e_24.jpg', 'image_32': 'https://avatars.slack-edge.com/2021-05-15/2068605242210_9dacf9ff990779effc5e_32.jpg', 'image_48': 'https://avatars.slack-edge.com/2021-05-15/2068605242210_9dacf9ff990779effc5e_48.jpg', 'image_72': 'https://avatars.slack-edge.com/2021-05-15/2068605242210_9dacf9ff990779effc5e_72.jpg', 'image_192': 'https://avatars.slack-edge.com/2021-05-15/2068605242210_9dacf9ff990779effc5e_192.jpg', 'image_512': 'https://avatars.slack-edge.com/2021-05-15/2068605242210_9dacf9ff990779effc5e_512.jpg', 'image_1024': 'https://avatars.slack-edge.com/2021-05-15/2068605242210_9dacf9ff990779effc5e_1024.jpg', 'status_text_canonical': '', 'team': 'T01B7SGGMLJ'}, 'is_admin': False, 'is_owner': False, 'is_primary_owner': False, 'is_restricted': False, 'is_ultra_restricted': False, 'is_bot': False, 'is_app_user': False, 'updated': 1621074610, 'is_email_confirmed': True}, {'id': 'U01UEJG8KHU', 'team_id': 'T01B7SGGMLJ', 'name': 'trangnguyen.n3t', 'deleted': False, 'color': '50a0cf', 'real_name': 'Trang Nguyễn', 'tz': 'Asia/Bangkok', 'tz_label': 'Indochina Time', 'tz_offset': 25200, 'profile': {'title': '', 'phone': '', 'skype': '', 'real_name': 'Trang Nguyễn', 'real_name_normalized': 'Trang Nguyễn', 'display_name': 'Trang Nguyễn', 'display_name_normalized': 'Trang Nguyễn', 'fields': None, 'status_text': '', 'status_emoji': '', 'status_expiration': 0, 'avatar_hash': '101ae729af10', 'image_original': 'https://avatars.slack-edge.com/2021-04-16/1986019801457_101ae729af10f158c82f_original.png', 'is_custom_image': True, 'image_24': 'https://avatars.slack-edge.com/2021-04-16/1986019801457_101ae729af10f158c82f_24.png', 'image_32': 'https://avatars.slack-edge.com/2021-04-16/1986019801457_101ae729af10f158c82f_32.png', 'image_48': 'https://avatars.slack-edge.com/2021-04-16/1986019801457_101ae729af10f158c82f_48.png', 'image_72': 'https://avatars.slack-edge.com/2021-04-16/1986019801457_101ae729af10f158c82f_72.png', 'image_192': 'https://avatars.slack-edge.com/2021-04-16/1986019801457_101ae729af10f158c82f_192.png', 'image_512': 'https://avatars.slack-edge.com/2021-04-16/1986019801457_101ae729af10f158c82f_512.png', 'image_1024': 'https://avatars.slack-edge.com/2021-04-16/1986019801457_101ae729af10f158c82f_1024.png', 'status_text_canonical': '', 'team': 'T01B7SGGMLJ'}, 'is_admin': False, 'is_owner': False, 'is_primary_owner': False, 'is_restricted': False, 'is_ultra_restricted': False, 'is_bot': False, 'is_app_user': False, 'updated': 1618626883, 'is_email_confirmed': True}, {'id': 'U01UEJKV3PG', 'team_id': 'T01B7SGGMLJ', 'name': 'nhduyen1995', 'deleted': False, 'color': 'aba727', 'real_name': 'Duyên Nguyễn Hồng', 'tz': 'Asia/Bangkok', 'tz_label': 'Indochina Time', 'tz_offset': 25200, 'profile': {'title': '', 'phone': '', 'skype': '', 'real_name': 'Duyên Nguyễn Hồng', 'real_name_normalized': 'Duyen Nguyễn Hồng', 'display_name': 'Duyên Nguyễn Hồng', 'display_name_normalized': 'Duyen Nguyễn Hồng', 'fields': None, 'status_text': '', 'status_emoji': '', 'status_expiration': 0, 'avatar_hash': '833653d7d0b6', 'image_original': 'https://avatars.slack-edge.com/2021-04-16/1970331624965_833653d7d0b658c53ca1_original.jpg', 'is_custom_image': True, 'image_24': 'https://avatars.slack-edge.com/2021-04-16/1970331624965_833653d7d0b658c53ca1_24.jpg', 'image_32': 'https://avatars.slack-edge.com/2021-04-16/1970331624965_833653d7d0b658c53ca1_32.jpg', 'image_48': 'https://avatars.slack-edge.com/2021-04-16/1970331624965_833653d7d0b658c53ca1_48.jpg', 'image_72': 'https://avatars.slack-edge.com/2021-04-16/1970331624965_833653d7d0b658c53ca1_72.jpg', 'image_192': 'https://avatars.slack-edge.com/2021-04-16/1970331624965_833653d7d0b658c53ca1_192.jpg', 'image_512': 'https://avatars.slack-edge.com/2021-04-16/1970331624965_833653d7d0b658c53ca1_512.jpg', 'image_1024': 'https://avatars.slack-edge.com/2021-04-16/1970331624965_833653d7d0b658c53ca1_1024.jpg', 'status_text_canonical': '', 'team': 'T01B7SGGMLJ'}, 'is_admin': False, 'is_owner': False, 'is_primary_owner': False, 'is_restricted': False, 'is_ultra_restricted': False, 'is_bot': False, 'is_app_user': False, 'updated': 1618627235, 'is_email_confirmed': True}, {'id': 'U01UFKDG79U', 'team_id': 'T01B7SGGMLJ', 'name': 'hanhdinh.201099', 'deleted': False, 'color': '9d8eee', 'real_name': 'Mỹ Hạnh Đinh Thị', 'tz': 'Asia/Bangkok', 'tz_label': 'Indochina Time', 'tz_offset': 25200, 'profile': {'title': '', 'phone': '', 'skype': '', 'real_name': 'Mỹ Hạnh Đinh Thị', 'real_name_normalized': 'Mỹ Hạnh Dinh Thị', 'display_name': 'Mỹ Hạnh Đinh Thị', 'display_name_normalized': 'Mỹ Hạnh Dinh Thị', 'fields': None, 'status_text': '', 'status_emoji': '', 'status_expiration': 0, 'avatar_hash': '68872c25cd0d', 'image_original': 'https://avatars.slack-edge.com/2021-04-17/1967659560038_68872c25cd0d578c8679_original.jpg', 'is_custom_image': True, 'image_24': 'https://avatars.slack-edge.com/2021-04-17/1967659560038_68872c25cd0d578c8679_24.jpg', 'image_32': 'https://avatars.slack-edge.com/2021-04-17/1967659560038_68872c25cd0d578c8679_32.jpg', 'image_48': 'https://avatars.slack-edge.com/2021-04-17/1967659560038_68872c25cd0d578c8679_48.jpg', 'image_72': 'https://avatars.slack-edge.com/2021-04-17/1967659560038_68872c25cd0d578c8679_72.jpg', 'image_192': 'https://avatars.slack-edge.com/2021-04-17/1967659560038_68872c25cd0d578c8679_192.jpg', 'image_512': 'https://avatars.slack-edge.com/2021-04-17/1967659560038_68872c25cd0d578c8679_512.jpg', 'image_1024': 'https://avatars.slack-edge.com/2021-04-17/1967659560038_68872c25cd0d578c8679_1024.jpg', 'status_text_canonical': '', 'team': 'T01B7SGGMLJ'}, 'is_admin': False, 'is_owner': False, 'is_primary_owner': False, 'is_restricted': False, 'is_ultra_restricted': False, 'is_bot': False, 'is_app_user': False, 'updated': 1618728242, 'is_email_confirmed': True}, {'id': 'U01UFTS0UGN', 'team_id': 'T01B7SGGMLJ', 'name': 'googledrive', 'deleted': False, 'color': '8469bc', 'real_name': 'Google Drive', 'tz': 'America/Los_Angeles', 'tz_label': 'Pacific Daylight Time', 'tz_offset': -25200, 'profile': {'title': '', 'phone': '', 'skype': '', 'real_name': 'Google Drive', 'real_name_normalized': 'Google Drive', 'display_name': '', 'display_name_normalized': '', 'fields': None, 'status_text': '', 'status_emoji': '', 'status_expiration': 0, 'avatar_hash': '665434988a7e', 'api_app_id': 'A6NL8MJ6Q', 'always_active': True, 'image_original': 'https://avatars.slack-edge.com/2021-04-18/1974720937314_665434988a7e8995f10d_original.png', 'is_custom_image': True, 'bot_id': 'B01UNTDPPCK', 'image_24': 'https://avatars.slack-edge.com/2021-04-18/1974720937314_665434988a7e8995f10d_24.png', 'image_32': 'https://avatars.slack-edge.com/2021-04-18/1974720937314_665434988a7e8995f10d_32.png', 'image_48': 'https://avatars.slack-edge.com/2021-04-18/1974720937314_665434988a7e8995f10d_48.png', 'image_72': 'https://avatars.slack-edge.com/2021-04-18/1974720937314_665434988a7e8995f10d_72.png', 'image_192': 'https://avatars.slack-edge.com/2021-04-18/1974720937314_665434988a7e8995f10d_192.png', 'image_512': 'https://avatars.slack-edge.com/2021-04-18/1974720937314_665434988a7e8995f10d_512.png', 'image_1024': 'https://avatars.slack-edge.com/2021-04-18/1974720937314_665434988a7e8995f10d_1024.png', 'status_text_canonical': '', 'team': 'T01B7SGGMLJ'}, 'is_admin': False, 'is_owner': False, 'is_primary_owner': False, 'is_restricted': False, 'is_ultra_restricted': False, 'is_bot': True, 'is_app_user': False, 'updated': 1618756322, 'is_email_confirmed': False}, {'id': 'U01UJ9LG5U5', 'team_id': 'T01B7SGGMLJ', 'name': 'danhpcv', 'deleted': False, 'color': 'df3dc0', 'real_name': 'Danh Phan', 'tz': 'Asia/Bangkok', 'tz_label': 'Indochina Time', 'tz_offset': 25200, 'profile': {'title': '', 'phone': '', 'skype': '', 'real_name': 'Danh Phan', 'real_name_normalized': 'Danh Phan', 'display_name': 'Danh Phan', 'display_name_normalized': 'Danh Phan', 'fields': None, 'status_text': '', 'status_emoji': '', 'status_expiration': 0, 'avatar_hash': '12fb110c15fb', 'image_original': 'https://avatars.slack-edge.com/2021-04-16/1970326574005_12fb110c15fb55fa8c23_original.png', 'is_custom_image': True, 'image_24': 'https://avatars.slack-edge.com/2021-04-16/1970326574005_12fb110c15fb55fa8c23_24.png', 'image_32': 'https://avatars.slack-edge.com/2021-04-16/1970326574005_12fb110c15fb55fa8c23_32.png', 'image_48': 'https://avatars.slack-edge.com/2021-04-16/1970326574005_12fb110c15fb55fa8c23_48.png', 'image_72': 'https://avatars.slack-edge.com/2021-04-16/1970326574005_12fb110c15fb55fa8c23_72.png', 'image_192': 'https://avatars.slack-edge.com/2021-04-16/1970326574005_12fb110c15fb55fa8c23_192.png', 'image_512': 'https://avatars.slack-edge.com/2021-04-16/1970326574005_12fb110c15fb55fa8c23_512.png', 'image_1024': 'https://avatars.slack-edge.com/2021-04-16/1970326574005_12fb110c15fb55fa8c23_1024.png', 'status_text_canonical': '', 'team': 'T01B7SGGMLJ'}, 'is_admin': False, 'is_owner': False, 'is_primary_owner': False, 'is_restricted': False, 'is_ultra_restricted': False, 'is_bot': False, 'is_app_user': False, 'updated': 1618626755, 'is_email_confirmed': True}, {'id': 'U01UJ9M3P1T', 'team_id': 'T01B7SGGMLJ', 'name': 'cnhhoang850', 'deleted': False, 'color': '9e3997', 'real_name': 'Cao Nguyen Huy Hoang', 'tz': 'Asia/Bangkok', 'tz_label': 'Indochina Time', 'tz_offset': 25200, 'profile': {'title': '', 'phone': '', 'skype': '', 'real_name': 'Cao Nguyen Huy Hoang', 'real_name_normalized': 'Cao Nguyen Huy Hoang', 'display_name': 'Cao Nguyen Huy Hoang', 'display_name_normalized': 'Cao Nguyen Huy Hoang', 'fields': None, 'status_text': '', 'status_emoji': '', 'status_expiration': 0, 'avatar_hash': 'ebf963fb1868', 'image_original': 'https://avatars.slack-edge.com/2021-05-19/2066912101127_ebf963fb1868df93a663_original.png', 'is_custom_image': True, 'first_name': 'Cao', 'last_name': 'Nguyen Huy Hoang', 'image_24': 'https://avatars.slack-edge.com/2021-05-19/2066912101127_ebf963fb1868df93a663_24.png', 'image_32': 'https://avatars.slack-edge.com/2021-05-19/2066912101127_ebf963fb1868df93a663_32.png', 'image_48': 'https://avatars.slack-edge.com/2021-05-19/2066912101127_ebf963fb1868df93a663_48.png', 'image_72': 'https://avatars.slack-edge.com/2021-05-19/2066912101127_ebf963fb1868df93a663_72.png', 'image_192': 'https://avatars.slack-edge.com/2021-05-19/2066912101127_ebf963fb1868df93a663_192.png', 'image_512': 'https://avatars.slack-edge.com/2021-05-19/2066912101127_ebf963fb1868df93a663_512.png', 'image_1024': 'https://avatars.slack-edge.com/2021-05-19/2066912101127_ebf963fb1868df93a663_1024.png', 'status_text_canonical': '', 'team': 'T01B7SGGMLJ'}, 'is_admin': False, 'is_owner': False, 'is_primary_owner': False, 'is_restricted': False, 'is_ultra_restricted': False, 'is_bot': False, 'is_app_user': False, 'updated': 1621434759, 'is_email_confirmed': True}, {'id': 'U01UJ9M5TU5', 'team_id': 'T01B7SGGMLJ', 'name': 'minhnguyentk95', 'deleted': False, 'color': '53b759', 'real_name': 'Nguyen Thi Kim Minh', 'tz': 'Asia/Bangkok', 'tz_label': 'Indochina Time', 'tz_offset': 25200, 'profile': {'title': '', 'phone': '0703988802', 'skype': '', 'real_name': 'Nguyen Thi Kim Minh', 'real_name_normalized': 'Nguyen Thi Kim Minh', 'display_name': 'Minh Nguyen', 'display_name_normalized': 'Minh Nguyen', 'fields': None, 'status_text': '', 'status_emoji': '', 'status_expiration': 0, 'avatar_hash': '19f44aac258f', 'image_original': 'https://avatars.slack-edge.com/2021-04-24/1996391683970_19f44aac258f3bcbe6c3_original.jpg', 'is_custom_image': True, 'first_name': 'Nguyen', 'last_name': 'Thi Kim Minh', 'image_24': 'https://avatars.slack-edge.com/2021-04-24/1996391683970_19f44aac258f3bcbe6c3_24.jpg', 'image_32': 'https://avatars.slack-edge.com/2021-04-24/1996391683970_19f44aac258f3bcbe6c3_32.jpg', 'image_48': 'https://avatars.slack-edge.com/2021-04-24/1996391683970_19f44aac258f3bcbe6c3_48.jpg', 'image_72': 'https://avatars.slack-edge.com/2021-04-24/1996391683970_19f44aac258f3bcbe6c3_72.jpg', 'image_192': 'https://avatars.slack-edge.com/2021-04-24/1996391683970_19f44aac258f3bcbe6c3_192.jpg', 'image_512': 'https://avatars.slack-edge.com/2021-04-24/1996391683970_19f44aac258f3bcbe6c3_512.jpg', 'image_1024': 'https://avatars.slack-edge.com/2021-04-24/1996391683970_19f44aac258f3bcbe6c3_1024.jpg', 'status_text_canonical': '', 'team': 'T01B7SGGMLJ'}, 'is_admin': False, 'is_owner': False, 'is_primary_owner': False, 'is_restricted': False, 'is_ultra_restricted': False, 'is_bot': False, 'is_app_user': False, 'updated': 1619200975, 'is_email_confirmed': True}, {'id': 'U01UJ9MUADT', 'team_id': 'T01B7SGGMLJ', 'name': 'lovelylife.158', 'deleted': False, 'color': 'd1707d', 'real_name': 'Nguyễn Thị Thu Trang', 'tz': 'Asia/Bangkok', 'tz_label': 'Indochina Time', 'tz_offset': 25200, 'profile': {'title': 'Learner', 'phone': '', 'skype': '', 'real_name': 'Nguyễn Thị Thu Trang', 'real_name_normalized': 'Nguyễn Thị Thu Trang', 'display_name': 'Thu Trang', 'display_name_normalized': 'Thu Trang', 'fields': None, 'status_text': '', 'status_emoji': '', 'status_expiration': 0, 'avatar_hash': '69d858a7de64', 'image_original': 'https://avatars.slack-edge.com/2021-04-17/1986438478433_69d858a7de64c583d4c8_original.jpg', 'is_custom_image': True, 'first_name': 'Nguyễn', 'last_name': 'Thị Thu Trang', 'image_24': 'https://avatars.slack-edge.com/2021-04-17/1986438478433_69d858a7de64c583d4c8_24.jpg', 'image_32': 'https://avatars.slack-edge.com/2021-04-17/1986438478433_69d858a7de64c583d4c8_32.jpg', 'image_48': 'https://avatars.slack-edge.com/2021-04-17/1986438478433_69d858a7de64c583d4c8_48.jpg', 'image_72': 'https://avatars.slack-edge.com/2021-04-17/1986438478433_69d858a7de64c583d4c8_72.jpg', 'image_192': 'https://avatars.slack-edge.com/2021-04-17/1986438478433_69d858a7de64c583d4c8_192.jpg', 'image_512': 'https://avatars.slack-edge.com/2021-04-17/1986438478433_69d858a7de64c583d4c8_512.jpg', 'image_1024': 'https://avatars.slack-edge.com/2021-04-17/1986438478433_69d858a7de64c583d4c8_1024.jpg', 'status_text_canonical': '', 'team': 'T01B7SGGMLJ'}, 'is_admin': False, 'is_owner': False, 'is_primary_owner': False, 'is_restricted': False, 'is_ultra_restricted': False, 'is_bot': False, 'is_app_user': False, 'updated': 1622125032, 'is_email_confirmed': True}, {'id': 'U01UJ9NKX8D', 'team_id': 'T01B7SGGMLJ', 'name': 'lienanhhuong96', 'deleted': False, 'color': 'de5f24', 'real_name': 'Lien Anh Trinh', 'tz': 'Asia/Bangkok', 'tz_label': 'Indochina Time', 'tz_offset': 25200, 'profile': {'title': '', 'phone': '', 'skype': '', 'real_name': 'Lien Anh Trinh', 'real_name_normalized': 'Lien Anh Trinh', 'display_name': 'Lien Anh Trinh', 'display_name_normalized': 'Lien Anh Trinh', 'fields': None, 'status_text': '', 'status_emoji': '', 'status_expiration': 0, 'avatar_hash': '457571373b2a', 'image_original': 'https://avatars.slack-edge.com/2021-04-16/1958632850647_457571373b2a9572061c_original.jpg', 'is_custom_image': True, 'image_24': 'https://avatars.slack-edge.com/2021-04-16/1958632850647_457571373b2a9572061c_24.jpg', 'image_32': 'https://avatars.slack-edge.com/2021-04-16/1958632850647_457571373b2a9572061c_32.jpg', 'image_48': 'https://avatars.slack-edge.com/2021-04-16/1958632850647_457571373b2a9572061c_48.jpg', 'image_72': 'https://avatars.slack-edge.com/2021-04-16/1958632850647_457571373b2a9572061c_72.jpg', 'image_192': 'https://avatars.slack-edge.com/2021-04-16/1958632850647_457571373b2a9572061c_192.jpg', 'image_512': 'https://avatars.slack-edge.com/2021-04-16/1958632850647_457571373b2a9572061c_512.jpg', 'image_1024': 'https://avatars.slack-edge.com/2021-04-16/1958632850647_457571373b2a9572061c_1024.jpg', 'status_text_canonical': '', 'team': 'T01B7SGGMLJ'}, 'is_admin': False, 'is_owner': False, 'is_primary_owner': False, 'is_restricted': False, 'is_ultra_restricted': False, 'is_bot': False, 'is_app_user': False, 'updated': 1618626952, 'is_email_confirmed': True}, {'id': 'U01UJ9P1S3X', 'team_id': 'T01B7SGGMLJ', 'name': 'thao', 'deleted': False, 'color': '827327', 'real_name': 'Thao Le', 'tz': 'Asia/Bangkok', 'tz_label': 'Indochina Time', 'tz_offset': 25200, 'profile': {'title': '', 'phone': '', 'skype': '', 'real_name': 'Thao Le', 'real_name_normalized': 'Thao Le', 'display_name': 'Thao Le', 'display_name_normalized': 'Thao Le', 'fields': None, 'status_text': '', 'status_emoji': '', 'status_expiration': 0, 'avatar_hash': 'a170c78442a9', 'image_original': 'https://avatars.slack-edge.com/2021-04-16/1973617290371_a170c78442a99a206aa4_original.jpg', 'is_custom_image': True, 'image_24': 'https://avatars.slack-edge.com/2021-04-16/1973617290371_a170c78442a99a206aa4_24.jpg', 'image_32': 'https://avatars.slack-edge.com/2021-04-16/1973617290371_a170c78442a99a206aa4_32.jpg', 'image_48': 'https://avatars.slack-edge.com/2021-04-16/1973617290371_a170c78442a99a206aa4_48.jpg', 'image_72': 'https://avatars.slack-edge.com/2021-04-16/1973617290371_a170c78442a99a206aa4_72.jpg', 'image_192': 'https://avatars.slack-edge.com/2021-04-16/1973617290371_a170c78442a99a206aa4_192.jpg', 'image_512': 'https://avatars.slack-edge.com/2021-04-16/1973617290371_a170c78442a99a206aa4_512.jpg', 'image_1024': 'https://avatars.slack-edge.com/2021-04-16/1973617290371_a170c78442a99a206aa4_1024.jpg', 'status_text_canonical': '', 'team': 'T01B7SGGMLJ'}, 'is_admin': False, 'is_owner': False, 'is_primary_owner': False, 'is_restricted': False, 'is_ultra_restricted': False, 'is_bot': False, 'is_app_user': False, 'updated': 1618626988, 'is_email_confirmed': True}, {'id': 'U01UJ9PA0MB', 'team_id': 'T01B7SGGMLJ', 'name': 'doithihong92', 'deleted': False, 'color': '84b22f', 'real_name': 'Hồng Đới', 'tz': 'Asia/Bangkok', 'tz_label': 'Indochina Time', 'tz_offset': 25200, 'profile': {'title': '', 'phone': '', 'skype': '', 'real_name': 'Hồng Đới', 'real_name_normalized': 'Hồng Dới', 'display_name': 'Hồng Đới', 'display_name_normalized': 'Hồng Dới', 'fields': None, 'status_text': '', 'status_emoji': '', 'status_expiration': 0, 'avatar_hash': '7dcd2ccb60e2', 'image_original': 'https://avatars.slack-edge.com/2021-04-16/1966629716758_7dcd2ccb60e2192924a1_original.jpg', 'is_custom_image': True, 'image_24': 'https://avatars.slack-edge.com/2021-04-16/1966629716758_7dcd2ccb60e2192924a1_24.jpg', 'image_32': 'https://avatars.slack-edge.com/2021-04-16/1966629716758_7dcd2ccb60e2192924a1_32.jpg', 'image_48': 'https://avatars.slack-edge.com/2021-04-16/1966629716758_7dcd2ccb60e2192924a1_48.jpg', 'image_72': 'https://avatars.slack-edge.com/2021-04-16/1966629716758_7dcd2ccb60e2192924a1_72.jpg', 'image_192': 'https://avatars.slack-edge.com/2021-04-16/1966629716758_7dcd2ccb60e2192924a1_192.jpg', 'image_512': 'https://avatars.slack-edge.com/2021-04-16/1966629716758_7dcd2ccb60e2192924a1_512.jpg', 'image_1024': 'https://avatars.slack-edge.com/2021-04-16/1966629716758_7dcd2ccb60e2192924a1_1024.jpg', 'status_text_canonical': '', 'team': 'T01B7SGGMLJ'}, 'is_admin': False, 'is_owner': False, 'is_primary_owner': False, 'is_restricted': False, 'is_ultra_restricted': False, 'is_bot': False, 'is_app_user': False, 'updated': 1618627015, 'is_email_confirmed': True}, {'id': 'U01UJ9PRT5K', 'team_id': 'T01B7SGGMLJ', 'name': 'hieulam1312', 'deleted': False, 'color': '4ec0d6', 'real_name': 'Hieu Lam', 'tz': 'Asia/Bangkok', 'tz_label': 'Indochina Time', 'tz_offset': 25200, 'profile': {'title': '', 'phone': '', 'skype': '', 'real_name': 'Hieu Lam', 'real_name_normalized': 'Hieu Lam', 'display_name': 'Hiếu', 'display_name_normalized': 'Hiếu', 'fields': None, 'status_text': '', 'status_emoji': '', 'status_expiration': 0, 'avatar_hash': 'b09bf566c251', 'image_original': 'https://avatars.slack-edge.com/2021-04-17/1986442009841_b09bf566c251c5e73e32_original.png', 'is_custom_image': True, 'first_name': 'Hieu', 'last_name': 'Lam', 'image_24': 'https://avatars.slack-edge.com/2021-04-17/1986442009841_b09bf566c251c5e73e32_24.png', 'image_32': 'https://avatars.slack-edge.com/2021-04-17/1986442009841_b09bf566c251c5e73e32_32.png', 'image_48': 'https://avatars.slack-edge.com/2021-04-17/1986442009841_b09bf566c251c5e73e32_48.png', 'image_72': 'https://avatars.slack-edge.com/2021-04-17/1986442009841_b09bf566c251c5e73e32_72.png', 'image_192': 'https://avatars.slack-edge.com/2021-04-17/1986442009841_b09bf566c251c5e73e32_192.png', 'image_512': 'https://avatars.slack-edge.com/2021-04-17/1986442009841_b09bf566c251c5e73e32_512.png', 'image_1024': 'https://avatars.slack-edge.com/2021-04-17/1986442009841_b09bf566c251c5e73e32_1024.png', 'status_text_canonical': '', 'team': 'T01B7SGGMLJ'}, 'is_admin': False, 'is_owner': False, 'is_primary_owner': False, 'is_restricted': False, 'is_ultra_restricted': False, 'is_bot': False, 'is_app_user': False, 'updated': 1618668054, 'is_email_confirmed': True}, {'id': 'U01UJKRQM2R', 'team_id': 'T01B7SGGMLJ', 'name': 'letanthanh273', 'deleted': False, 'color': 'dc7dbb', 'real_name': 'Le Tan Thanh', 'tz': 'Asia/Bangkok', 'tz_label': 'Indochina Time', 'tz_offset': 25200, 'profile': {'title': '', 'phone': '', 'skype': '', 'real_name': 'Le Tan Thanh', 'real_name_normalized': 'Le Tan Thanh', 'display_name': '', 'display_name_normalized': '', 'fields': None, 'status_text': '', 'status_emoji': '', 'status_expiration': 0, 'avatar_hash': 'gc0d7930cac6', 'image_24': 'https://secure.gravatar.com/avatar/c0d7930cac6fb03b1045971fbe768e16.jpg?s=24&d=https%3A%2F%2Fa.slack-edge.com%2Fdf10d%2Fimg%2Favatars%2Fava_0012-24.png', 'image_32': 'https://secure.gravatar.com/avatar/c0d7930cac6fb03b1045971fbe768e16.jpg?s=32&d=https%3A%2F%2Fa.slack-edge.com%2Fdf10d%2Fimg%2Favatars%2Fava_0012-32.png', 'image_48': 'https://secure.gravatar.com/avatar/c0d7930cac6fb03b1045971fbe768e16.jpg?s=48&d=https%3A%2F%2Fa.slack-edge.com%2Fdf10d%2Fimg%2Favatars%2Fava_0012-48.png', 'image_72': 'https://secure.gravatar.com/avatar/c0d7930cac6fb03b1045971fbe768e16.jpg?s=72&d=https%3A%2F%2Fa.slack-edge.com%2Fdf10d%2Fimg%2Favatars%2Fava_0012-72.png', 'image_192': 'https://secure.gravatar.com/avatar/c0d7930cac6fb03b1045971fbe768e16.jpg?s=192&d=https%3A%2F%2Fa.slack-edge.com%2Fdf10d%2Fimg%2Favatars%2Fava_0012-192.png', 'image_512': 'https://secure.gravatar.com/avatar/c0d7930cac6fb03b1045971fbe768e16.jpg?s=512&d=https%3A%2F%2Fa.slack-edge.com%2Fdf10d%2Fimg%2Favatars%2Fava_0012-512.png', 'status_text_canonical': '', 'team': 'T01B7SGGMLJ'}, 'is_admin': False, 'is_owner': False, 'is_primary_owner': False, 'is_restricted': False, 'is_ultra_restricted': False, 'is_bot': False, 'is_app_user': False, 'updated': 1618661339, 'is_email_confirmed': True}, {'id': 'U01UMBW8G8J', 'team_id': 'T01B7SGGMLJ', 'name': 'baongoc.vuthi', 'deleted': False, 'color': '9b3b45', 'real_name': 'Ngoc Vu', 'tz': 'Asia/Bangkok', 'tz_label': 'Indochina Time', 'tz_offset': 25200, 'profile': {'title': '', 'phone': '', 'skype': '', 'real_name': 'Ngoc Vu', 'real_name_normalized': 'Ngoc Vu', 'display_name': 'Ngoc Vu', 'display_name_normalized': 'Ngoc Vu', 'fields': None, 'status_text': '', 'status_emoji': '', 'status_expiration': 0, 'avatar_hash': '4e05630f847a', 'image_original': 'https://avatars.slack-edge.com/2021-04-16/1979569737444_4e05630f847a2ebe6b8b_original.png', 'is_custom_image': True, 'image_24': 'https://avatars.slack-edge.com/2021-04-16/1979569737444_4e05630f847a2ebe6b8b_24.png', 'image_32': 'https://avatars.slack-edge.com/2021-04-16/1979569737444_4e05630f847a2ebe6b8b_32.png', 'image_48': 'https://avatars.slack-edge.com/2021-04-16/1979569737444_4e05630f847a2ebe6b8b_48.png', 'image_72': 'https://avatars.slack-edge.com/2021-04-16/1979569737444_4e05630f847a2ebe6b8b_72.png', 'image_192': 'https://avatars.slack-edge.com/2021-04-16/1979569737444_4e05630f847a2ebe6b8b_192.png', 'image_512': 'https://avatars.slack-edge.com/2021-04-16/1979569737444_4e05630f847a2ebe6b8b_512.png', 'image_1024': 'https://avatars.slack-edge.com/2021-04-16/1979569737444_4e05630f847a2ebe6b8b_1024.png', 'status_text_canonical': '', 'team': 'T01B7SGGMLJ'}, 'is_admin': False, 'is_owner': False, 'is_primary_owner': False, 'is_restricted': False, 'is_ultra_restricted': False, 'is_bot': False, 'is_app_user': False, 'updated': 1618626792, 'is_email_confirmed': True}, {'id': 'U01UMBX2X18', 'team_id': 'T01B7SGGMLJ', 'name': 'thienphu.71', 'deleted': False, 'color': '5870dd', 'real_name': 'Phu NDT', 'tz': 'Asia/Bangkok', 'tz_label': 'Indochina Time', 'tz_offset': 25200, 'profile': {'title': '', 'phone': '', 'skype': '', 'real_name': 'Phu NDT', 'real_name_normalized': 'Phu NDT', 'display_name': 'Thien Phu', 'display_name_normalized': 'Thien Phu', 'fields': None, 'status_text': '', 'status_emoji': '', 'status_expiration': 0, 'avatar_hash': 'b1dea1fad536', 'image_original': 'https://avatars.slack-edge.com/2021-04-16/1958631895607_b1dea1fad536f3074001_original.jpg', 'is_custom_image': True, 'first_name': 'Phu', 'last_name': 'NDT', 'image_24': 'https://avatars.slack-edge.com/2021-04-16/1958631895607_b1dea1fad536f3074001_24.jpg', 'image_32': 'https://avatars.slack-edge.com/2021-04-16/1958631895607_b1dea1fad536f3074001_32.jpg', 'image_48': 'https://avatars.slack-edge.com/2021-04-16/1958631895607_b1dea1fad536f3074001_48.jpg', 'image_72': 'https://avatars.slack-edge.com/2021-04-16/1958631895607_b1dea1fad536f3074001_72.jpg', 'image_192': 'https://avatars.slack-edge.com/2021-04-16/1958631895607_b1dea1fad536f3074001_192.jpg', 'image_512': 'https://avatars.slack-edge.com/2021-04-16/1958631895607_b1dea1fad536f3074001_512.jpg', 'image_1024': 'https://avatars.slack-edge.com/2021-04-16/1958631895607_b1dea1fad536f3074001_1024.jpg', 'status_text_canonical': '', 'team': 'T01B7SGGMLJ'}, 'is_admin': False, 'is_owner': False, 'is_primary_owner': False, 'is_restricted': False, 'is_ultra_restricted': False, 'is_bot': False, 'is_app_user': False, 'updated': 1621485453, 'is_email_confirmed': True}, {'id': 'U01UMBXJLHG', 'team_id': 'T01B7SGGMLJ', 'name': 'nvlinh.dth', 'deleted': False, 'color': 'e06b56', 'real_name': 'Nguyen Linh', 'tz': 'Asia/Bangkok', 'tz_label': 'Indochina Time', 'tz_offset': 25200, 'profile': {'title': '', 'phone': '', 'skype': '', 'real_name': 'Nguyen Linh', 'real_name_normalized': 'Nguyen Linh', 'display_name': 'Nguyen Linh', 'display_name_normalized': 'Nguyen Linh', 'fields': None, 'status_text': '', 'status_emoji': '', 'status_expiration': 0, 'avatar_hash': '39fea6d19a74', 'image_original': 'https://avatars.slack-edge.com/2021-04-16/1973616486195_39fea6d19a749644c874_original.jpg', 'is_custom_image': True, 'image_24': 'https://avatars.slack-edge.com/2021-04-16/1973616486195_39fea6d19a749644c874_24.jpg', 'image_32': 'https://avatars.slack-edge.com/2021-04-16/1973616486195_39fea6d19a749644c874_32.jpg', 'image_48': 'https://avatars.slack-edge.com/2021-04-16/1973616486195_39fea6d19a749644c874_48.jpg', 'image_72': 'https://avatars.slack-edge.com/2021-04-16/1973616486195_39fea6d19a749644c874_72.jpg', 'image_192': 'https://avatars.slack-edge.com/2021-04-16/1973616486195_39fea6d19a749644c874_192.jpg', 'image_512': 'https://avatars.slack-edge.com/2021-04-16/1973616486195_39fea6d19a749644c874_512.jpg', 'image_1024': 'https://avatars.slack-edge.com/2021-04-16/1973616486195_39fea6d19a749644c874_1024.jpg', 'status_text_canonical': '', 'team': 'T01B7SGGMLJ'}, 'is_admin': False, 'is_owner': False, 'is_primary_owner': False, 'is_restricted': False, 'is_ultra_restricted': False, 'is_bot': False, 'is_app_user': False, 'updated': 1618626915, 'is_email_confirmed': True}, {'id': 'U01UMBZHU2W', 'team_id': 'T01B7SGGMLJ', 'name': 'levy6543', 'deleted': False, 'color': 'e23f99', 'real_name': 'Vy Le', 'tz': 'Asia/Bangkok', 'tz_label': 'Indochina Time', 'tz_offset': 25200, 'profile': {'title': 'Learner', 'phone': '', 'skype': '', 'real_name': 'Vy Le', 'real_name_normalized': 'Vy Le', 'display_name': 'Vy Le', 'display_name_normalized': 'Vy Le', 'fields': None, 'status_text': '', 'status_emoji': '', 'status_expiration': 0, 'avatar_hash': '62fc5274808b', 'image_original': 'https://avatars.slack-edge.com/2021-05-09/2042441452949_62fc5274808b92fad64b_original.png', 'is_custom_image': True, 'first_name': 'Vy', 'last_name': 'Le', 'image_24': 'https://avatars.slack-edge.com/2021-05-09/2042441452949_62fc5274808b92fad64b_24.png', 'image_32': 'https://avatars.slack-edge.com/2021-05-09/2042441452949_62fc5274808b92fad64b_32.png', 'image_48': 'https://avatars.slack-edge.com/2021-05-09/2042441452949_62fc5274808b92fad64b_48.png', 'image_72': 'https://avatars.slack-edge.com/2021-05-09/2042441452949_62fc5274808b92fad64b_72.png', 'image_192': 'https://avatars.slack-edge.com/2021-05-09/2042441452949_62fc5274808b92fad64b_192.png', 'image_512': 'https://avatars.slack-edge.com/2021-05-09/2042441452949_62fc5274808b92fad64b_512.png', 'image_1024': 'https://avatars.slack-edge.com/2021-05-09/2042441452949_62fc5274808b92fad64b_1024.png', 'status_text_canonical': '', 'team': 'T01B7SGGMLJ'}, 'is_admin': False, 'is_owner': False, 'is_primary_owner': False, 'is_restricted': False, 'is_ultra_restricted': False, 'is_bot': False, 'is_app_user': False, 'updated': 1620547610, 'is_email_confirmed': True}, {'id': 'U01UMC08KL2', 'team_id': 'T01B7SGGMLJ', 'name': 'auslyn.nguyen', 'deleted': False, 'color': 'e475df', 'real_name': 'Minh-Thu Nguyen Hoang', 'tz': 'Asia/Bangkok', 'tz_label': 'Indochina Time', 'tz_offset': 25200, 'profile': {'title': '', 'phone': '', 'skype': '', 'real_name': 'Minh-Thu Nguyen Hoang', 'real_name_normalized': 'Minh-Thu Nguyen Hoang', 'display_name': '', 'display_name_normalized': '', 'fields': None, 'status_text': '', 'status_emoji': '', 'status_expiration': 0, 'avatar_hash': '3a39c93302fe', 'image_original': 'https://avatars.slack-edge.com/2021-04-17/1979576757124_3a39c93302fe63d7cc3b_original.png', 'is_custom_image': True, 'first_name': 'Minh-Thu', 'last_name': 'Nguyen Hoang', 'image_24': 'https://avatars.slack-edge.com/2021-04-17/1979576757124_3a39c93302fe63d7cc3b_24.png', 'image_32': 'https://avatars.slack-edge.com/2021-04-17/1979576757124_3a39c93302fe63d7cc3b_32.png', 'image_48': 'https://avatars.slack-edge.com/2021-04-17/1979576757124_3a39c93302fe63d7cc3b_48.png', 'image_72': 'https://avatars.slack-edge.com/2021-04-17/1979576757124_3a39c93302fe63d7cc3b_72.png', 'image_192': 'https://avatars.slack-edge.com/2021-04-17/1979576757124_3a39c93302fe63d7cc3b_192.png', 'image_512': 'https://avatars.slack-edge.com/2021-04-17/1979576757124_3a39c93302fe63d7cc3b_512.png', 'image_1024': 'https://avatars.slack-edge.com/2021-04-17/1979576757124_3a39c93302fe63d7cc3b_1024.png', 'status_text_canonical': '', 'team': 'T01B7SGGMLJ'}, 'is_admin': False, 'is_owner': False, 'is_primary_owner': False, 'is_restricted': False, 'is_ultra_restricted': False, 'is_bot': False, 'is_app_user': False, 'updated': 1618627470, 'is_email_confirmed': True}, {'id': 'U01UMC0N5U2', 'team_id': 'T01B7SGGMLJ', 'name': 'chuviethong.vn', 'deleted': False, 'color': '7d414c', 'real_name': 'Việt Hồng Chu', 'tz': 'Asia/Bangkok', 'tz_label': 'Indochina Time', 'tz_offset': 25200, 'profile': {'title': 'Business Analyst', 'phone': '0899306779', 'skype': '', 'real_name': 'Việt Hồng Chu', 'real_name_normalized': 'Việt Hồng Chu', 'display_name': 'Việt Hồng Chu', 'display_name_normalized': 'Việt Hồng Chu', 'fields': None, 'status_text': '', 'status_emoji': '', 'status_expiration': 0, 'avatar_hash': '2c2c72b71557', 'image_original': 'https://avatars.slack-edge.com/2021-05-22/2093363675059_2c2c72b71557e922c1fb_original.jpg', 'is_custom_image': True, 'first_name': 'Việt', 'last_name': 'Hồng Chu', 'image_24': 'https://avatars.slack-edge.com/2021-05-22/2093363675059_2c2c72b71557e922c1fb_24.jpg', 'image_32': 'https://avatars.slack-edge.com/2021-05-22/2093363675059_2c2c72b71557e922c1fb_32.jpg', 'image_48': 'https://avatars.slack-edge.com/2021-05-22/2093363675059_2c2c72b71557e922c1fb_48.jpg', 'image_72': 'https://avatars.slack-edge.com/2021-05-22/2093363675059_2c2c72b71557e922c1fb_72.jpg', 'image_192': 'https://avatars.slack-edge.com/2021-05-22/2093363675059_2c2c72b71557e922c1fb_192.jpg', 'image_512': 'https://avatars.slack-edge.com/2021-05-22/2093363675059_2c2c72b71557e922c1fb_512.jpg', 'image_1024': 'https://avatars.slack-edge.com/2021-05-22/2093363675059_2c2c72b71557e922c1fb_1024.jpg', 'status_text_canonical': '', 'team': 'T01B7SGGMLJ'}, 'is_admin': False, 'is_owner': False, 'is_primary_owner': False, 'is_restricted': False, 'is_ultra_restricted': False, 'is_bot': False, 'is_app_user': False, 'updated': 1621659178, 'is_email_confirmed': True}, {'id': 'U01UMC2NCSW', 'team_id': 'T01B7SGGMLJ', 'name': 't.hung2306', 'deleted': False, 'color': '4d5e26', 'real_name': 'Nguyễn Tiến Hùng', 'tz': 'Asia/Bangkok', 'tz_label': 'Indochina Time', 'tz_offset': 25200, 'profile': {'title': 'Volunteer - Event team', 'phone': '0931230697', 'skype': '', 'real_name': 'Nguyễn Tiến Hùng', 'real_name_normalized': 'Nguyễn Tiến Hung', 'display_name': 'Tiến Hùng', 'display_name_normalized': 'Tiến Hung', 'fields': None, 'status_text': '', 'status_emoji': '', 'status_expiration': 0, 'avatar_hash': '514859dd2016', 'image_original': 'https://avatars.slack-edge.com/2021-04-17/1986027633553_514859dd2016883b4477_original.jpg', 'is_custom_image': True, 'first_name': 'Nguyễn', 'last_name': 'Tiến Hùng ', 'image_24': 'https://avatars.slack-edge.com/2021-04-17/1986027633553_514859dd2016883b4477_24.jpg', 'image_32': 'https://avatars.slack-edge.com/2021-04-17/1986027633553_514859dd2016883b4477_32.jpg', 'image_48': 'https://avatars.slack-edge.com/2021-04-17/1986027633553_514859dd2016883b4477_48.jpg', 'image_72': 'https://avatars.slack-edge.com/2021-04-17/1986027633553_514859dd2016883b4477_72.jpg', 'image_192': 'https://avatars.slack-edge.com/2021-04-17/1986027633553_514859dd2016883b4477_192.jpg', 'image_512': 'https://avatars.slack-edge.com/2021-04-17/1986027633553_514859dd2016883b4477_512.jpg', 'image_1024': 'https://avatars.slack-edge.com/2021-04-17/1986027633553_514859dd2016883b4477_1024.jpg', 'status_text_canonical': '', 'team': 'T01B7SGGMLJ'}, 'is_admin': False, 'is_owner': False, 'is_primary_owner': False, 'is_restricted': False, 'is_ultra_restricted': False, 'is_bot': False, 'is_app_user': False, 'updated': 1618627641, 'is_email_confirmed': True}, {'id': 'U01UMJ36QD9', 'team_id': 'T01B7SGGMLJ', 'name': 'tranquan030894', 'deleted': False, 'color': '5a4592', 'real_name': 'Quân Nguyễn', 'tz': 'Asia/Bangkok', 'tz_label': 'Indochina Time', 'tz_offset': 25200, 'profile': {'title': '', 'phone': '', 'skype': '', 'real_name': 'Quân Nguyễn', 'real_name_normalized': 'Quan Nguyễn', 'display_name': 'Quân Nguyễn', 'display_name_normalized': 'Quan Nguyễn', 'fields': None, 'status_text': '', 'status_emoji': '', 'status_expiration': 0, 'avatar_hash': 'f536c67d419f', 'image_original': 'https://avatars.slack-edge.com/2021-04-16/1958631177655_f536c67d419fcf3ed9bd_original.png', 'is_custom_image': True, 'image_24': 'https://avatars.slack-edge.com/2021-04-16/1958631177655_f536c67d419fcf3ed9bd_24.png', 'image_32': 'https://avatars.slack-edge.com/2021-04-16/1958631177655_f536c67d419fcf3ed9bd_32.png', 'image_48': 'https://avatars.slack-edge.com/2021-04-16/1958631177655_f536c67d419fcf3ed9bd_48.png', 'image_72': 'https://avatars.slack-edge.com/2021-04-16/1958631177655_f536c67d419fcf3ed9bd_72.png', 'image_192': 'https://avatars.slack-edge.com/2021-04-16/1958631177655_f536c67d419fcf3ed9bd_192.png', 'image_512': 'https://avatars.slack-edge.com/2021-04-16/1958631177655_f536c67d419fcf3ed9bd_512.png', 'image_1024': 'https://avatars.slack-edge.com/2021-04-16/1958631177655_f536c67d419fcf3ed9bd_1024.png', 'status_text_canonical': '', 'team': 'T01B7SGGMLJ'}, 'is_admin': False, 'is_owner': False, 'is_primary_owner': False, 'is_restricted': False, 'is_ultra_restricted': False, 'is_bot': False, 'is_app_user': False, 'updated': 1618626797, 'is_email_confirmed': True}, {'id': 'U01UMJ451V1', 'team_id': 'T01B7SGGMLJ', 'name': 'nganho124', 'deleted': False, 'color': 'd55aef', 'real_name': 'Hồ Bảo Ngân', 'tz': 'Asia/Bangkok', 'tz_label': 'Indochina Time', 'tz_offset': 25200, 'profile': {'title': '', 'phone': '', 'skype': '', 'real_name': 'Hồ Bảo Ngân', 'real_name_normalized': 'Hồ Bảo Ngan', 'display_name': 'Hồ Bảo Ngân', 'display_name_normalized': 'Hồ Bảo Ngan', 'fields': None, 'status_text': '', 'status_emoji': '', 'status_expiration': 0, 'avatar_hash': 'baa25320fde5', 'image_original': 'https://avatars.slack-edge.com/2021-06-01/2124563886579_baa25320fde57d439093_original.jpg', 'is_custom_image': True, 'image_24': 'https://avatars.slack-edge.com/2021-06-01/2124563886579_baa25320fde57d439093_24.jpg', 'image_32': 'https://avatars.slack-edge.com/2021-06-01/2124563886579_baa25320fde57d439093_32.jpg', 'image_48': 'https://avatars.slack-edge.com/2021-06-01/2124563886579_baa25320fde57d439093_48.jpg', 'image_72': 'https://avatars.slack-edge.com/2021-06-01/2124563886579_baa25320fde57d439093_72.jpg', 'image_192': 'https://avatars.slack-edge.com/2021-06-01/2124563886579_baa25320fde57d439093_192.jpg', 'image_512': 'https://avatars.slack-edge.com/2021-06-01/2124563886579_baa25320fde57d439093_512.jpg', 'image_1024': 'https://avatars.slack-edge.com/2021-06-01/2124563886579_baa25320fde57d439093_1024.jpg', 'status_text_canonical': '', 'team': 'T01B7SGGMLJ'}, 'is_admin': False, 'is_owner': False, 'is_primary_owner': False, 'is_restricted': False, 'is_ultra_restricted': False, 'is_bot': False, 'is_app_user': False, 'updated': 1622559704, 'is_email_confirmed': True}, {'id': 'U01UMJ4D5NX', 'team_id': 'T01B7SGGMLJ', 'name': 'dr.thuongnguyen', 'deleted': False, 'color': '43761b', 'real_name': 'Thuong Nguyen', 'tz': 'Asia/Bangkok', 'tz_label': 'Indochina Time', 'tz_offset': 25200, 'profile': {'title': '', 'phone': '', 'skype': '', 'real_name': 'Thuong Nguyen', 'real_name_normalized': 'Thuong Nguyen', 'display_name': 'Thuong Nguyen', 'display_name_normalized': 'Thuong Nguyen', 'fields': None, 'status_text': '', 'status_emoji': '', 'status_expiration': 0, 'avatar_hash': 'g1a01e4f5792', 'image_24': 'https://secure.gravatar.com/avatar/1a01e4f5792f80d5d6557fea90bc97fc.jpg?s=24&d=https%3A%2F%2Fa.slack-edge.com%2Fdf10d%2Fimg%2Favatars%2Fava_0011-24.png', 'image_32': 'https://secure.gravatar.com/avatar/1a01e4f5792f80d5d6557fea90bc97fc.jpg?s=32&d=https%3A%2F%2Fa.slack-edge.com%2Fdf10d%2Fimg%2Favatars%2Fava_0011-32.png', 'image_48': 'https://secure.gravatar.com/avatar/1a01e4f5792f80d5d6557fea90bc97fc.jpg?s=48&d=https%3A%2F%2Fa.slack-edge.com%2Fdf10d%2Fimg%2Favatars%2Fava_0011-48.png', 'image_72': 'https://secure.gravatar.com/avatar/1a01e4f5792f80d5d6557fea90bc97fc.jpg?s=72&d=https%3A%2F%2Fa.slack-edge.com%2Fdf10d%2Fimg%2Favatars%2Fava_0011-72.png', 'image_192': 'https://secure.gravatar.com/avatar/1a01e4f5792f80d5d6557fea90bc97fc.jpg?s=192&d=https%3A%2F%2Fa.slack-edge.com%2Fdf10d%2Fimg%2Favatars%2Fava_0011-192.png', 'image_512': 'https://secure.gravatar.com/avatar/1a01e4f5792f80d5d6557fea90bc97fc.jpg?s=512&d=https%3A%2F%2Fa.slack-edge.com%2Fdf10d%2Fimg%2Favatars%2Fava_0011-512.png', 'status_text_canonical': '', 'team': 'T01B7SGGMLJ'}, 'is_admin': False, 'is_owner': False, 'is_primary_owner': False, 'is_restricted': False, 'is_ultra_restricted': False, 'is_bot': False, 'is_app_user': False, 'updated': 1618626910, 'is_email_confirmed': True}, {'id': 'U01UMJ4J38B', 'team_id': 'T01B7SGGMLJ', 'name': 'nguyenthithutram2413', 'deleted': False, 'color': '8f4a2b', 'real_name': 'TramNguyen', 'tz': 'Asia/Bangkok', 'tz_label': 'Indochina Time', 'tz_offset': 25200, 'profile': {'title': '', 'phone': '', 'skype': '', 'real_name': 'TramNguyen', 'real_name_normalized': 'TramNguyen', 'display_name': '', 'display_name_normalized': '', 'fields': None, 'status_text': '', 'status_emoji': '', 'status_expiration': 0, 'avatar_hash': 'gb95bc88c820', 'image_24': 'https://secure.gravatar.com/avatar/b95bc88c8200e8dba8b8a4023a3d32b7.jpg?s=24&d=https%3A%2F%2Fa.slack-edge.com%2Fdf10d%2Fimg%2Favatars%2Fava_0007-24.png', 'image_32': 'https://secure.gravatar.com/avatar/b95bc88c8200e8dba8b8a4023a3d32b7.jpg?s=32&d=https%3A%2F%2Fa.slack-edge.com%2Fdf10d%2Fimg%2Favatars%2Fava_0007-32.png', 'image_48': 'https://secure.gravatar.com/avatar/b95bc88c8200e8dba8b8a4023a3d32b7.jpg?s=48&d=https%3A%2F%2Fa.slack-edge.com%2Fdf10d%2Fimg%2Favatars%2Fava_0007-48.png', 'image_72': 'https://secure.gravatar.com/avatar/b95bc88c8200e8dba8b8a4023a3d32b7.jpg?s=72&d=https%3A%2F%2Fa.slack-edge.com%2Fdf10d%2Fimg%2Favatars%2Fava_0007-72.png', 'image_192': 'https://secure.gravatar.com/avatar/b95bc88c8200e8dba8b8a4023a3d32b7.jpg?s=192&d=https%3A%2F%2Fa.slack-edge.com%2Fdf10d%2Fimg%2Favatars%2Fava_0007-192.png', 'image_512': 'https://secure.gravatar.com/avatar/b95bc88c8200e8dba8b8a4023a3d32b7.jpg?s=512&d=https%3A%2F%2Fa.slack-edge.com%2Fdf10d%2Fimg%2Favatars%2Fava_0007-512.png', 'status_text_canonical': '', 'team': 'T01B7SGGMLJ'}, 'is_admin': False, 'is_owner': False, 'is_primary_owner': False, 'is_restricted': False, 'is_ultra_restricted': False, 'is_bot': False, 'is_app_user': False, 'updated': 1618626925, 'is_email_confirmed': True}, {'id': 'U01UMJ5AQ0K', 'team_id': 'T01B7SGGMLJ', 'name': 'duongphannamhung', 'deleted': False, 'color': '8d4b84', 'real_name': 'Dương Phan Nam Hưng', 'tz': 'Asia/Bangkok', 'tz_label': 'Indochina Time', 'tz_offset': 25200, 'profile': {'title': '', 'phone': '', 'skype': '', 'real_name': 'Dương Phan Nam Hưng', 'real_name_normalized': 'Dương Phan Nam Hưng', 'display_name': 'Dương Phan Nam Hưng', 'display_name_normalized': 'Dương Phan Nam Hưng', 'fields': None, 'status_text': 'DATACRACY !', 'status_emoji': ':fire:', 'status_expiration': 0, 'avatar_hash': '1c72cf801be9', 'image_original': 'https://avatars.slack-edge.com/2021-04-16/1970329151397_1c72cf801be9b3524996_original.jpg', 'is_custom_image': True, 'first_name': 'Dương', 'last_name': 'Phan Nam Hưng', 'image_24': 'https://avatars.slack-edge.com/2021-04-16/1970329151397_1c72cf801be9b3524996_24.jpg', 'image_32': 'https://avatars.slack-edge.com/2021-04-16/1970329151397_1c72cf801be9b3524996_32.jpg', 'image_48': 'https://avatars.slack-edge.com/2021-04-16/1970329151397_1c72cf801be9b3524996_48.jpg', 'image_72': 'https://avatars.slack-edge.com/2021-04-16/1970329151397_1c72cf801be9b3524996_72.jpg', 'image_192': 'https://avatars.slack-edge.com/2021-04-16/1970329151397_1c72cf801be9b3524996_192.jpg', 'image_512': 'https://avatars.slack-edge.com/2021-04-16/1970329151397_1c72cf801be9b3524996_512.jpg', 'image_1024': 'https://avatars.slack-edge.com/2021-04-16/1970329151397_1c72cf801be9b3524996_1024.jpg', 'status_text_canonical': '', 'team': 'T01B7SGGMLJ'}, 'is_admin': False, 'is_owner': False, 'is_primary_owner': False, 'is_restricted': False, 'is_ultra_restricted': False, 'is_bot': False, 'is_app_user': False, 'updated': 1622257577, 'is_email_confirmed': True}, {'id': 'U01UQGZHSTZ', 'team_id': 'T01B7SGGMLJ', 'name': 'toantran2206', 'deleted': False, 'color': 'b14cbc', 'real_name': 'Toan Tran', 'tz': 'Asia/Bangkok', 'tz_label': 'Indochina Time', 'tz_offset': 25200, 'profile': {'title': 'Learner_Grp2', 'phone': '', 'skype': '', 'real_name': 'Toan Tran', 'real_name_normalized': 'Toan Tran', 'display_name': 'Toan Tran', 'display_name_normalized': 'Toan Tran', 'fields': None, 'status_text': '', 'status_emoji': '', 'status_expiration': 0, 'avatar_hash': '19bf761c46d6', 'image_original': 'https://avatars.slack-edge.com/2021-04-22/1991561494691_19bf761c46d6fb60d4d8_original.png', 'is_custom_image': True, 'first_name': 'Toan', 'last_name': 'Tran', 'image_24': 'https://avatars.slack-edge.com/2021-04-22/1991561494691_19bf761c46d6fb60d4d8_24.png', 'image_32': 'https://avatars.slack-edge.com/2021-04-22/1991561494691_19bf761c46d6fb60d4d8_32.png', 'image_48': 'https://avatars.slack-edge.com/2021-04-22/1991561494691_19bf761c46d6fb60d4d8_48.png', 'image_72': 'https://avatars.slack-edge.com/2021-04-22/1991561494691_19bf761c46d6fb60d4d8_72.png', 'image_192': 'https://avatars.slack-edge.com/2021-04-22/1991561494691_19bf761c46d6fb60d4d8_192.png', 'image_512': 'https://avatars.slack-edge.com/2021-04-22/1991561494691_19bf761c46d6fb60d4d8_512.png', 'image_1024': 'https://avatars.slack-edge.com/2021-04-22/1991561494691_19bf761c46d6fb60d4d8_1024.png', 'status_text_canonical': '', 'team': 'T01B7SGGMLJ'}, 'is_admin': False, 'is_owner': False, 'is_primary_owner': False, 'is_restricted': False, 'is_ultra_restricted': False, 'is_bot': False, 'is_app_user': False, 'updated': 1622257555, 'is_email_confirmed': True}, {'id': 'U01USGKQ771', 'team_id': 'T01B7SGGMLJ', 'name': 'trang.ngo1709', 'deleted': False, 'color': 'e7392d', 'real_name': 'Ngo Thi Minh Trang', 'tz': 'Asia/Bangkok', 'tz_label': 'Indochina Time', 'tz_offset': 25200, 'profile': {'title': '', 'phone': '', 'skype': '', 'real_name': 'Ngo Thi Minh Trang', 'real_name_normalized': 'Ngo Thi Minh Trang', 'display_name': 'Trang', 'display_name_normalized': 'Trang', 'fields': None, 'status_text': '', 'status_emoji': '', 'status_expiration': 0, 'avatar_hash': '065aab3c5bc5', 'image_original': 'https://avatars.slack-edge.com/2021-04-23/1990262220597_065aab3c5bc533957446_original.png', 'is_custom_image': True, 'first_name': 'Ngo', 'last_name': 'Thi Minh Trang', 'image_24': 'https://avatars.slack-edge.com/2021-04-23/1990262220597_065aab3c5bc533957446_24.png', 'image_32': 'https://avatars.slack-edge.com/2021-04-23/1990262220597_065aab3c5bc533957446_32.png', 'image_48': 'https://avatars.slack-edge.com/2021-04-23/1990262220597_065aab3c5bc533957446_48.png', 'image_72': 'https://avatars.slack-edge.com/2021-04-23/1990262220597_065aab3c5bc533957446_72.png', 'image_192': 'https://avatars.slack-edge.com/2021-04-23/1990262220597_065aab3c5bc533957446_192.png', 'image_512': 'https://avatars.slack-edge.com/2021-04-23/1990262220597_065aab3c5bc533957446_512.png', 'image_1024': 'https://avatars.slack-edge.com/2021-04-23/1990262220597_065aab3c5bc533957446_1024.png', 'status_text_canonical': '', 'team': 'T01B7SGGMLJ'}, 'is_admin': False, 'is_owner': False, 'is_primary_owner': False, 'is_restricted': False, 'is_ultra_restricted': False, 'is_bot': False, 'is_app_user': False, 'updated': 1619139296, 'is_email_confirmed': True}, {'id': 'U01UTGRMGEQ', 'team_id': 'T01B7SGGMLJ', 'name': 'hanh.nguyenhong2511', 'deleted': False, 'color': 'd58247', 'real_name': 'Nguyen Thi Hong Hanh', 'tz': 'Asia/Bangkok', 'tz_label': 'Indochina Time', 'tz_offset': 25200, 'profile': {'title': 'Learner_Gr4', 'phone': '0382362263', 'skype': '', 'real_name': 'Nguyen Thi Hong Hanh', 'real_name_normalized': 'Nguyen Thi Hong Hanh', 'display_name': 'Nguyen Hong Hanh', 'display_name_normalized': 'Nguyen Hong Hanh', 'fields': None, 'status_text': '', 'status_emoji': '', 'status_expiration': 0, 'avatar_hash': 'cd5dba3ef8ed', 'image_original': 'https://avatars.slack-edge.com/2021-04-16/1966627335078_cd5dba3ef8edd0a841e0_original.jpg', 'is_custom_image': True, 'first_name': 'Nguyen', 'last_name': 'Thi Hong Hanh', 'image_24': 'https://avatars.slack-edge.com/2021-04-16/1966627335078_cd5dba3ef8edd0a841e0_24.jpg', 'image_32': 'https://avatars.slack-edge.com/2021-04-16/1966627335078_cd5dba3ef8edd0a841e0_32.jpg', 'image_48': 'https://avatars.slack-edge.com/2021-04-16/1966627335078_cd5dba3ef8edd0a841e0_48.jpg', 'image_72': 'https://avatars.slack-edge.com/2021-04-16/1966627335078_cd5dba3ef8edd0a841e0_72.jpg', 'image_192': 'https://avatars.slack-edge.com/2021-04-16/1966627335078_cd5dba3ef8edd0a841e0_192.jpg', 'image_512': 'https://avatars.slack-edge.com/2021-04-16/1966627335078_cd5dba3ef8edd0a841e0_512.jpg', 'image_1024': 'https://avatars.slack-edge.com/2021-04-16/1966627335078_cd5dba3ef8edd0a841e0_1024.jpg', 'status_text_canonical': '', 'team': 'T01B7SGGMLJ'}, 'is_admin': False, 'is_owner': False, 'is_primary_owner': False, 'is_restricted': False, 'is_ultra_restricted': False, 'is_bot': False, 'is_app_user': False, 'updated': 1622257584, 'is_email_confirmed': True}, {'id': 'U01UTGRP0HJ', 'team_id': 'T01B7SGGMLJ', 'name': 'phamtran30996', 'deleted': False, 'color': 'bb86b7', 'real_name': 'Tran Pham', 'tz': 'Asia/Bangkok', 'tz_label': 'Indochina Time', 'tz_offset': 25200, 'profile': {'title': '', 'phone': '', 'skype': '', 'real_name': 'Tran Pham', 'real_name_normalized': 'Tran Pham', 'display_name': 'Tran Pham', 'display_name_normalized': 'Tran Pham', 'fields': None, 'status_text': '', 'status_emoji': '', 'status_expiration': 0, 'avatar_hash': 'efcd0dea40bd', 'image_original': 'https://avatars.slack-edge.com/2021-05-14/2066696304515_efcd0dea40bd5a82e6cc_original.jpg', 'is_custom_image': True, 'image_24': 'https://avatars.slack-edge.com/2021-05-14/2066696304515_efcd0dea40bd5a82e6cc_24.jpg', 'image_32': 'https://avatars.slack-edge.com/2021-05-14/2066696304515_efcd0dea40bd5a82e6cc_32.jpg', 'image_48': 'https://avatars.slack-edge.com/2021-05-14/2066696304515_efcd0dea40bd5a82e6cc_48.jpg', 'image_72': 'https://avatars.slack-edge.com/2021-05-14/2066696304515_efcd0dea40bd5a82e6cc_72.jpg', 'image_192': 'https://avatars.slack-edge.com/2021-05-14/2066696304515_efcd0dea40bd5a82e6cc_192.jpg', 'image_512': 'https://avatars.slack-edge.com/2021-05-14/2066696304515_efcd0dea40bd5a82e6cc_512.jpg', 'image_1024': 'https://avatars.slack-edge.com/2021-05-14/2066696304515_efcd0dea40bd5a82e6cc_1024.jpg', 'status_text_canonical': '', 'team': 'T01B7SGGMLJ'}, 'is_admin': False, 'is_owner': False, 'is_primary_owner': False, 'is_restricted': False, 'is_ultra_restricted': False, 'is_bot': False, 'is_app_user': False, 'updated': 1621004963, 'is_email_confirmed': True}, {'id': 'U01UTGRQS9J', 'team_id': 'T01B7SGGMLJ', 'name': 'vukhanhlinh.3526', 'deleted': False, 'color': '235e5b', 'real_name': 'Linh Vu', 'tz': 'Asia/Bangkok', 'tz_label': 'Indochina Time', 'tz_offset': 25200, 'profile': {'title': '', 'phone': '', 'skype': '', 'real_name': 'Linh Vu', 'real_name_normalized': 'Linh Vu', 'display_name': 'Linh Vu', 'display_name_normalized': 'Linh Vu', 'fields': None, 'status_text': '', 'status_emoji': '', 'status_expiration': 0, 'avatar_hash': '1d55c25ef7e5', 'image_original': 'https://avatars.slack-edge.com/2021-04-16/1986018930129_1d55c25ef7e50ab14a19_original.jpg', 'is_custom_image': True, 'image_24': 'https://avatars.slack-edge.com/2021-04-16/1986018930129_1d55c25ef7e50ab14a19_24.jpg', 'image_32': 'https://avatars.slack-edge.com/2021-04-16/1986018930129_1d55c25ef7e50ab14a19_32.jpg', 'image_48': 'https://avatars.slack-edge.com/2021-04-16/1986018930129_1d55c25ef7e50ab14a19_48.jpg', 'image_72': 'https://avatars.slack-edge.com/2021-04-16/1986018930129_1d55c25ef7e50ab14a19_72.jpg', 'image_192': 'https://avatars.slack-edge.com/2021-04-16/1986018930129_1d55c25ef7e50ab14a19_192.jpg', 'image_512': 'https://avatars.slack-edge.com/2021-04-16/1986018930129_1d55c25ef7e50ab14a19_512.jpg', 'image_1024': 'https://avatars.slack-edge.com/2021-04-16/1986018930129_1d55c25ef7e50ab14a19_1024.jpg', 'status_text_canonical': '', 'team': 'T01B7SGGMLJ'}, 'is_admin': False, 'is_owner': False, 'is_primary_owner': False, 'is_restricted': False, 'is_ultra_restricted': False, 'is_bot': False, 'is_app_user': False, 'updated': 1618626801, 'is_email_confirmed': True}, {'id': 'U01UTGS5ZNY', 'team_id': 'T01B7SGGMLJ', 'name': 'ngocha.nt1476', 'deleted': False, 'color': '385a86', 'real_name': 'Hà Nguyễn', 'tz': 'Asia/Bangkok', 'tz_label': 'Indochina Time', 'tz_offset': 25200, 'profile': {'title': '', 'phone': '', 'skype': '', 'real_name': 'Hà Nguyễn', 'real_name_normalized': 'Ha Nguyễn', 'display_name': 'Hà Nguyễn', 'display_name_normalized': 'Ha Nguyễn', 'fields': None, 'status_text': '', 'status_emoji': '', 'status_expiration': 0, 'avatar_hash': '48b473c4a69c', 'image_original': 'https://avatars.slack-edge.com/2021-04-16/1966627783558_48b473c4a69c29d0bddb_original.png', 'is_custom_image': True, 'image_24': 'https://avatars.slack-edge.com/2021-04-16/1966627783558_48b473c4a69c29d0bddb_24.png', 'image_32': 'https://avatars.slack-edge.com/2021-04-16/1966627783558_48b473c4a69c29d0bddb_32.png', 'image_48': 'https://avatars.slack-edge.com/2021-04-16/1966627783558_48b473c4a69c29d0bddb_48.png', 'image_72': 'https://avatars.slack-edge.com/2021-04-16/1966627783558_48b473c4a69c29d0bddb_72.png', 'image_192': 'https://avatars.slack-edge.com/2021-04-16/1966627783558_48b473c4a69c29d0bddb_192.png', 'image_512': 'https://avatars.slack-edge.com/2021-04-16/1966627783558_48b473c4a69c29d0bddb_512.png', 'image_1024': 'https://avatars.slack-edge.com/2021-04-16/1966627783558_48b473c4a69c29d0bddb_1024.png', 'status_text_canonical': '', 'team': 'T01B7SGGMLJ'}, 'is_admin': False, 'is_owner': False, 'is_primary_owner': False, 'is_restricted': False, 'is_ultra_restricted': False, 'is_bot': False, 'is_app_user': False, 'updated': 1618626834, 'is_email_confirmed': True}, {'id': 'U01UTGT8CVA', 'team_id': 'T01B7SGGMLJ', 'name': 'ngttnguyen', 'deleted': False, 'color': '902d59', 'real_name': 'Nguyễn Thao Nguyên', 'tz': 'Asia/Bangkok', 'tz_label': 'Indochina Time', 'tz_offset': 25200, 'profile': {'title': '', 'phone': '', 'skype': '', 'real_name': 'Nguyễn Thao Nguyên', 'real_name_normalized': 'Nguyễn Thao Nguyen', 'display_name': 'Nguyễn Thảo Nguyên', 'display_name_normalized': 'Nguyễn Thảo Nguyen', 'fields': None, 'status_text': '', 'status_emoji': '', 'status_expiration': 0, 'avatar_hash': 'g4aded7a76f3', 'first_name': 'Nguyễn', 'last_name': 'Thao Nguyên', 'image_24': 'https://secure.gravatar.com/avatar/4aded7a76f31d81e07cf8c93237d7058.jpg?s=24&d=https%3A%2F%2Fa.slack-edge.com%2Fdf10d%2Fimg%2Favatars%2Fava_0011-24.png', 'image_32': 'https://secure.gravatar.com/avatar/4aded7a76f31d81e07cf8c93237d7058.jpg?s=32&d=https%3A%2F%2Fa.slack-edge.com%2Fdf10d%2Fimg%2Favatars%2Fava_0011-32.png', 'image_48': 'https://secure.gravatar.com/avatar/4aded7a76f31d81e07cf8c93237d7058.jpg?s=48&d=https%3A%2F%2Fa.slack-edge.com%2Fdf10d%2Fimg%2Favatars%2Fava_0011-48.png', 'image_72': 'https://secure.gravatar.com/avatar/4aded7a76f31d81e07cf8c93237d7058.jpg?s=72&d=https%3A%2F%2Fa.slack-edge.com%2Fdf10d%2Fimg%2Favatars%2Fava_0011-72.png', 'image_192': 'https://secure.gravatar.com/avatar/4aded7a76f31d81e07cf8c93237d7058.jpg?s=192&d=https%3A%2F%2Fa.slack-edge.com%2Fdf10d%2Fimg%2Favatars%2Fava_0011-192.png', 'image_512': 'https://secure.gravatar.com/avatar/4aded7a76f31d81e07cf8c93237d7058.jpg?s=512&d=https%3A%2F%2Fa.slack-edge.com%2Fdf10d%2Fimg%2Favatars%2Fava_0011-512.png', 'status_text_canonical': '', 'team': 'T01B7SGGMLJ'}, 'is_admin': False, 'is_owner': False, 'is_primary_owner': False, 'is_restricted': False, 'is_ultra_restricted': False, 'is_bot': False, 'is_app_user': False, 'updated': 1621499056, 'is_email_confirmed': True}, {'id': 'U01UTGVPE7N', 'team_id': 'T01B7SGGMLJ', 'name': 'phuonghoaiftu2.k55', 'deleted': False, 'color': '619a4f', 'real_name': 'ntp-hoai', 'tz': 'Asia/Bangkok', 'tz_label': 'Indochina Time', 'tz_offset': 25200, 'profile': {'title': '', 'phone': '', 'skype': '', 'real_name': 'ntp-hoai', 'real_name_normalized': 'ntp-hoai', 'display_name': 'ntp-hoai', 'display_name_normalized': 'ntp-hoai', 'fields': None, 'status_text': '', 'status_emoji': '', 'status_expiration': 0, 'avatar_hash': '85caec219f27', 'image_original': 'https://avatars.slack-edge.com/2021-05-15/2074471560260_85caec219f275194cb29_original.png', 'is_custom_image': True, 'first_name': 'ntp-hoai', 'last_name': '', 'image_24': 'https://avatars.slack-edge.com/2021-05-15/2074471560260_85caec219f275194cb29_24.png', 'image_32': 'https://avatars.slack-edge.com/2021-05-15/2074471560260_85caec219f275194cb29_32.png', 'image_48': 'https://avatars.slack-edge.com/2021-05-15/2074471560260_85caec219f275194cb29_48.png', 'image_72': 'https://avatars.slack-edge.com/2021-05-15/2074471560260_85caec219f275194cb29_72.png', 'image_192': 'https://avatars.slack-edge.com/2021-05-15/2074471560260_85caec219f275194cb29_192.png', 'image_512': 'https://avatars.slack-edge.com/2021-05-15/2074471560260_85caec219f275194cb29_512.png', 'image_1024': 'https://avatars.slack-edge.com/2021-05-15/2074471560260_85caec219f275194cb29_1024.png', 'status_text_canonical': '', 'team': 'T01B7SGGMLJ'}, 'is_admin': False, 'is_owner': False, 'is_primary_owner': False, 'is_restricted': False, 'is_ultra_restricted': False, 'is_bot': False, 'is_app_user': False, 'updated': 1621046485, 'is_email_confirmed': True}, {'id': 'U01UTQ4AVRS', 'team_id': 'T01B7SGGMLJ', 'name': 'sondaoxuan.aof', 'deleted': False, 'color': 'bd9336', 'real_name': 'Sơn Đào Xuân', 'tz': 'Asia/Bangkok', 'tz_label': 'Indochina Time', 'tz_offset': 25200, 'profile': {'title': '', 'phone': '', 'skype': '', 'real_name': 'Sơn Đào Xuân', 'real_name_normalized': 'Sơn Dao Xuan', 'display_name': 'Sơn Đào Xuân', 'display_name_normalized': 'Sơn Dao Xuan', 'fields': None, 'status_text': '', 'status_emoji': '', 'status_expiration': 0, 'avatar_hash': '0760d3f672e4', 'image_original': 'https://avatars.slack-edge.com/2021-04-17/1970577588901_0760d3f672e4bbc86a1f_original.png', 'is_custom_image': True, 'image_24': 'https://avatars.slack-edge.com/2021-04-17/1970577588901_0760d3f672e4bbc86a1f_24.png', 'image_32': 'https://avatars.slack-edge.com/2021-04-17/1970577588901_0760d3f672e4bbc86a1f_32.png', 'image_48': 'https://avatars.slack-edge.com/2021-04-17/1970577588901_0760d3f672e4bbc86a1f_48.png', 'image_72': 'https://avatars.slack-edge.com/2021-04-17/1970577588901_0760d3f672e4bbc86a1f_72.png', 'image_192': 'https://avatars.slack-edge.com/2021-04-17/1970577588901_0760d3f672e4bbc86a1f_192.png', 'image_512': 'https://avatars.slack-edge.com/2021-04-17/1970577588901_0760d3f672e4bbc86a1f_512.png', 'image_1024': 'https://avatars.slack-edge.com/2021-04-17/1970577588901_0760d3f672e4bbc86a1f_1024.png', 'status_text_canonical': '', 'team': 'T01B7SGGMLJ'}, 'is_admin': False, 'is_owner': False, 'is_primary_owner': False, 'is_restricted': False, 'is_ultra_restricted': False, 'is_bot': False, 'is_app_user': False, 'updated': 1618651811, 'is_email_confirmed': True}, {'id': 'U01V00JK9LH', 'team_id': 'T01B7SGGMLJ', 'name': 'dinhtuan3955', 'deleted': False, 'color': '4cc091', 'real_name': 'Đình Tuấn Phạm', 'tz': 'Asia/Bangkok', 'tz_label': 'Indochina Time', 'tz_offset': 25200, 'profile': {'title': '', 'phone': '', 'skype': '', 'real_name': 'Đình Tuấn Phạm', 'real_name_normalized': 'Dinh Tuấn Phạm', 'display_name': 'Đình Tuấn Phạm', 'display_name_normalized': 'Dinh Tuấn Phạm', 'fields': None, 'status_text': '', 'status_emoji': '', 'status_expiration': 0, 'avatar_hash': '6f69aa79814c', 'image_original': 'https://avatars.slack-edge.com/2021-04-16/1958630968695_6f69aa79814cdf154921_original.jpg', 'is_custom_image': True, 'image_24': 'https://avatars.slack-edge.com/2021-04-16/1958630968695_6f69aa79814cdf154921_24.jpg', 'image_32': 'https://avatars.slack-edge.com/2021-04-16/1958630968695_6f69aa79814cdf154921_32.jpg', 'image_48': 'https://avatars.slack-edge.com/2021-04-16/1958630968695_6f69aa79814cdf154921_48.jpg', 'image_72': 'https://avatars.slack-edge.com/2021-04-16/1958630968695_6f69aa79814cdf154921_72.jpg', 'image_192': 'https://avatars.slack-edge.com/2021-04-16/1958630968695_6f69aa79814cdf154921_192.jpg', 'image_512': 'https://avatars.slack-edge.com/2021-04-16/1958630968695_6f69aa79814cdf154921_512.jpg', 'image_1024': 'https://avatars.slack-edge.com/2021-04-16/1958630968695_6f69aa79814cdf154921_1024.jpg', 'status_text_canonical': '', 'team': 'T01B7SGGMLJ'}, 'is_admin': False, 'is_owner': False, 'is_primary_owner': False, 'is_restricted': False, 'is_ultra_restricted': False, 'is_bot': False, 'is_app_user': False, 'updated': 1618626777, 'is_email_confirmed': True}, {'id': 'U01V00KHHHP', 'team_id': 'T01B7SGGMLJ', 'name': 'phuongttn50.hrc', 'deleted': False, 'color': 'ea2977', 'real_name': 'Phuong Tran', 'tz': 'Asia/Bangkok', 'tz_label': 'Indochina Time', 'tz_offset': 25200, 'profile': {'title': '', 'phone': '', 'skype': '', 'real_name': 'Phuong Tran', 'real_name_normalized': 'Phuong Tran', 'display_name': 'Phuong Tran', 'display_name_normalized': 'Phuong Tran', 'fields': None, 'status_text': '', 'status_emoji': '', 'status_expiration': 0, 'avatar_hash': '3b12eb0c1f76', 'image_original': 'https://avatars.slack-edge.com/2021-05-16/2054862214503_3b12eb0c1f76fb5885a0_original.jpg', 'is_custom_image': True, 'image_24': 'https://avatars.slack-edge.com/2021-05-16/2054862214503_3b12eb0c1f76fb5885a0_24.jpg', 'image_32': 'https://avatars.slack-edge.com/2021-05-16/2054862214503_3b12eb0c1f76fb5885a0_32.jpg', 'image_48': 'https://avatars.slack-edge.com/2021-05-16/2054862214503_3b12eb0c1f76fb5885a0_48.jpg', 'image_72': 'https://avatars.slack-edge.com/2021-05-16/2054862214503_3b12eb0c1f76fb5885a0_72.jpg', 'image_192': 'https://avatars.slack-edge.com/2021-05-16/2054862214503_3b12eb0c1f76fb5885a0_192.jpg', 'image_512': 'https://avatars.slack-edge.com/2021-05-16/2054862214503_3b12eb0c1f76fb5885a0_512.jpg', 'image_1024': 'https://avatars.slack-edge.com/2021-05-16/2054862214503_3b12eb0c1f76fb5885a0_1024.jpg', 'status_text_canonical': '', 'team': 'T01B7SGGMLJ'}, 'is_admin': False, 'is_owner': False, 'is_primary_owner': False, 'is_restricted': False, 'is_ultra_restricted': False, 'is_bot': False, 'is_app_user': False, 'updated': 1621174430, 'is_email_confirmed': True}, {'id': 'U01V00LQ7EV', 'team_id': 'T01B7SGGMLJ', 'name': 'nqlong', 'deleted': False, 'color': 'a2a5dc', 'real_name': 'Nguyễn Quang Long', 'tz': 'Asia/Bangkok', 'tz_label': 'Indochina Time', 'tz_offset': 25200, 'profile': {'title': 'Mentor', 'phone': '', 'skype': '', 'real_name': 'Nguyễn Quang Long', 'real_name_normalized': 'Nguyễn Quang Long', 'display_name': 'Nguyễn Quang Long', 'display_name_normalized': 'Nguyễn Quang Long', 'fields': None, 'status_text': '', 'status_emoji': '', 'status_expiration': 0, 'avatar_hash': '7fd1ffc5b934', 'image_original': 'https://avatars.slack-edge.com/2021-04-17/1973854549522_7fd1ffc5b9344ec4d640_original.jpg', 'is_custom_image': True, 'first_name': 'Nguyễn', 'last_name': 'Quang Long', 'image_24': 'https://avatars.slack-edge.com/2021-04-17/1973854549522_7fd1ffc5b9344ec4d640_24.jpg', 'image_32': 'https://avatars.slack-edge.com/2021-04-17/1973854549522_7fd1ffc5b9344ec4d640_32.jpg', 'image_48': 'https://avatars.slack-edge.com/2021-04-17/1973854549522_7fd1ffc5b9344ec4d640_48.jpg', 'image_72': 'https://avatars.slack-edge.com/2021-04-17/1973854549522_7fd1ffc5b9344ec4d640_72.jpg', 'image_192': 'https://avatars.slack-edge.com/2021-04-17/1973854549522_7fd1ffc5b9344ec4d640_192.jpg', 'image_512': 'https://avatars.slack-edge.com/2021-04-17/1973854549522_7fd1ffc5b9344ec4d640_512.jpg', 'image_1024': 'https://avatars.slack-edge.com/2021-04-17/1973854549522_7fd1ffc5b9344ec4d640_1024.jpg', 'status_text_canonical': '', 'team': 'T01B7SGGMLJ'}, 'is_admin': False, 'is_owner': False, 'is_primary_owner': False, 'is_restricted': False, 'is_ultra_restricted': False, 'is_bot': False, 'is_app_user': False, 'updated': 1618670086, 'is_email_confirmed': True}, {'id': 'U01V00P4S2V', 'team_id': 'T01B7SGGMLJ', 'name': 'datvt19414c', 'deleted': False, 'color': 'a72f79', 'real_name': 'Đạt Vũ Thành', 'tz': 'Asia/Bangkok', 'tz_label': 'Indochina Time', 'tz_offset': 25200, 'profile': {'title': '', 'phone': '', 'skype': '', 'real_name': 'Đạt Vũ Thành', 'real_name_normalized': 'Dạt Vu Thanh', 'display_name': 'Đạt Vũ Thành', 'display_name_normalized': 'Dạt Vu Thanh', 'fields': None, 'status_text': '', 'status_emoji': '', 'status_expiration': 0, 'avatar_hash': '5b3b04cc2b49', 'image_original': 'https://avatars.slack-edge.com/2021-04-16/1973619516483_5b3b04cc2b49f890f9ed_original.png', 'is_custom_image': True, 'image_24': 'https://avatars.slack-edge.com/2021-04-16/1973619516483_5b3b04cc2b49f890f9ed_24.png', 'image_32': 'https://avatars.slack-edge.com/2021-04-16/1973619516483_5b3b04cc2b49f890f9ed_32.png', 'image_48': 'https://avatars.slack-edge.com/2021-04-16/1973619516483_5b3b04cc2b49f890f9ed_48.png', 'image_72': 'https://avatars.slack-edge.com/2021-04-16/1973619516483_5b3b04cc2b49f890f9ed_72.png', 'image_192': 'https://avatars.slack-edge.com/2021-04-16/1973619516483_5b3b04cc2b49f890f9ed_192.png', 'image_512': 'https://avatars.slack-edge.com/2021-04-16/1973619516483_5b3b04cc2b49f890f9ed_512.png', 'image_1024': 'https://avatars.slack-edge.com/2021-04-16/1973619516483_5b3b04cc2b49f890f9ed_1024.png', 'status_text_canonical': '', 'team': 'T01B7SGGMLJ'}, 'is_admin': False, 'is_owner': False, 'is_primary_owner': False, 'is_restricted': False, 'is_ultra_restricted': False, 'is_bot': False, 'is_app_user': False, 'updated': 1618627206, 'is_email_confirmed': True}, {'id': 'U01V082PLN5', 'team_id': 'T01B7SGGMLJ', 'name': 'huynhphuoc14111998', 'deleted': False, 'color': 'e85d72', 'real_name': 'Phước Huỳnh', 'tz': 'Asia/Bangkok', 'tz_label': 'Indochina Time', 'tz_offset': 25200, 'profile': {'title': '', 'phone': '', 'skype': '', 'real_name': 'Phước Huỳnh', 'real_name_normalized': 'Phước Huỳnh', 'display_name': 'Phước Huỳnh', 'display_name_normalized': 'Phước Huỳnh', 'fields': None, 'status_text': '', 'status_emoji': '', 'status_expiration': 0, 'avatar_hash': '2117526d2b83', 'image_original': 'https://avatars.slack-edge.com/2021-04-22/1997885542676_2117526d2b83f0eda4b9_original.png', 'is_custom_image': True, 'first_name': 'Phước', 'last_name': 'Huỳnh', 'image_24': 'https://avatars.slack-edge.com/2021-04-22/1997885542676_2117526d2b83f0eda4b9_24.png', 'image_32': 'https://avatars.slack-edge.com/2021-04-22/1997885542676_2117526d2b83f0eda4b9_32.png', 'image_48': 'https://avatars.slack-edge.com/2021-04-22/1997885542676_2117526d2b83f0eda4b9_48.png', 'image_72': 'https://avatars.slack-edge.com/2021-04-22/1997885542676_2117526d2b83f0eda4b9_72.png', 'image_192': 'https://avatars.slack-edge.com/2021-04-22/1997885542676_2117526d2b83f0eda4b9_192.png', 'image_512': 'https://avatars.slack-edge.com/2021-04-22/1997885542676_2117526d2b83f0eda4b9_512.png', 'image_1024': 'https://avatars.slack-edge.com/2021-04-22/1997885542676_2117526d2b83f0eda4b9_1024.png', 'status_text_canonical': '', 'team': 'T01B7SGGMLJ'}, 'is_admin': False, 'is_owner': False, 'is_primary_owner': False, 'is_restricted': False, 'is_ultra_restricted': False, 'is_bot': False, 'is_app_user': False, 'updated': 1619110103, 'is_email_confirmed': True}, {'id': 'U01V2NN1JFP', 'team_id': 'T01B7SGGMLJ', 'name': 'lengocmy713', 'deleted': False, 'color': '4bbe2e', 'real_name': 'Ngọc Mỹ Lê', 'tz': 'Asia/Bangkok', 'tz_label': 'Indochina Time', 'tz_offset': 25200, 'profile': {'title': '', 'phone': '', 'skype': '', 'real_name': 'Ngọc Mỹ Lê', 'real_name_normalized': 'Ngọc Mỹ Le', 'display_name': 'Ngọc Mỹ Lê', 'display_name_normalized': 'Ngọc Mỹ Le', 'fields': None, 'status_text': '', 'status_emoji': '', 'status_expiration': 0, 'avatar_hash': 'c45c8878d69a', 'image_original': 'https://avatars.slack-edge.com/2021-04-22/1992058659619_c45c8878d69a8c12addd_original.jpg', 'is_custom_image': True, 'image_24': 'https://avatars.slack-edge.com/2021-04-22/1992058659619_c45c8878d69a8c12addd_24.jpg', 'image_32': 'https://avatars.slack-edge.com/2021-04-22/1992058659619_c45c8878d69a8c12addd_32.jpg', 'image_48': 'https://avatars.slack-edge.com/2021-04-22/1992058659619_c45c8878d69a8c12addd_48.jpg', 'image_72': 'https://avatars.slack-edge.com/2021-04-22/1992058659619_c45c8878d69a8c12addd_72.jpg', 'image_192': 'https://avatars.slack-edge.com/2021-04-22/1992058659619_c45c8878d69a8c12addd_192.jpg', 'image_512': 'https://avatars.slack-edge.com/2021-04-22/1992058659619_c45c8878d69a8c12addd_512.jpg', 'image_1024': 'https://avatars.slack-edge.com/2021-04-22/1992058659619_c45c8878d69a8c12addd_1024.jpg', 'status_text_canonical': '', 'team': 'T01B7SGGMLJ'}, 'is_admin': False, 'is_owner': False, 'is_primary_owner': False, 'is_restricted': False, 'is_ultra_restricted': False, 'is_bot': False, 'is_app_user': False, 'updated': 1619111679, 'is_email_confirmed': True}, {'id': 'U01V5TS96MR', 'team_id': 'T01B7SGGMLJ', 'name': 'github', 'deleted': False, 'color': '9f69e7', 'real_name': 'GitHub', 'tz': 'America/Los_Angeles', 'tz_label': 'Pacific Daylight Time', 'tz_offset': -25200, 'profile': {'title': '', 'phone': '', 'skype': '', 'real_name': 'GitHub', 'real_name_normalized': 'GitHub', 'display_name': '', 'display_name_normalized': '', 'fields': None, 'status_text': '', 'status_emoji': '', 'status_expiration': 0, 'avatar_hash': 'a0e0e61786b9', 'api_app_id': 'A01BP7R4KNY', 'always_active': False, 'image_original': 'https://avatars.slack-edge.com/2021-04-22/1991944385315_a0e0e61786b97e96a608_original.png', 'is_custom_image': True, 'bot_id': 'B01UQU8E2A3', 'image_24': 'https://avatars.slack-edge.com/2021-04-22/1991944385315_a0e0e61786b97e96a608_24.png', 'image_32': 'https://avatars.slack-edge.com/2021-04-22/1991944385315_a0e0e61786b97e96a608_32.png', 'image_48': 'https://avatars.slack-edge.com/2021-04-22/1991944385315_a0e0e61786b97e96a608_48.png', 'image_72': 'https://avatars.slack-edge.com/2021-04-22/1991944385315_a0e0e61786b97e96a608_72.png', 'image_192': 'https://avatars.slack-edge.com/2021-04-22/1991944385315_a0e0e61786b97e96a608_192.png', 'image_512': 'https://avatars.slack-edge.com/2021-04-22/1991944385315_a0e0e61786b97e96a608_512.png', 'image_1024': 'https://avatars.slack-edge.com/2021-04-22/1991944385315_a0e0e61786b97e96a608_1024.png', 'status_text_canonical': '', 'team': 'T01B7SGGMLJ'}, 'is_admin': False, 'is_owner': False, 'is_primary_owner': False, 'is_restricted': False, 'is_ultra_restricted': False, 'is_bot': True, 'is_app_user': False, 'updated': 1619110264, 'is_email_confirmed': False}, {'id': 'U01VB632FPS', 'team_id': 'T01B7SGGMLJ', 'name': 'huynhanh.ha94', 'deleted': False, 'color': 'db3150', 'real_name': 'Anh Hà Văn Huỳnh', 'tz': 'Asia/Bangkok', 'tz_label': 'Indochina Time', 'tz_offset': 25200, 'profile': {'title': '', 'phone': '', 'skype': '', 'real_name': 'Anh Hà Văn Huỳnh', 'real_name_normalized': 'Anh Ha Van Huỳnh', 'display_name': 'Anh Hà Văn Huỳnh', 'display_name_normalized': 'Anh Ha Van Huỳnh', 'fields': None, 'status_text': '', 'status_emoji': '', 'status_expiration': 0, 'avatar_hash': '273f0d6334a6', 'image_original': 'https://avatars.slack-edge.com/2021-04-16/1979569826836_273f0d6334a63b12d247_original.png', 'is_custom_image': True, 'image_24': 'https://avatars.slack-edge.com/2021-04-16/1979569826836_273f0d6334a63b12d247_24.png', 'image_32': 'https://avatars.slack-edge.com/2021-04-16/1979569826836_273f0d6334a63b12d247_32.png', 'image_48': 'https://avatars.slack-edge.com/2021-04-16/1979569826836_273f0d6334a63b12d247_48.png', 'image_72': 'https://avatars.slack-edge.com/2021-04-16/1979569826836_273f0d6334a63b12d247_72.png', 'image_192': 'https://avatars.slack-edge.com/2021-04-16/1979569826836_273f0d6334a63b12d247_192.png', 'image_512': 'https://avatars.slack-edge.com/2021-04-16/1979569826836_273f0d6334a63b12d247_512.png', 'image_1024': 'https://avatars.slack-edge.com/2021-04-16/1979569826836_273f0d6334a63b12d247_1024.png', 'status_text_canonical': '', 'team': 'T01B7SGGMLJ'}, 'is_admin': False, 'is_owner': False, 'is_primary_owner': False, 'is_restricted': False, 'is_ultra_restricted': False, 'is_bot': False, 'is_app_user': False, 'updated': 1618626799, 'is_email_confirmed': True}, {'id': 'U01VB63LRNC', 'team_id': 'T01B7SGGMLJ', 'name': 'nguyenhuynhanhthu94', 'deleted': False, 'color': 'a63024', 'real_name': 'anh thu nguyen huynh', 'tz': 'Asia/Bangkok', 'tz_label': 'Indochina Time', 'tz_offset': 25200, 'profile': {'title': '', 'phone': '', 'skype': '', 'real_name': 'anh thu nguyen huynh', 'real_name_normalized': 'anh thu nguyen huynh', 'display_name': 'Nguyen Huynh Anh Thu', 'display_name_normalized': 'Nguyen Huynh Anh Thu', 'fields': None, 'status_text': '', 'status_emoji': '', 'status_expiration': 0, 'avatar_hash': 'f64b7110766b', 'image_original': 'https://avatars.slack-edge.com/2021-04-16/1973615874851_f64b7110766b68fe5571_original.png', 'is_custom_image': True, 'first_name': 'anh', 'last_name': 'thu nguyen huynh', 'image_24': 'https://avatars.slack-edge.com/2021-04-16/1973615874851_f64b7110766b68fe5571_24.png', 'image_32': 'https://avatars.slack-edge.com/2021-04-16/1973615874851_f64b7110766b68fe5571_32.png', 'image_48': 'https://avatars.slack-edge.com/2021-04-16/1973615874851_f64b7110766b68fe5571_48.png', 'image_72': 'https://avatars.slack-edge.com/2021-04-16/1973615874851_f64b7110766b68fe5571_72.png', 'image_192': 'https://avatars.slack-edge.com/2021-04-16/1973615874851_f64b7110766b68fe5571_192.png', 'image_512': 'https://avatars.slack-edge.com/2021-04-16/1973615874851_f64b7110766b68fe5571_512.png', 'image_1024': 'https://avatars.slack-edge.com/2021-04-16/1973615874851_f64b7110766b68fe5571_1024.png', 'status_text_canonical': '', 'team': 'T01B7SGGMLJ'}, 'is_admin': False, 'is_owner': False, 'is_primary_owner': False, 'is_restricted': False, 'is_ultra_restricted': False, 'is_bot': False, 'is_app_user': False, 'updated': 1618816441, 'is_email_confirmed': True}, {'id': 'U01VB6AT4G0', 'team_id': 'T01B7SGGMLJ', 'name': 'letam.brando', 'deleted': False, 'color': 'dd8527', 'real_name': 'Le Thi Tam', 'tz': 'Asia/Bangkok', 'tz_label': 'Indochina Time', 'tz_offset': 25200, 'profile': {'title': '', 'phone': '', 'skype': '', 'real_name': 'Le Thi Tam', 'real_name_normalized': 'Le Thi Tam', 'display_name': '', 'display_name_normalized': '', 'fields': None, 'status_text': '', 'status_emoji': '', 'status_expiration': 0, 'avatar_hash': '51f17c7bd377', 'image_original': 'https://avatars.slack-edge.com/2021-04-23/1988843423542_51f17c7bd377d5263d6e_original.png', 'is_custom_image': True, 'first_name': 'Le', 'last_name': 'Thi Tam', 'image_24': 'https://avatars.slack-edge.com/2021-04-23/1988843423542_51f17c7bd377d5263d6e_24.png', 'image_32': 'https://avatars.slack-edge.com/2021-04-23/1988843423542_51f17c7bd377d5263d6e_32.png', 'image_48': 'https://avatars.slack-edge.com/2021-04-23/1988843423542_51f17c7bd377d5263d6e_48.png', 'image_72': 'https://avatars.slack-edge.com/2021-04-23/1988843423542_51f17c7bd377d5263d6e_72.png', 'image_192': 'https://avatars.slack-edge.com/2021-04-23/1988843423542_51f17c7bd377d5263d6e_192.png', 'image_512': 'https://avatars.slack-edge.com/2021-04-23/1988843423542_51f17c7bd377d5263d6e_512.png', 'image_1024': 'https://avatars.slack-edge.com/2021-04-23/1988843423542_51f17c7bd377d5263d6e_1024.png', 'status_text_canonical': '', 'team': 'T01B7SGGMLJ'}, 'is_admin': False, 'is_owner': False, 'is_primary_owner': False, 'is_restricted': False, 'is_ultra_restricted': False, 'is_bot': False, 'is_app_user': False, 'updated': 1619190210, 'is_email_confirmed': True}, {'id': 'U01VBFY2E59', 'team_id': 'T01B7SGGMLJ', 'name': 'trangh', 'deleted': False, 'color': '3c989f', 'real_name': 'Gia Hoang Tran', 'tz': 'Asia/Bangkok', 'tz_label': 'Indochina Time', 'tz_offset': 25200, 'profile': {'title': '', 'phone': '', 'skype': '', 'real_name': 'Gia Hoang Tran', 'real_name_normalized': 'Gia Hoang Tran', 'display_name': 'Gia Hoang Tran', 'display_name_normalized': 'Gia Hoang Tran', 'fields': None, 'status_text': '', 'status_emoji': '', 'status_expiration': 0, 'avatar_hash': '4ae805304d87', 'image_original': 'https://avatars.slack-edge.com/2021-04-23/2003495440980_4ae805304d8761161cf6_original.png', 'is_custom_image': True, 'image_24': 'https://avatars.slack-edge.com/2021-04-23/2003495440980_4ae805304d8761161cf6_24.png', 'image_32': 'https://avatars.slack-edge.com/2021-04-23/2003495440980_4ae805304d8761161cf6_32.png', 'image_48': 'https://avatars.slack-edge.com/2021-04-23/2003495440980_4ae805304d8761161cf6_48.png', 'image_72': 'https://avatars.slack-edge.com/2021-04-23/2003495440980_4ae805304d8761161cf6_72.png', 'image_192': 'https://avatars.slack-edge.com/2021-04-23/2003495440980_4ae805304d8761161cf6_192.png', 'image_512': 'https://avatars.slack-edge.com/2021-04-23/2003495440980_4ae805304d8761161cf6_512.png', 'image_1024': 'https://avatars.slack-edge.com/2021-04-23/2003495440980_4ae805304d8761161cf6_1024.png', 'status_text_canonical': '', 'team': 'T01B7SGGMLJ'}, 'is_admin': False, 'is_owner': False, 'is_primary_owner': False, 'is_restricted': False, 'is_ultra_restricted': False, 'is_bot': False, 'is_app_user': False, 'updated': 1619221313, 'is_email_confirmed': True}, {'id': 'U01VBGPP1EU', 'team_id': 'T01B7SGGMLJ', 'name': 'tranctan96', 'deleted': False, 'color': 'bc3663', 'real_name': 'Tân Trần', 'tz': 'Asia/Bangkok', 'tz_label': 'Indochina Time', 'tz_offset': 25200, 'profile': {'title': '', 'phone': '', 'skype': '', 'real_name': 'Tân Trần', 'real_name_normalized': 'Tan Trần', 'display_name': 'Tan Tran', 'display_name_normalized': 'Tan Tran', 'fields': None, 'status_text': '', 'status_emoji': '', 'status_expiration': 0, 'avatar_hash': 'd644939f2f60', 'image_original': 'https://avatars.slack-edge.com/2021-05-16/2066274457621_d644939f2f60396e291d_original.jpg', 'is_custom_image': True, 'first_name': 'Tân', 'last_name': 'Trần', 'image_24': 'https://avatars.slack-edge.com/2021-05-16/2066274457621_d644939f2f60396e291d_24.jpg', 'image_32': 'https://avatars.slack-edge.com/2021-05-16/2066274457621_d644939f2f60396e291d_32.jpg', 'image_48': 'https://avatars.slack-edge.com/2021-05-16/2066274457621_d644939f2f60396e291d_48.jpg', 'image_72': 'https://avatars.slack-edge.com/2021-05-16/2066274457621_d644939f2f60396e291d_72.jpg', 'image_192': 'https://avatars.slack-edge.com/2021-05-16/2066274457621_d644939f2f60396e291d_192.jpg', 'image_512': 'https://avatars.slack-edge.com/2021-05-16/2066274457621_d644939f2f60396e291d_512.jpg', 'image_1024': 'https://avatars.slack-edge.com/2021-05-16/2066274457621_d644939f2f60396e291d_1024.jpg', 'status_text_canonical': '', 'team': 'T01B7SGGMLJ'}, 'is_admin': False, 'is_owner': False, 'is_primary_owner': False, 'is_restricted': False, 'is_ultra_restricted': False, 'is_bot': False, 'is_app_user': False, 'updated': 1622377089, 'is_email_confirmed': True}, {'id': 'U020P6WPAQJ', 'team_id': 'T01B7SGGMLJ', 'name': 'thuynh.386', 'deleted': False, 'color': 'e96699', 'real_name': 'Thuy Nguyen', 'tz': 'Asia/Bangkok', 'tz_label': 'Indochina Time', 'tz_offset': 25200, 'profile': {'title': '', 'phone': '', 'skype': '', 'real_name': 'Thuy Nguyen', 'real_name_normalized': 'Thuy Nguyen', 'display_name': '', 'display_name_normalized': '', 'fields': None, 'status_text': '', 'status_emoji': '', 'status_expiration': 0, 'avatar_hash': 'g48e7e77be67', 'image_24': 'https://secure.gravatar.com/avatar/48e7e77be6779108e10abe917d5dbaba.jpg?s=24&d=https%3A%2F%2Fa.slack-edge.com%2Fdf10d%2Fimg%2Favatars%2Fava_0006-24.png', 'image_32': 'https://secure.gravatar.com/avatar/48e7e77be6779108e10abe917d5dbaba.jpg?s=32&d=https%3A%2F%2Fa.slack-edge.com%2Fdf10d%2Fimg%2Favatars%2Fava_0006-32.png', 'image_48': 'https://secure.gravatar.com/avatar/48e7e77be6779108e10abe917d5dbaba.jpg?s=48&d=https%3A%2F%2Fa.slack-edge.com%2Fdf10d%2Fimg%2Favatars%2Fava_0006-48.png', 'image_72': 'https://secure.gravatar.com/avatar/48e7e77be6779108e10abe917d5dbaba.jpg?s=72&d=https%3A%2F%2Fa.slack-edge.com%2Fdf10d%2Fimg%2Favatars%2Fava_0006-72.png', 'image_192': 'https://secure.gravatar.com/avatar/48e7e77be6779108e10abe917d5dbaba.jpg?s=192&d=https%3A%2F%2Fa.slack-edge.com%2Fdf10d%2Fimg%2Favatars%2Fava_0006-192.png', 'image_512': 'https://secure.gravatar.com/avatar/48e7e77be6779108e10abe917d5dbaba.jpg?s=512&d=https%3A%2F%2Fa.slack-edge.com%2Fdf10d%2Fimg%2Favatars%2Fava_0006-512.png', 'status_text_canonical': '', 'team': 'T01B7SGGMLJ'}, 'is_admin': False, 'is_owner': False, 'is_primary_owner': False, 'is_restricted': False, 'is_ultra_restricted': False, 'is_bot': False, 'is_app_user': False, 'updated': 1620009844, 'is_email_confirmed': True}, {'id': 'U020P877V88', 'team_id': 'T01B7SGGMLJ', 'name': 'huongntn2202', 'deleted': False, 'color': '674b1b', 'real_name': 'Huong Nguyen Thi Nhi', 'tz': 'Asia/Bangkok', 'tz_label': 'Indochina Time', 'tz_offset': 25200, 'profile': {'title': '', 'phone': '', 'skype': '', 'real_name': 'Huong Nguyen Thi Nhi', 'real_name_normalized': 'Huong Nguyen Thi Nhi', 'display_name': '', 'display_name_normalized': '', 'fields': None, 'status_text': '', 'status_emoji': '', 'status_expiration': 0, 'avatar_hash': 'g8113195cce9', 'image_24': 'https://secure.gravatar.com/avatar/8113195cce95637d2736ea73399168d8.jpg?s=24&d=https%3A%2F%2Fa.slack-edge.com%2Fdf10d%2Fimg%2Favatars%2Fava_0007-24.png', 'image_32': 'https://secure.gravatar.com/avatar/8113195cce95637d2736ea73399168d8.jpg?s=32&d=https%3A%2F%2Fa.slack-edge.com%2Fdf10d%2Fimg%2Favatars%2Fava_0007-32.png', 'image_48': 'https://secure.gravatar.com/avatar/8113195cce95637d2736ea73399168d8.jpg?s=48&d=https%3A%2F%2Fa.slack-edge.com%2Fdf10d%2Fimg%2Favatars%2Fava_0007-48.png', 'image_72': 'https://secure.gravatar.com/avatar/8113195cce95637d2736ea73399168d8.jpg?s=72&d=https%3A%2F%2Fa.slack-edge.com%2Fdf10d%2Fimg%2Favatars%2Fava_0007-72.png', 'image_192': 'https://secure.gravatar.com/avatar/8113195cce95637d2736ea73399168d8.jpg?s=192&d=https%3A%2F%2Fa.slack-edge.com%2Fdf10d%2Fimg%2Favatars%2Fava_0007-192.png', 'image_512': 'https://secure.gravatar.com/avatar/8113195cce95637d2736ea73399168d8.jpg?s=512&d=https%3A%2F%2Fa.slack-edge.com%2Fdf10d%2Fimg%2Favatars%2Fava_0007-512.png', 'status_text_canonical': '', 'team': 'T01B7SGGMLJ'}, 'is_admin': False, 'is_owner': False, 'is_primary_owner': False, 'is_restricted': False, 'is_ultra_restricted': False, 'is_bot': False, 'is_app_user': False, 'updated': 1619409574, 'is_email_confirmed': True}, {'id': 'U021NF9FMPH', 'team_id': 'T01B7SGGMLJ', 'name': 'ngochant', 'deleted': True, 'profile': {'title': '', 'phone': '', 'skype': '', 'real_name': 'ngochant', 'real_name_normalized': 'ngochant', 'display_name': '', 'display_name_normalized': '', 'fields': None, 'status_text': '', 'status_emoji': '', 'status_expiration': 0, 'avatar_hash': 'g0823dc0128f', 'api_app_id': 'A021NCWKYR5', 'always_active': False, 'bot_id': 'B0223ET64SF', 'first_name': 'ngochant', 'last_name': '', 'image_24': 'https://secure.gravatar.com/avatar/0823dc0128f48c06a4c0e2ea08784b6d.jpg?s=24&d=https%3A%2F%2Fa.slack-edge.com%2Fdf10d%2Fimg%2Favatars%2Fava_0007-24.png', 'image_32': 'https://secure.gravatar.com/avatar/0823dc0128f48c06a4c0e2ea08784b6d.jpg?s=32&d=https%3A%2F%2Fa.slack-edge.com%2Fdf10d%2Fimg%2Favatars%2Fava_0007-32.png', 'image_48': 'https://secure.gravatar.com/avatar/0823dc0128f48c06a4c0e2ea08784b6d.jpg?s=48&d=https%3A%2F%2Fa.slack-edge.com%2Fdf10d%2Fimg%2Favatars%2Fava_0007-48.png', 'image_72': 'https://secure.gravatar.com/avatar/0823dc0128f48c06a4c0e2ea08784b6d.jpg?s=72&d=https%3A%2F%2Fa.slack-edge.com%2Fdf10d%2Fimg%2Favatars%2Fava_0007-72.png', 'image_192': 'https://secure.gravatar.com/avatar/0823dc0128f48c06a4c0e2ea08784b6d.jpg?s=192&d=https%3A%2F%2Fa.slack-edge.com%2Fdf10d%2Fimg%2Favatars%2Fava_0007-192.png', 'image_512': 'https://secure.gravatar.com/avatar/0823dc0128f48c06a4c0e2ea08784b6d.jpg?s=512&d=https%3A%2F%2Fa.slack-edge.com%2Fdf10d%2Fimg%2Favatars%2Fava_0007-512.png', 'status_text_canonical': '', 'team': 'T01B7SGGMLJ'}, 'is_bot': True, 'is_app_user': False, 'updated': 1621856668}, {'id': 'U021TFMH1RU', 'team_id': 'T01B7SGGMLJ', 'name': 'mquang.151999', 'deleted': False, 'color': 'e0a729', 'real_name': 'Quang Nguyen', 'tz': 'Asia/Bangkok', 'tz_label': 'Indochina Time', 'tz_offset': 25200, 'profile': {'title': '', 'phone': '', 'skype': '', 'real_name': 'Quang Nguyen', 'real_name_normalized': 'Quang Nguyen', 'display_name': 'Quang Nguyen', 'display_name_normalized': 'Quang Nguyen', 'fields': None, 'status_text': '', 'status_emoji': '', 'status_expiration': 0, 'avatar_hash': 'g1c0825ac54f', 'image_24': 'https://secure.gravatar.com/avatar/1c0825ac54fb81361b0d6c82bb67fc66.jpg?s=24&d=https%3A%2F%2Fa.slack-edge.com%2Fdf10d%2Fimg%2Favatars%2Fava_0026-24.png', 'image_32': 'https://secure.gravatar.com/avatar/1c0825ac54fb81361b0d6c82bb67fc66.jpg?s=32&d=https%3A%2F%2Fa.slack-edge.com%2Fdf10d%2Fimg%2Favatars%2Fava_0026-32.png', 'image_48': 'https://secure.gravatar.com/avatar/1c0825ac54fb81361b0d6c82bb67fc66.jpg?s=48&d=https%3A%2F%2Fa.slack-edge.com%2Fdf10d%2Fimg%2Favatars%2Fava_0026-48.png', 'image_72': 'https://secure.gravatar.com/avatar/1c0825ac54fb81361b0d6c82bb67fc66.jpg?s=72&d=https%3A%2F%2Fa.slack-edge.com%2Fdf10d%2Fimg%2Favatars%2Fava_0026-72.png', 'image_192': 'https://secure.gravatar.com/avatar/1c0825ac54fb81361b0d6c82bb67fc66.jpg?s=192&d=https%3A%2F%2Fa.slack-edge.com%2Fdf10d%2Fimg%2Favatars%2Fava_0026-192.png', 'image_512': 'https://secure.gravatar.com/avatar/1c0825ac54fb81361b0d6c82bb67fc66.jpg?s=512&d=https%3A%2F%2Fa.slack-edge.com%2Fdf10d%2Fimg%2Favatars%2Fava_0026-512.png', 'status_text_canonical': '', 'team': 'T01B7SGGMLJ'}, 'is_admin': False, 'is_owner': False, 'is_primary_owner': False, 'is_restricted': False, 'is_ultra_restricted': False, 'is_bot': False, 'is_app_user': False, 'updated': 1621046249, 'is_email_confirmed': True}, {'id': 'U021Y57RMN1', 'team_id': 'T01B7SGGMLJ', 'name': 'lamlv723', 'deleted': False, 'color': '5b89d5', 'real_name': 'Lâm Lê', 'tz': 'Asia/Bangkok', 'tz_label': 'Indochina Time', 'tz_offset': 25200, 'profile': {'title': '', 'phone': '', 'skype': '', 'real_name': 'Lâm Lê', 'real_name_normalized': 'Lam Le', 'display_name': 'Lâm Lê', 'display_name_normalized': 'Lam Le', 'fields': None, 'status_text': '', 'status_emoji': '', 'status_expiration': 0, 'avatar_hash': '73cf448f226a', 'image_original': 'https://avatars.slack-edge.com/2021-05-15/2054484743655_73cf448f226a25744ba9_original.jpg', 'is_custom_image': True, 'image_24': 'https://avatars.slack-edge.com/2021-05-15/2054484743655_73cf448f226a25744ba9_24.jpg', 'image_32': 'https://avatars.slack-edge.com/2021-05-15/2054484743655_73cf448f226a25744ba9_32.jpg', 'image_48': 'https://avatars.slack-edge.com/2021-05-15/2054484743655_73cf448f226a25744ba9_48.jpg', 'image_72': 'https://avatars.slack-edge.com/2021-05-15/2054484743655_73cf448f226a25744ba9_72.jpg', 'image_192': 'https://avatars.slack-edge.com/2021-05-15/2054484743655_73cf448f226a25744ba9_192.jpg', 'image_512': 'https://avatars.slack-edge.com/2021-05-15/2054484743655_73cf448f226a25744ba9_512.jpg', 'image_1024': 'https://avatars.slack-edge.com/2021-05-15/2054484743655_73cf448f226a25744ba9_1024.jpg', 'status_text_canonical': '', 'team': 'T01B7SGGMLJ'}, 'is_admin': False, 'is_owner': False, 'is_primary_owner': False, 'is_restricted': False, 'is_ultra_restricted': False, 'is_bot': False, 'is_app_user': False, 'updated': 1621134074, 'is_email_confirmed': True}, {'id': 'U02246KN5D1', 'team_id': 'T01B7SGGMLJ', 'name': 'conversationslist', 'deleted': True, 'profile': {'title': '', 'phone': '', 'skype': '', 'real_name': '/conversations.list', 'real_name_normalized': '/conversations.list', 'display_name': '', 'display_name_normalized': '', 'fields': None, 'status_text': '', 'status_emoji': '', 'status_expiration': 0, 'avatar_hash': 'gf455d759ea9', 'api_app_id': 'A02246BLA1Z', 'always_active': False, 'bot_id': 'B02240BHX5G', 'first_name': '/conversations.list', 'last_name': '', 'image_24': 'https://secure.gravatar.com/avatar/f455d759ea9019fc97f9257dd56b34aa.jpg?s=24&d=https%3A%2F%2Fa.slack-edge.com%2Fdf10d%2Fimg%2Favatars%2Fava_0008-24.png', 'image_32': 'https://secure.gravatar.com/avatar/f455d759ea9019fc97f9257dd56b34aa.jpg?s=32&d=https%3A%2F%2Fa.slack-edge.com%2Fdf10d%2Fimg%2Favatars%2Fava_0008-32.png', 'image_48': 'https://secure.gravatar.com/avatar/f455d759ea9019fc97f9257dd56b34aa.jpg?s=48&d=https%3A%2F%2Fa.slack-edge.com%2Fdf10d%2Fimg%2Favatars%2Fava_0008-48.png', 'image_72': 'https://secure.gravatar.com/avatar/f455d759ea9019fc97f9257dd56b34aa.jpg?s=72&d=https%3A%2F%2Fa.slack-edge.com%2Fdf10d%2Fimg%2Favatars%2Fava_0008-72.png', 'image_192': 'https://secure.gravatar.com/avatar/f455d759ea9019fc97f9257dd56b34aa.jpg?s=192&d=https%3A%2F%2Fa.slack-edge.com%2Fdf10d%2Fimg%2Favatars%2Fava_0008-192.png', 'image_512': 'https://secure.gravatar.com/avatar/f455d759ea9019fc97f9257dd56b34aa.jpg?s=512&d=https%3A%2F%2Fa.slack-edge.com%2Fdf10d%2Fimg%2Favatars%2Fava_0008-512.png', 'status_text_canonical': '', 'team': 'T01B7SGGMLJ'}, 'is_bot': True, 'is_app_user': False, 'updated': 1621856607}, {'id': 'U0226MQ73MJ', 'team_id': 'T01B7SGGMLJ', 'name': 'mad', 'deleted': False, 'color': '684b6c', 'real_name': 'MAD', 'tz': 'America/Los_Angeles', 'tz_label': 'Pacific Daylight Time', 'tz_offset': -25200, 'profile': {'title': '', 'phone': '', 'skype': '', 'real_name': 'MAD', 'real_name_normalized': 'MAD', 'display_name': '', 'display_name_normalized': '', 'fields': None, 'status_text': '', 'status_emoji': '', 'status_expiration': 0, 'avatar_hash': 'ga147329c4ca', 'api_app_id': 'A0220GDHWJW', 'always_active': False, 'bot_id': 'B022QB4TL9W', 'first_name': 'MAD', 'last_name': '', 'image_24': 'https://secure.gravatar.com/avatar/a147329c4ca6735286d053d06784665c.jpg?s=24&d=https%3A%2F%2Fa.slack-edge.com%2Fdf10d%2Fimg%2Favatars%2Fava_0001-24.png', 'image_32': 'https://secure.gravatar.com/avatar/a147329c4ca6735286d053d06784665c.jpg?s=32&d=https%3A%2F%2Fa.slack-edge.com%2Fdf10d%2Fimg%2Favatars%2Fava_0001-32.png', 'image_48': 'https://secure.gravatar.com/avatar/a147329c4ca6735286d053d06784665c.jpg?s=48&d=https%3A%2F%2Fa.slack-edge.com%2Fdf10d%2Fimg%2Favatars%2Fava_0001-48.png', 'image_72': 'https://secure.gravatar.com/avatar/a147329c4ca6735286d053d06784665c.jpg?s=72&d=https%3A%2F%2Fa.slack-edge.com%2Fdf10d%2Fimg%2Favatars%2Fava_0001-72.png', 'image_192': 'https://secure.gravatar.com/avatar/a147329c4ca6735286d053d06784665c.jpg?s=192&d=https%3A%2F%2Fa.slack-edge.com%2Fdf10d%2Fimg%2Favatars%2Fava_0001-192.png', 'image_512': 'https://secure.gravatar.com/avatar/a147329c4ca6735286d053d06784665c.jpg?s=512&d=https%3A%2F%2Fa.slack-edge.com%2Fdf10d%2Fimg%2Favatars%2Fava_0001-512.png', 'status_text_canonical': '', 'team': 'T01B7SGGMLJ'}, 'is_admin': False, 'is_owner': False, 'is_primary_owner': False, 'is_restricted': False, 'is_ultra_restricted': False, 'is_bot': True, 'is_app_user': False, 'updated': 1622694573, 'is_email_confirmed': False}, {'id': 'U022BEV3FEW', 'team_id': 'T01B7SGGMLJ', 'name': 'convhist', 'deleted': True, 'profile': {'title': '', 'phone': '', 'skype': '', 'real_name': 'conv.hist', 'real_name_normalized': 'conv.hist', 'display_name': '', 'display_name_normalized': '', 'fields': None, 'status_text': '', 'status_emoji': '', 'status_expiration': 0, 'avatar_hash': 'ga71d9b3bda0', 'api_app_id': 'A022Q3GUJTB', 'always_active': False, 'bot_id': 'B022BM39LSF', 'first_name': 'conv.hist', 'last_name': '', 'image_24': 'https://secure.gravatar.com/avatar/a71d9b3bda0aecbd692b6eb0de33f162.jpg?s=24&d=https%3A%2F%2Fa.slack-edge.com%2Fdf10d%2Fimg%2Favatars%2Fava_0002-24.png', 'image_32': 'https://secure.gravatar.com/avatar/a71d9b3bda0aecbd692b6eb0de33f162.jpg?s=32&d=https%3A%2F%2Fa.slack-edge.com%2Fdf10d%2Fimg%2Favatars%2Fava_0002-32.png', 'image_48': 'https://secure.gravatar.com/avatar/a71d9b3bda0aecbd692b6eb0de33f162.jpg?s=48&d=https%3A%2F%2Fa.slack-edge.com%2Fdf10d%2Fimg%2Favatars%2Fava_0002-48.png', 'image_72': 'https://secure.gravatar.com/avatar/a71d9b3bda0aecbd692b6eb0de33f162.jpg?s=72&d=https%3A%2F%2Fa.slack-edge.com%2Fdf10d%2Fimg%2Favatars%2Fava_0002-72.png', 'image_192': 'https://secure.gravatar.com/avatar/a71d9b3bda0aecbd692b6eb0de33f162.jpg?s=192&d=https%3A%2F%2Fa.slack-edge.com%2Fdf10d%2Fimg%2Favatars%2Fava_0002-192.png', 'image_512': 'https://secure.gravatar.com/avatar/a71d9b3bda0aecbd692b6eb0de33f162.jpg?s=512&d=https%3A%2F%2Fa.slack-edge.com%2Fdf10d%2Fimg%2Favatars%2Fava_0002-512.png', 'status_text_canonical': '', 'team': 'T01B7SGGMLJ'}, 'is_bot': True, 'is_app_user': False, 'updated': 1621856713}, {'id': 'U022J0SQAMQ', 'team_id': 'T01B7SGGMLJ', 'name': 'abc', 'deleted': True, 'profile': {'title': '', 'phone': '', 'skype': '', 'real_name': 'abc', 'real_name_normalized': 'abc', 'display_name': '', 'display_name_normalized': '', 'fields': None, 'status_text': '', 'status_emoji': '', 'status_expiration': 0, 'avatar_hash': 'gc61c18c89c7', 'api_app_id': 'A022B6B3F8W', 'always_active': False, 'bot_id': 'B022B7ANQES', 'image_24': 'https://secure.gravatar.com/avatar/c61c18c89c7377a9e2da92cae356da39.jpg?s=24&d=https%3A%2F%2Fa.slack-edge.com%2Fdf10d%2Fimg%2Favatars%2Fava_0025-24.png', 'image_32': 'https://secure.gravatar.com/avatar/c61c18c89c7377a9e2da92cae356da39.jpg?s=32&d=https%3A%2F%2Fa.slack-edge.com%2Fdf10d%2Fimg%2Favatars%2Fava_0025-32.png', 'image_48': 'https://secure.gravatar.com/avatar/c61c18c89c7377a9e2da92cae356da39.jpg?s=48&d=https%3A%2F%2Fa.slack-edge.com%2Fdf10d%2Fimg%2Favatars%2Fava_0025-48.png', 'image_72': 'https://secure.gravatar.com/avatar/c61c18c89c7377a9e2da92cae356da39.jpg?s=72&d=https%3A%2F%2Fa.slack-edge.com%2Fdf10d%2Fimg%2Favatars%2Fava_0025-72.png', 'image_192': 'https://secure.gravatar.com/avatar/c61c18c89c7377a9e2da92cae356da39.jpg?s=192&d=https%3A%2F%2Fa.slack-edge.com%2Fdf10d%2Fimg%2Favatars%2Fava_0025-192.png', 'image_512': 'https://secure.gravatar.com/avatar/c61c18c89c7377a9e2da92cae356da39.jpg?s=512&d=https%3A%2F%2Fa.slack-edge.com%2Fdf10d%2Fimg%2Favatars%2Fava_0025-512.png', 'status_text_canonical': '', 'team': 'T01B7SGGMLJ'}, 'is_bot': True, 'is_app_user': False, 'updated': 1621856631}, {'id': 'U022R4885AN', 'team_id': 'T01B7SGGMLJ', 'name': '78', 'deleted': True, 'profile': {'title': '', 'phone': '', 'skype': '', 'real_name': '78', 'real_name_normalized': '78', 'display_name': '', 'display_name_normalized': '', 'fields': None, 'status_text': '', 'status_emoji': '', 'status_expiration': 0, 'avatar_hash': 'gd082bd59567', 'api_app_id': 'A023ETPS7SL', 'always_active': False, 'bot_id': 'B022RAGK81H', 'image_24': 'https://secure.gravatar.com/avatar/d082bd595679aa34ea6a9f759c743664.jpg?s=24&d=https%3A%2F%2Fa.slack-edge.com%2Fdf10d%2Fimg%2Favatars%2Fava_0018-24.png', 'image_32': 'https://secure.gravatar.com/avatar/d082bd595679aa34ea6a9f759c743664.jpg?s=32&d=https%3A%2F%2Fa.slack-edge.com%2Fdf10d%2Fimg%2Favatars%2Fava_0018-32.png', 'image_48': 'https://secure.gravatar.com/avatar/d082bd595679aa34ea6a9f759c743664.jpg?s=48&d=https%3A%2F%2Fa.slack-edge.com%2Fdf10d%2Fimg%2Favatars%2Fava_0018-48.png', 'image_72': 'https://secure.gravatar.com/avatar/d082bd595679aa34ea6a9f759c743664.jpg?s=72&d=https%3A%2F%2Fa.slack-edge.com%2Fdf10d%2Fimg%2Favatars%2Fava_0018-72.png', 'image_192': 'https://secure.gravatar.com/avatar/d082bd595679aa34ea6a9f759c743664.jpg?s=192&d=https%3A%2F%2Fa.slack-edge.com%2Fdf10d%2Fimg%2Favatars%2Fava_0018-192.png', 'image_512': 'https://secure.gravatar.com/avatar/d082bd595679aa34ea6a9f759c743664.jpg?s=512&d=https%3A%2F%2Fa.slack-edge.com%2Fdf10d%2Fimg%2Favatars%2Fava_0018-512.png', 'status_text_canonical': '', 'team': 'T01B7SGGMLJ'}, 'is_bot': True, 'is_app_user': False, 'updated': 1621856620}, {'id': 'U0233KHLM2M', 'team_id': 'T01B7SGGMLJ', 'name': 'vuthanhdat.contact', 'deleted': False, 'color': 'd58247', 'real_name': 'Vuthanhdat Contact', 'tz': 'Asia/Bangkok', 'tz_label': 'Indochina Time', 'tz_offset': 25200, 'profile': {'title': '', 'phone': '', 'skype': '', 'real_name': 'Vuthanhdat Contact', 'real_name_normalized': 'Vuthanhdat Contact', 'display_name': '', 'display_name_normalized': '', 'fields': None, 'status_text': '', 'status_emoji': '', 'status_expiration': 0, 'avatar_hash': 'g72ade5f0a21', 'image_24': 'https://secure.gravatar.com/avatar/72ade5f0a2147dfa9516ec249642979f.jpg?s=24&d=https%3A%2F%2Fa.slack-edge.com%2Fdf10d%2Fimg%2Favatars%2Fava_0007-24.png', 'image_32': 'https://secure.gravatar.com/avatar/72ade5f0a2147dfa9516ec249642979f.jpg?s=32&d=https%3A%2F%2Fa.slack-edge.com%2Fdf10d%2Fimg%2Favatars%2Fava_0007-32.png', 'image_48': 'https://secure.gravatar.com/avatar/72ade5f0a2147dfa9516ec249642979f.jpg?s=48&d=https%3A%2F%2Fa.slack-edge.com%2Fdf10d%2Fimg%2Favatars%2Fava_0007-48.png', 'image_72': 'https://secure.gravatar.com/avatar/72ade5f0a2147dfa9516ec249642979f.jpg?s=72&d=https%3A%2F%2Fa.slack-edge.com%2Fdf10d%2Fimg%2Favatars%2Fava_0007-72.png', 'image_192': 'https://secure.gravatar.com/avatar/72ade5f0a2147dfa9516ec249642979f.jpg?s=192&d=https%3A%2F%2Fa.slack-edge.com%2Fdf10d%2Fimg%2Favatars%2Fava_0007-192.png', 'image_512': 'https://secure.gravatar.com/avatar/72ade5f0a2147dfa9516ec249642979f.jpg?s=512&d=https%3A%2F%2Fa.slack-edge.com%2Fdf10d%2Fimg%2Favatars%2Fava_0007-512.png', 'status_text_canonical': '', 'team': 'T01B7SGGMLJ'}, 'is_admin': False, 'is_owner': False, 'is_primary_owner': False, 'is_restricted': False, 'is_ultra_restricted': False, 'is_bot': False, 'is_app_user': False, 'updated': 1621649389, 'is_email_confirmed': False, 'is_invited_user': True}, {'id': 'U023E0BAHQ8', 'team_id': 'T01B7SGGMLJ', 'name': 'testgettoken', 'deleted': True, 'profile': {'title': '', 'phone': '', 'skype': '', 'real_name': 'test.gettoken', 'real_name_normalized': 'test.gettoken', 'display_name': '', 'display_name_normalized': '', 'fields': None, 'status_text': '', 'status_emoji': '', 'status_expiration': 0, 'avatar_hash': 'gc28c6476803', 'api_app_id': 'A022HBW1Z9U', 'always_active': True, 'bot_id': 'B022WAYRETW', 'first_name': 'test.gettoken', 'last_name': '', 'image_24': 'https://secure.gravatar.com/avatar/c28c647680342591290d4dca604303d5.jpg?s=24&d=https%3A%2F%2Fa.slack-edge.com%2Fdf10d%2Fimg%2Favatars%2Fava_0020-24.png', 'image_32': 'https://secure.gravatar.com/avatar/c28c647680342591290d4dca604303d5.jpg?s=32&d=https%3A%2F%2Fa.slack-edge.com%2Fdf10d%2Fimg%2Favatars%2Fava_0020-32.png', 'image_48': 'https://secure.gravatar.com/avatar/c28c647680342591290d4dca604303d5.jpg?s=48&d=https%3A%2F%2Fa.slack-edge.com%2Fdf10d%2Fimg%2Favatars%2Fava_0020-48.png', 'image_72': 'https://secure.gravatar.com/avatar/c28c647680342591290d4dca604303d5.jpg?s=72&d=https%3A%2F%2Fa.slack-edge.com%2Fdf10d%2Fimg%2Favatars%2Fava_0020-72.png', 'image_192': 'https://secure.gravatar.com/avatar/c28c647680342591290d4dca604303d5.jpg?s=192&d=https%3A%2F%2Fa.slack-edge.com%2Fdf10d%2Fimg%2Favatars%2Fava_0020-192.png', 'image_512': 'https://secure.gravatar.com/avatar/c28c647680342591290d4dca604303d5.jpg?s=512&d=https%3A%2F%2Fa.slack-edge.com%2Fdf10d%2Fimg%2Favatars%2Fava_0020-512.png', 'status_text_canonical': '', 'team': 'T01B7SGGMLJ'}, 'is_bot': True, 'is_app_user': False, 'updated': 1621856654}, {'id': 'U023G7HDUL8', 'team_id': 'T01B7SGGMLJ', 'name': 'ass4', 'deleted': True, 'profile': {'title': '', 'phone': '', 'skype': '', 'real_name': 'Ass4', 'real_name_normalized': 'Ass4', 'display_name': '', 'display_name_normalized': '', 'fields': None, 'status_text': '', 'status_emoji': '', 'status_expiration': 0, 'avatar_hash': 'g9a7abdbdcd7', 'api_app_id': 'A022SD34Z18', 'always_active': False, 'bot_id': 'B022SDBMGQ2', 'first_name': 'Ass4', 'last_name': '', 'image_24': 'https://secure.gravatar.com/avatar/9a7abdbdcd72745e71d5c81f13292e7f.jpg?s=24&d=https%3A%2F%2Fa.slack-edge.com%2Fdf10d%2Fimg%2Favatars%2Fava_0024-24.png', 'image_32': 'https://secure.gravatar.com/avatar/9a7abdbdcd72745e71d5c81f13292e7f.jpg?s=32&d=https%3A%2F%2Fa.slack-edge.com%2Fdf10d%2Fimg%2Favatars%2Fava_0024-32.png', 'image_48': 'https://secure.gravatar.com/avatar/9a7abdbdcd72745e71d5c81f13292e7f.jpg?s=48&d=https%3A%2F%2Fa.slack-edge.com%2Fdf10d%2Fimg%2Favatars%2Fava_0024-48.png', 'image_72': 'https://secure.gravatar.com/avatar/9a7abdbdcd72745e71d5c81f13292e7f.jpg?s=72&d=https%3A%2F%2Fa.slack-edge.com%2Fdf10d%2Fimg%2Favatars%2Fava_0024-72.png', 'image_192': 'https://secure.gravatar.com/avatar/9a7abdbdcd72745e71d5c81f13292e7f.jpg?s=192&d=https%3A%2F%2Fa.slack-edge.com%2Fdf10d%2Fimg%2Favatars%2Fava_0024-192.png', 'image_512': 'https://secure.gravatar.com/avatar/9a7abdbdcd72745e71d5c81f13292e7f.jpg?s=512&d=https%3A%2F%2Fa.slack-edge.com%2Fdf10d%2Fimg%2Favatars%2Fava_0024-512.png', 'status_text_canonical': '', 'team': 'T01B7SGGMLJ'}, 'is_bot': True, 'is_app_user': False, 'updated': 1621856695}, {'id': 'U024A4CRKQC', 'team_id': 'T01B7SGGMLJ', 'name': 'contact.datacracy', 'deleted': False, 'color': 'db3150', 'real_name': 'DATAcracy', 'tz': 'Asia/Bangkok', 'tz_label': 'Indochina Time', 'tz_offset': 25200, 'profile': {'title': '', 'phone': '', 'skype': '', 'real_name': 'DATAcracy', 'real_name_normalized': 'DATAcracy', 'display_name': 'DATAcracy', 'display_name_normalized': 'DATAcracy', 'fields': None, 'status_text': '', 'status_emoji': '', 'status_expiration': 0, 'avatar_hash': '6dc03b58e16a', 'image_original': 'https://avatars.slack-edge.com/2021-06-04/2140197536691_6dc03b58e16a5ca290dd_original.png', 'is_custom_image': True, 'image_24': 'https://avatars.slack-edge.com/2021-06-04/2140197536691_6dc03b58e16a5ca290dd_24.png', 'image_32': 'https://avatars.slack-edge.com/2021-06-04/2140197536691_6dc03b58e16a5ca290dd_32.png', 'image_48': 'https://avatars.slack-edge.com/2021-06-04/2140197536691_6dc03b58e16a5ca290dd_48.png', 'image_72': 'https://avatars.slack-edge.com/2021-06-04/2140197536691_6dc03b58e16a5ca290dd_72.png', 'image_192': 'https://avatars.slack-edge.com/2021-06-04/2140197536691_6dc03b58e16a5ca290dd_192.png', 'image_512': 'https://avatars.slack-edge.com/2021-06-04/2140197536691_6dc03b58e16a5ca290dd_512.png', 'image_1024': 'https://avatars.slack-edge.com/2021-06-04/2140197536691_6dc03b58e16a5ca290dd_1024.png', 'status_text_canonical': '', 'team': 'T01B7SGGMLJ'}, 'is_admin': False, 'is_owner': False, 'is_primary_owner': False, 'is_restricted': False, 'is_ultra_restricted': False, 'is_bot': False, 'is_app_user': False, 'updated': 1622859962, 'is_email_confirmed': True}]\n"
     ]
    }
   ],
   "source": [
    "## Gọi API từ Endpoints (Input - Token được đưa vào Headers)\n",
    "## Challenge: Thử gọi API này bằng Postman\n",
    "endpoint = \"https://slack.com/api/users.list\"\n",
    "headers = {\"Authorization\": \"Bearer {}\".format(os.environ['SLACK_BEARER_TOKEN'])}\n",
    "response_json = requests.post(endpoint, headers=headers).json() \n",
    "user_dat = response_json['members']"
   ]
  },
  {
   "cell_type": "markdown",
   "metadata": {
    "id": "rqEti4Y50tdB"
   },
   "source": [
    "### TODO #1\n",
    "Hoàn tất đoạn code sau"
   ]
  },
  {
   "cell_type": "code",
   "execution_count": 9,
   "metadata": {
    "id": "P0qbkdhtD9ww"
   },
   "outputs": [],
   "source": [
    "## Loop qua JSON file và extract các thông tin quan trọng (id, name, display_name, real_name_normalized, title, phone, is_bot)\n",
    "## Hint: Bạn có thể dùng Postman hoặc in user_dat JSON để xem cấu trúc (schema), dùng Ctrl+F để tìm các keys (id, name, display_name, real_name_normalized, title, phone, is_bot)\n",
    "user_dict = {'user_id':[], 'name':[], 'display_name':[],'real_name':[],'title':[],'phone':[],'is_bot':[]}\n",
    "for i in range(len(user_dat)):\n",
    "  user_dict['user_id'].append(user_dat[i]['id'])\n",
    "  user_dict['name'].append(user_dat[i]['name'])\n",
    "  user_dict['display_name'].append(user_dat[i]['profile']['display_name'])\n",
    "  user_dict['real_name'].append(user_dat[i]['profile']['real_name_normalized'])\n",
    "  user_dict['title'].append(user_dat[i]['profile']['title'])\n",
    "  user_dict['phone'].append(user_dat[i]['profile']['phone'])\n",
    "  user_dict['is_bot'].append(user_dat[i]['is_bot'])\n"
   ]
  },
  {
   "cell_type": "code",
   "execution_count": 10,
   "metadata": {
    "colab": {
     "base_uri": "https://localhost:8080/",
     "height": 204
    },
    "id": "yGNvsCauF8_w",
    "outputId": "dfc4c6f7-845c-4202-8fc7-43aeb328554a",
    "scrolled": true
   },
   "outputs": [
    {
     "data": {
      "text/html": [
       "<div>\n",
       "<style scoped>\n",
       "    .dataframe tbody tr th:only-of-type {\n",
       "        vertical-align: middle;\n",
       "    }\n",
       "\n",
       "    .dataframe tbody tr th {\n",
       "        vertical-align: top;\n",
       "    }\n",
       "\n",
       "    .dataframe thead th {\n",
       "        text-align: right;\n",
       "    }\n",
       "</style>\n",
       "<table border=\"1\" class=\"dataframe\">\n",
       "  <thead>\n",
       "    <tr style=\"text-align: right;\">\n",
       "      <th></th>\n",
       "      <th>user_id</th>\n",
       "      <th>name</th>\n",
       "      <th>display_name</th>\n",
       "      <th>real_name</th>\n",
       "      <th>title</th>\n",
       "      <th>phone</th>\n",
       "      <th>is_bot</th>\n",
       "    </tr>\n",
       "  </thead>\n",
       "  <tbody>\n",
       "    <tr>\n",
       "      <th>0</th>\n",
       "      <td>USLACKBOT</td>\n",
       "      <td>slackbot</td>\n",
       "      <td>Slackbot</td>\n",
       "      <td>Slackbot</td>\n",
       "      <td></td>\n",
       "      <td></td>\n",
       "      <td>False</td>\n",
       "    </tr>\n",
       "    <tr>\n",
       "      <th>1</th>\n",
       "      <td>U01AT4T75JB</td>\n",
       "      <td>loclexuan26392</td>\n",
       "      <td>Loc Le Xuan</td>\n",
       "      <td>Loc Le Xuan</td>\n",
       "      <td></td>\n",
       "      <td></td>\n",
       "      <td>False</td>\n",
       "    </tr>\n",
       "    <tr>\n",
       "      <th>2</th>\n",
       "      <td>U01AVDY7JET</td>\n",
       "      <td>locle.ds</td>\n",
       "      <td>Loc Le Xuan</td>\n",
       "      <td>Loc Le Xuan</td>\n",
       "      <td></td>\n",
       "      <td></td>\n",
       "      <td>False</td>\n",
       "    </tr>\n",
       "    <tr>\n",
       "      <th>3</th>\n",
       "      <td>U01BE2PR6LU</td>\n",
       "      <td>maianhdang.ftu</td>\n",
       "      <td>MAD</td>\n",
       "      <td>Dặng Huỳnh Mai Anh</td>\n",
       "      <td>Technical Contents</td>\n",
       "      <td></td>\n",
       "      <td>False</td>\n",
       "    </tr>\n",
       "    <tr>\n",
       "      <th>4</th>\n",
       "      <td>U01C48T7S1J</td>\n",
       "      <td>huyenhoang.design</td>\n",
       "      <td>Thanh Huyen Hoang</td>\n",
       "      <td>Thanh Huyen Hoang</td>\n",
       "      <td></td>\n",
       "      <td></td>\n",
       "      <td>False</td>\n",
       "    </tr>\n",
       "  </tbody>\n",
       "</table>\n",
       "</div>"
      ],
      "text/plain": [
       "       user_id               name       display_name           real_name  \\\n",
       "0    USLACKBOT           slackbot           Slackbot            Slackbot   \n",
       "1  U01AT4T75JB     loclexuan26392        Loc Le Xuan         Loc Le Xuan   \n",
       "2  U01AVDY7JET           locle.ds        Loc Le Xuan         Loc Le Xuan   \n",
       "3  U01BE2PR6LU     maianhdang.ftu                MAD  Dặng Huỳnh Mai Anh   \n",
       "4  U01C48T7S1J  huyenhoang.design  Thanh Huyen Hoang   Thanh Huyen Hoang   \n",
       "\n",
       "                title phone  is_bot  \n",
       "0                             False  \n",
       "1                             False  \n",
       "2                             False  \n",
       "3  Technical Contents         False  \n",
       "4                             False  "
      ]
     },
     "execution_count": 10,
     "metadata": {},
     "output_type": "execute_result"
    }
   ],
   "source": [
    "user_df = pd.DataFrame(user_dict) ## Dùng pandas để convert dictionaries thành bảng\n",
    "\n",
    "user_df.head(5) ## Chỉ in 5 dòng đầu (chủ yếu để xem cấu trúc)"
   ]
  },
  {
   "cell_type": "code",
   "execution_count": 11,
   "metadata": {
    "colab": {
     "base_uri": "https://localhost:8080/",
     "height": 80
    },
    "id": "rjFcaWdt2ABM",
    "outputId": "1a114985-7608-4421-aa51-1e406cc427eb"
   },
   "outputs": [
    {
     "data": {
      "text/html": [
       "<div>\n",
       "<style scoped>\n",
       "    .dataframe tbody tr th:only-of-type {\n",
       "        vertical-align: middle;\n",
       "    }\n",
       "\n",
       "    .dataframe tbody tr th {\n",
       "        vertical-align: top;\n",
       "    }\n",
       "\n",
       "    .dataframe thead th {\n",
       "        text-align: right;\n",
       "    }\n",
       "</style>\n",
       "<table border=\"1\" class=\"dataframe\">\n",
       "  <thead>\n",
       "    <tr style=\"text-align: right;\">\n",
       "      <th></th>\n",
       "      <th>user_id</th>\n",
       "      <th>name</th>\n",
       "      <th>display_name</th>\n",
       "      <th>real_name</th>\n",
       "      <th>title</th>\n",
       "      <th>phone</th>\n",
       "      <th>is_bot</th>\n",
       "    </tr>\n",
       "  </thead>\n",
       "  <tbody>\n",
       "    <tr>\n",
       "      <th>3</th>\n",
       "      <td>U01BE2PR6LU</td>\n",
       "      <td>maianhdang.ftu</td>\n",
       "      <td>MAD</td>\n",
       "      <td>Dặng Huỳnh Mai Anh</td>\n",
       "      <td>Technical Contents</td>\n",
       "      <td></td>\n",
       "      <td>False</td>\n",
       "    </tr>\n",
       "  </tbody>\n",
       "</table>\n",
       "</div>"
      ],
      "text/plain": [
       "       user_id            name display_name           real_name  \\\n",
       "3  U01BE2PR6LU  maianhdang.ftu          MAD  Dặng Huỳnh Mai Anh   \n",
       "\n",
       "                title phone  is_bot  \n",
       "3  Technical Contents         False  "
      ]
     },
     "execution_count": 11,
     "metadata": {},
     "output_type": "execute_result"
    }
   ],
   "source": [
    "user_df[user_df.display_name == 'MAD'] ## Lọc thông tin của MAD, trên DataFrame (bạn có thể Google thêm)"
   ]
  },
  {
   "cell_type": "markdown",
   "metadata": {
    "id": "1TZrcaWZyE07"
   },
   "source": [
    "-------------- HẾT PHẦN BẮT BUỘC ---------------------"
   ]
  },
  {
   "cell_type": "markdown",
   "metadata": {
    "id": "P3_b7zw-1A6s"
   },
   "source": [
    "## Option 1: Update data => Google SpreadSheet"
   ]
  },
  {
   "cell_type": "markdown",
   "metadata": {
    "id": "UPuXhw3WtmWw"
   },
   "source": [
    "### TODO#2\n",
    "Tạo service account (output là file json), file này để cho phép ta access vào Google Spreadsheet:\n",
    "\n",
    "1. Làm theo hướng dẫn: [Google Create a Service Account](https://support.google.com/a/answer/7378726?hl=en)\n",
    "![google_service_account](../img/google_service_account.png)\n",
    "2. Lưu file JSON (chứa credential về máy)\n",
    "![gservice_acc_json](../img/gservice_acc_json.png)\n",
    "3. Nhớ Enable [Google Drive API](https://console.cloud.google.com/marketplace/product/google/drive.googleapis.com?q=search&referrer=search&project=quickstart-313303) (Nếu bạn chạy code báo lỗi chưa enable API thì vào link trong phần lỗi để Enable, sau khi kích hoạt có thể cần vài phút để chạy được)\n",
    "![enable_api](../img/enable_api.png)\n",
    "* ==> Upload file Gsheet Credential JSON nếu bạn dùng Colab \n",
    "* ==> Nếu bạn để key trong repo git, **NHỚ** để file json vào `.gitignore` để không bị leaked key)\n"
   ]
  },
  {
   "cell_type": "code",
   "execution_count": 12,
   "metadata": {
    "colab": {
     "base_uri": "https://localhost:8080/"
    },
    "id": "XhrcVjXWwldS",
    "outputId": "63133330-f68b-4adf-96a1-6d2c0e08dc70"
   },
   "outputs": [
    {
     "name": "stdout",
     "output_type": "stream",
     "text": [
      "env_variables.json  home_assignment_3.ipynb  README.md\tslack-bot-key.json\r\n"
     ]
    }
   ],
   "source": [
    "!ls"
   ]
  },
  {
   "cell_type": "code",
   "execution_count": 13,
   "metadata": {
    "colab": {
     "base_uri": "https://localhost:8080/"
    },
    "id": "4NEQFu-DNvFC",
    "outputId": "a855fe34-b409-4152-a218-67bfa240396f"
   },
   "outputs": [
    {
     "name": "stdout",
     "output_type": "stream",
     "text": [
      "DONE!\n"
     ]
    }
   ],
   "source": [
    "## Authorize bằng JSON\n",
    "scope = ['https://spreadsheets.google.com/feeds',\n",
    "         'https://www.googleapis.com/auth/drive']\n",
    "credentials = ServiceAccountCredentials.from_json_keyfile_name(\n",
    "    'slack-bot-key.json', scope)\n",
    "gc = gspread.authorize(credentials)\n",
    "print(\"DONE!\")"
   ]
  },
  {
   "cell_type": "markdown",
   "metadata": {
    "id": "HELBp0Sdxhzc"
   },
   "source": [
    "**Tạo Spreadsheet**\n",
    "\n",
    "1. Tạo Spreadsheet trên google\n",
    "2. Invite account trong `client_email` (file JSON Gsheet Credential bên trên) vào Spreadsheet (quyền Editor)\n",
    "![enable_api](../img/enable_api.png)\n",
    "3. Lấy `SPREADSHEET_KEY` (nằm trong chính URL của Spreadhstee): `https://docs.google.com/spreadsheets/d/<SPREADSHEET_KEY>/edit#gid=0`\n",
    "\n",
    "![add_gsheet](../img/add_gsheet.png)"
   ]
  },
  {
   "cell_type": "code",
   "execution_count": 14,
   "metadata": {
    "id": "XlZ8JNB3bZbw"
   },
   "outputs": [],
   "source": [
    "# ACCES GOOGLE SHEET\n",
    "sheet_index_no = 0\n",
    "spreadsheet_key = '1mrHOuXzCOtgsIPQcm-pg8VK6uE3DM91u-RGXO_Vfexs' # input SPREADSHEET_KEY HERE\n",
    "sh = gc.open_by_key(spreadsheet_key)\n",
    "worksheet = sh.get_worksheet(sheet_index_no) #-> 0 - first sheet, 1 - second sheet etc. \n",
    "\n",
    "# APPEND DATA TO SHEET\n",
    "set_with_dataframe(worksheet, user_df) #-> Upload user_df vào Sheet đầu tiên trong Spreadsheet\n",
    "\n",
    "# DONE: Bây giờ bạn có thể mở spreadsheet và kiểm tra nội dung đã update chứ"
   ]
  },
  {
   "cell_type": "markdown",
   "metadata": {},
   "source": [
    "![slack_user_gsheet](../img/slack_user_gsheet.png)"
   ]
  },
  {
   "cell_type": "markdown",
   "metadata": {
    "id": "5I15m3ilyA3Y"
   },
   "source": [
    "-------------- HẾT PHẦN OPTION 1 ---------------------"
   ]
  },
  {
   "cell_type": "markdown",
   "metadata": {
    "id": "9aRN9KSczkmr"
   },
   "source": [
    "## Option 2: Ai đã nộp bài?\n"
   ]
  },
  {
   "cell_type": "markdown",
   "metadata": {
    "id": "Pw81ioUz2N0v"
   },
   "source": [
    "### Slack API: Channel List"
   ]
  },
  {
   "cell_type": "code",
   "execution_count": 15,
   "metadata": {
    "id": "fcdaDaGdz60p"
   },
   "outputs": [],
   "source": [
    "## Gọi SLACK API để list tất cả các channel\n",
    "endpoint = \"https://slack.com/api/conversations.list\"\n",
    "headers = {\"Authorization\": \"Bearer {}\".format(os.environ['SLACK_BEARER_TOKEN'])}\n",
    "response = requests.post(endpoint, headers=headers).json() \n",
    "\n",
    "channel_ls = response['channels']"
   ]
  },
  {
   "cell_type": "code",
   "execution_count": 16,
   "metadata": {
    "colab": {
     "base_uri": "https://localhost:8080/"
    },
    "id": "47dUJAPi0Jg5",
    "outputId": "2762f1e8-ff65-4994-c3e5-1ab0f5dc9205",
    "scrolled": true
   },
   "outputs": [
    {
     "data": {
      "text/plain": [
       "{'id': 'C01B4PVGLVB',\n",
       " 'name': 'general',\n",
       " 'is_channel': True,\n",
       " 'is_group': False,\n",
       " 'is_im': False,\n",
       " 'created': 1600856703,\n",
       " 'is_archived': False,\n",
       " 'is_general': True,\n",
       " 'unlinked': 0,\n",
       " 'name_normalized': 'general',\n",
       " 'is_shared': False,\n",
       " 'parent_conversation': None,\n",
       " 'creator': 'U01BE2PR6LU',\n",
       " 'is_ext_shared': False,\n",
       " 'is_org_shared': False,\n",
       " 'shared_team_ids': ['T01B7SGGMLJ'],\n",
       " 'pending_shared': [],\n",
       " 'pending_connected_team_ids': [],\n",
       " 'is_pending_ext_shared': False,\n",
       " 'is_member': False,\n",
       " 'is_private': False,\n",
       " 'is_mpim': False,\n",
       " 'topic': {'value': '', 'creator': '', 'last_set': 0},\n",
       " 'purpose': {'value': 'This is the one channel that will always include everyone. It’s a great spot for announcements and team-wide conversations.',\n",
       "  'creator': 'U01BE2PR6LU',\n",
       "  'last_set': 1600856703},\n",
       " 'previous_names': [],\n",
       " 'num_members': 65}"
      ]
     },
     "execution_count": 16,
     "metadata": {},
     "output_type": "execute_result"
    }
   ],
   "source": [
    "channel_ls[0] ## Thử extract record đầu tiên để xem schema  => name: general, id: C01B4PVGLVB"
   ]
  },
  {
   "cell_type": "code",
   "execution_count": 17,
   "metadata": {},
   "outputs": [
    {
     "name": "stdout",
     "output_type": "stream",
     "text": [
      "{'id': 'C021FSDN7LJ', 'name': 'atom-assignment2', 'is_channel': True, 'is_group': False, 'is_im': False, 'created': 1620677142, 'is_archived': False, 'is_general': False, 'unlinked': 0, 'name_normalized': 'atom-assignment2', 'is_shared': False, 'parent_conversation': None, 'creator': 'U01BE2PR6LU', 'is_ext_shared': False, 'is_org_shared': False, 'shared_team_ids': ['T01B7SGGMLJ'], 'pending_shared': [], 'pending_connected_team_ids': [], 'is_pending_ext_shared': False, 'is_member': True, 'is_private': False, 'is_mpim': False, 'topic': {'value': 'Assigment#2 - Mailbot, API, Web Scrapping', 'creator': 'U01BE2PR6LU', 'last_set': 1621074502}, 'purpose': {'value': 'Where learners submit assignments and give review for others', 'creator': 'U01BE2PR6LU', 'last_set': 1621074519}, 'previous_names': [], 'num_members': 40}\n"
     ]
    }
   ],
   "source": [
    "#TODO 3\n",
    "for i in channel_ls:\n",
    "    if i['name'] == 'atom-assignment2':\n",
    "        print(i)"
   ]
  },
  {
   "cell_type": "markdown",
   "metadata": {
    "id": "CNFTcFC00l8g"
   },
   "source": [
    "### TODO#3 \n",
    "* Tìm id của channel #atom-assignment2"
   ]
  },
  {
   "cell_type": "markdown",
   "metadata": {
    "id": "EnCvdYAn2R47"
   },
   "source": [
    "### Slack API: List messages trong 1 channel"
   ]
  },
  {
   "cell_type": "code",
   "execution_count": 18,
   "metadata": {
    "id": "1UsSESN8rtnk"
   },
   "outputs": [],
   "source": [
    "endpoint = \"https://slack.com/api/conversations.history\"\n",
    "data = {\"channel\": \"C021FSDN7LJ\"} ## This is ID of assignment#1 channel\n",
    "headers = {\"Authorization\": \"Bearer {}\".format(os.environ['SLACK_BEARER_TOKEN'])}"
   ]
  },
  {
   "cell_type": "code",
   "execution_count": 19,
   "metadata": {
    "id": "i8eJw3LBr4lY"
   },
   "outputs": [],
   "source": [
    "response_json = requests.post(endpoint, data=data, headers=headers).json()\n",
    "msg_ls = response_json['messages']"
   ]
  },
  {
   "cell_type": "code",
   "execution_count": 20,
   "metadata": {
    "colab": {
     "base_uri": "https://localhost:8080/"
    },
    "id": "KkYO1KcBtZa9",
    "outputId": "7a76397b-202b-445e-aa26-f4b30cfc9a53"
   },
   "outputs": [
    {
     "data": {
      "text/plain": [
       "{'type': 'message',\n",
       " 'subtype': 'channel_join',\n",
       " 'ts': '1622694679.000700',\n",
       " 'user': 'U0226MQ73MJ',\n",
       " 'text': '<@U0226MQ73MJ> has joined the channel',\n",
       " 'inviter': 'U01BE2PR6LU'}"
      ]
     },
     "execution_count": 20,
     "metadata": {},
     "output_type": "execute_result"
    }
   ],
   "source": [
    "msg_ls[0]"
   ]
  },
  {
   "cell_type": "code",
   "execution_count": 21,
   "metadata": {
    "id": "BsW8CXAXv-tC"
   },
   "outputs": [],
   "source": [
    "not_learners_id = ['U01BE2PR6LU']"
   ]
  },
  {
   "cell_type": "code",
   "execution_count": 22,
   "metadata": {
    "colab": {
     "base_uri": "https://localhost:8080/"
    },
    "id": "XOvJ5kGCsmAD",
    "outputId": "79567aaf-62bd-4091-deca-6e13c1c80e79",
    "scrolled": true
   },
   "outputs": [
    {
     "name": "stdout",
     "output_type": "stream",
     "text": [
      "['https://github.com/nguyenhonghanh2511/']\n",
      "['https://github.com/nguyenhonghanh2511/', 'https://github.com/nguyenhonghanh2511/']\n",
      "['https://github.com/cnhhoang850/']\n",
      "['https://github.com/lethuthao1368/']\n",
      "['https://github.com/hoaintp/']\n",
      "['https://github.com/annaho124/']\n",
      "[]\n",
      "['https://github.com/chuviethongfpt/']\n",
      "[]\n"
     ]
    },
    {
     "data": {
      "text/html": [
       "<div>\n",
       "<style scoped>\n",
       "    .dataframe tbody tr th:only-of-type {\n",
       "        vertical-align: middle;\n",
       "    }\n",
       "\n",
       "    .dataframe tbody tr th {\n",
       "        vertical-align: top;\n",
       "    }\n",
       "\n",
       "    .dataframe thead th {\n",
       "        text-align: right;\n",
       "    }\n",
       "</style>\n",
       "<table border=\"1\" class=\"dataframe\">\n",
       "  <thead>\n",
       "    <tr style=\"text-align: right;\">\n",
       "      <th></th>\n",
       "      <th>github</th>\n",
       "      <th>reply_count</th>\n",
       "      <th>reply_users_count</th>\n",
       "      <th>reply_users</th>\n",
       "      <th>latest_reply</th>\n",
       "    </tr>\n",
       "  </thead>\n",
       "  <tbody>\n",
       "    <tr>\n",
       "      <th>0</th>\n",
       "      <td>https://github.com/nguyenhonghanh2511/</td>\n",
       "      <td>1</td>\n",
       "      <td>1</td>\n",
       "      <td>[U01UTGRMGEQ]</td>\n",
       "      <td>2021-05-22 21:18:58.019900</td>\n",
       "    </tr>\n",
       "    <tr>\n",
       "      <th>1</th>\n",
       "      <td>https://github.com/nguyenhonghanh2511/</td>\n",
       "      <td>2</td>\n",
       "      <td>2</td>\n",
       "      <td>[U01UJ9MUADT, U01UTGRMGEQ]</td>\n",
       "      <td>2021-05-23 10:49:36.022700</td>\n",
       "    </tr>\n",
       "    <tr>\n",
       "      <th>2</th>\n",
       "      <td>https://github.com/cnhhoang850/</td>\n",
       "      <td>1</td>\n",
       "      <td>1</td>\n",
       "      <td>[U01UMJ5AQ0K]</td>\n",
       "      <td>2021-05-22 08:42:07.009000</td>\n",
       "    </tr>\n",
       "    <tr>\n",
       "      <th>3</th>\n",
       "      <td>https://github.com/lethuthao1368/</td>\n",
       "      <td>2</td>\n",
       "      <td>2</td>\n",
       "      <td>[U01V00JK9LH, U01V082PLN5]</td>\n",
       "      <td>2021-05-22 13:20:45.016200</td>\n",
       "    </tr>\n",
       "    <tr>\n",
       "      <th>4</th>\n",
       "      <td>https://github.com/hoaintp/</td>\n",
       "      <td>2</td>\n",
       "      <td>2</td>\n",
       "      <td>[U01UJ9PA0MB, U01UTGVPE7N]</td>\n",
       "      <td>2021-05-25 01:10:16.027500</td>\n",
       "    </tr>\n",
       "    <tr>\n",
       "      <th>5</th>\n",
       "      <td>https://github.com/annaho124/</td>\n",
       "      <td>4</td>\n",
       "      <td>3</td>\n",
       "      <td>[U01UMJ451V1, U01UMC0N5U2, U01UMJ36QD9]</td>\n",
       "      <td>2021-05-21 21:25:32.007200</td>\n",
       "    </tr>\n",
       "    <tr>\n",
       "      <th>6</th>\n",
       "      <td>https://github.com/chuviethongfpt/</td>\n",
       "      <td>9</td>\n",
       "      <td>3</td>\n",
       "      <td>[U01UMJ36QD9, U01UMC0N5U2, U01UMBW8G8J]</td>\n",
       "      <td>2021-05-22 19:30:18.017600</td>\n",
       "    </tr>\n",
       "  </tbody>\n",
       "</table>\n",
       "</div>"
      ],
      "text/plain": [
       "                                   github  reply_count  reply_users_count  \\\n",
       "0  https://github.com/nguyenhonghanh2511/            1                  1   \n",
       "1  https://github.com/nguyenhonghanh2511/            2                  2   \n",
       "2         https://github.com/cnhhoang850/            1                  1   \n",
       "3       https://github.com/lethuthao1368/            2                  2   \n",
       "4             https://github.com/hoaintp/            2                  2   \n",
       "5           https://github.com/annaho124/            4                  3   \n",
       "6      https://github.com/chuviethongfpt/            9                  3   \n",
       "\n",
       "                               reply_users               latest_reply  \n",
       "0                            [U01UTGRMGEQ] 2021-05-22 21:18:58.019900  \n",
       "1               [U01UJ9MUADT, U01UTGRMGEQ] 2021-05-23 10:49:36.022700  \n",
       "2                            [U01UMJ5AQ0K] 2021-05-22 08:42:07.009000  \n",
       "3               [U01V00JK9LH, U01V082PLN5] 2021-05-22 13:20:45.016200  \n",
       "4               [U01UJ9PA0MB, U01UTGVPE7N] 2021-05-25 01:10:16.027500  \n",
       "5  [U01UMJ451V1, U01UMC0N5U2, U01UMJ36QD9] 2021-05-21 21:25:32.007200  \n",
       "6  [U01UMJ36QD9, U01UMC0N5U2, U01UMBW8G8J] 2021-05-22 19:30:18.017600  "
      ]
     },
     "execution_count": 22,
     "metadata": {},
     "output_type": "execute_result"
    }
   ],
   "source": [
    "## Summarize all submitted assignments + reviews cnt\n",
    "not_learners_id = ['U01BE2PR6LU'] # -> Remove MA from the user_id\n",
    "msg_lk = []\n",
    "\n",
    "msg_dict = {'github': [], 'reply_count': [], 'reply_users_count': [], 'reply_users': [], 'latest_reply':[] } \n",
    "for i in range(len(msg_ls)):\n",
    "  ts = dt.fromtimestamp(float(msg_ls[i]['ts'])) # -> Convert timestamp Epoch thành dàng dễ đọc\n",
    "  user = msg_ls[i]['user'] # -> Lấy thông tin người post messages\n",
    "  if msg_ls[i]['user'] not in not_learners_id:\n",
    "    if 'attachments' in msg_ls[i].keys():\n",
    "      text = msg_ls[i]['text']\n",
    "      github_link = re.findall('(?:https?://)?(?:www[.])?github[.]com/[\\w-]+/?', text) #-> Submission là các message có link github\n",
    "      print(github_link)\n",
    "      if len(github_link) > 0: \n",
    "        msg_dict['github'].append(github_link[0])\n",
    "\n",
    "        if 'reply_count' in msg_ls[i].keys(): \n",
    "            msg_dict['reply_count'].append(msg_ls[i]['reply_count']) \n",
    "        else: msg_dict['reply_count'].append('') #-> Extract số review\n",
    "        if 'reply_users_count' in msg_ls[i].keys(): \n",
    "            msg_dict['reply_users_count'].append(msg_ls[i]['reply_users_count'])\n",
    "        else: msg_dict['reply_users_count'].append('')\n",
    "        if 'reply_users' in msg_ls[i].keys(): \n",
    "            msg_dict['reply_users'].append(msg_ls[i]['reply_users'])\n",
    "        else: msg_dict['reply_users'].append('')\n",
    "        if 'latest_reply' in msg_ls[i].keys(): \n",
    "            msg_dict['latest_reply'].append(dt.fromtimestamp(float(msg_ls[i]['latest_reply'])))\n",
    "        else: msg_dict['latest_reply'].append('')\n",
    "\n",
    "\n",
    "msg_df = pd.DataFrame(msg_dict)\n",
    "msg_df"
   ]
  },
  {
   "cell_type": "markdown",
   "metadata": {
    "id": "SgSC21qO3kKA"
   },
   "source": [
    "### TODO#4\n",
    "\n",
    "* Tạo thành 1 bảng chứa các thông tin trên và update lên Spreadsheet (Sheet: Assignment#2 Submission)"
   ]
  },
  {
   "cell_type": "code",
   "execution_count": 23,
   "metadata": {},
   "outputs": [],
   "source": [
    "sheet_index_no = 1\n",
    "spreadsheet_key = '1mrHOuXzCOtgsIPQcm-pg8VK6uE3DM91u-RGXO_Vfexs' # input SPREADSHEET_KEY HERE\n",
    "sh = gc.open_by_key(spreadsheet_key)\n",
    "worksheet2 = sh.get_worksheet(sheet_index_no) #-> 0 - first sheet, 1 - second sheet etc. \n",
    "set_with_dataframe(worksheet2, msg_df)\n"
   ]
  },
  {
   "cell_type": "markdown",
   "metadata": {
    "id": "698exK3k35RM"
   },
   "source": [
    "-------------- HẾT PHẦN OPTION 2 ---------------------"
   ]
  },
  {
   "cell_type": "code",
   "execution_count": null,
   "metadata": {},
   "outputs": [],
   "source": []
  },
  {
   "cell_type": "code",
   "execution_count": null,
   "metadata": {},
   "outputs": [],
   "source": []
  },
  {
   "cell_type": "code",
   "execution_count": null,
   "metadata": {},
   "outputs": [],
   "source": []
  },
  {
   "cell_type": "code",
   "execution_count": null,
   "metadata": {},
   "outputs": [],
   "source": []
  }
 ],
 "metadata": {
  "colab": {
   "collapsed_sections": [],
   "name": "Slack-Data.ipynb",
   "provenance": []
  },
  "kernelspec": {
   "display_name": "Python 3",
   "language": "python",
   "name": "python3"
  },
  "language_info": {
   "codemirror_mode": {
    "name": "ipython",
    "version": 3
   },
   "file_extension": ".py",
   "mimetype": "text/x-python",
   "name": "python",
   "nbconvert_exporter": "python",
   "pygments_lexer": "ipython3",
   "version": "3.9.5"
  }
 },
 "nbformat": 4,
 "nbformat_minor": 1
}
